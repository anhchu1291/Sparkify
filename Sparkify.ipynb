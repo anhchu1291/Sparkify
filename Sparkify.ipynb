{
 "cells": [
  {
   "cell_type": "code",
   "execution_count": 3,
   "metadata": {},
   "outputs": [
    {
     "data": {
      "text/plain": [
       "[Row(artist='Martin Orford', auth='Logged In', firstName='Joseph', gender='M', itemInSession=20, lastName='Morales', length=597.55057, level='free', location='Corpus Christi, TX', method='PUT', page='NextSong', registration=1532063507000, sessionId=292, song='Grand Designs', status=200, ts=1538352011000, userAgent='\"Mozilla/5.0 (Macintosh; Intel Mac OS X 10_9_4) AppleWebKit/537.36 (KHTML, like Gecko) Chrome/36.0.1985.125 Safari/537.36\"', userId='293'),\n",
       " Row(artist=\"John Brown's Body\", auth='Logged In', firstName='Sawyer', gender='M', itemInSession=74, lastName='Larson', length=380.21179, level='free', location='Houston-The Woodlands-Sugar Land, TX', method='PUT', page='NextSong', registration=1538069638000, sessionId=97, song='Bulls', status=200, ts=1538352025000, userAgent='\"Mozilla/5.0 (Macintosh; Intel Mac OS X 10_9_4) AppleWebKit/537.36 (KHTML, like Gecko) Chrome/36.0.1985.143 Safari/537.36\"', userId='98'),\n",
       " Row(artist='Afroman', auth='Logged In', firstName='Maverick', gender='M', itemInSession=184, lastName='Santiago', length=202.37016, level='paid', location='Orlando-Kissimmee-Sanford, FL', method='PUT', page='NextSong', registration=1535953455000, sessionId=178, song='Because I Got High', status=200, ts=1538352118000, userAgent='\"Mozilla/5.0 (Macintosh; Intel Mac OS X 10_9_4) AppleWebKit/537.36 (KHTML, like Gecko) Chrome/36.0.1985.143 Safari/537.36\"', userId='179'),\n",
       " Row(artist=None, auth='Logged In', firstName='Maverick', gender='M', itemInSession=185, lastName='Santiago', length=None, level='paid', location='Orlando-Kissimmee-Sanford, FL', method='PUT', page='Logout', registration=1535953455000, sessionId=178, song=None, status=307, ts=1538352119000, userAgent='\"Mozilla/5.0 (Macintosh; Intel Mac OS X 10_9_4) AppleWebKit/537.36 (KHTML, like Gecko) Chrome/36.0.1985.143 Safari/537.36\"', userId='179'),\n",
       " Row(artist='Lily Allen', auth='Logged In', firstName='Gianna', gender='F', itemInSession=22, lastName='Campos', length=194.53342, level='paid', location='Mobile, AL', method='PUT', page='NextSong', registration=1535931018000, sessionId=245, song='Smile (Radio Edit)', status=200, ts=1538352124000, userAgent='Mozilla/5.0 (Windows NT 6.1; WOW64; rv:31.0) Gecko/20100101 Firefox/31.0', userId='246')]"
      ]
     },
     "execution_count": 3,
     "metadata": {},
     "output_type": "execute_result"
    }
   ],
   "source": [
    "\n",
    "import ibmos2spark\n",
    "# @hidden_cell\n",
    "credentials = {\n",
    "    'endpoint': 'https://s3-api.us-geo.objectstorage.service.networklayer.com',\n",
    "    'service_id': 'iam-ServiceId-4749bc73-2bb7-4155-b345-28d6fde6d97c',\n",
    "    'iam_service_endpoint': 'https://iam.ng.bluemix.net/oidc/token',\n",
    "    'api_key': 'cil43xaAaMIgSyp6tdqioOE9dJSKb1wT9_nMPXwdfyuZ'\n",
    "}\n",
    "\n",
    "configuration_name = 'os_362c3529afdf436e8dc3c5cb207484d1_configs'\n",
    "cos = ibmos2spark.CloudObjectStorage(sc, credentials, configuration_name, 'bluemix_cos')\n",
    "\n",
    "from pyspark.sql import SparkSession\n",
    "spark = SparkSession.builder.getOrCreate()\n",
    "# Since JSON data can be semi-structured and contain additional metadata, it is possible that you might face issues with the DataFrame layout.\n",
    "# Please read the documentation of 'SparkSession.read()' to learn more about the possibilities to adjust the data loading.\n",
    "# PySpark documentation: http://spark.apache.org/docs/2.0.2/api/python/pyspark.sql.html#pyspark.sql.DataFrameReader.json\n",
    "\n",
    "spark_data = spark.read.json(cos.url('medium-sparkify-event-data.json', 'sparkify-donotdelete-pr-igw07vjrf2o5ef'))\n",
    "spark_data.take(5)\n"
   ]
  },
  {
   "cell_type": "code",
   "execution_count": 4,
   "metadata": {},
   "outputs": [],
   "source": [
    "# import libraries\n",
    "from pyspark.sql import SparkSession, Window\n",
    "from pyspark.sql.functions import udf\n",
    "from pyspark.sql.types import StringType, IntegerType\n",
    "from pyspark.sql.functions import *\n",
    "from pyspark.sql.functions import sum as Fsum\n",
    "\n",
    "import pandas as pd\n",
    "import numpy as np\n",
    "import matplotlib.pyplot as plt\n",
    "import seaborn as sns\n",
    "%matplotlib inline\n",
    "\n",
    "from pyspark.ml.feature import OneHotEncoder, StringIndexer, StandardScaler, Imputer, VectorAssembler,MinMaxScaler\n",
    "from pyspark.ml import Pipeline, PipelineModel\n",
    "from pyspark.ml.evaluation import BinaryClassificationEvaluator, MulticlassClassificationEvaluator \n",
    "from pyspark.mllib.evaluation import MulticlassMetrics \n",
    "from pyspark.ml.classification import RandomForestClassifier, LogisticRegression, DecisionTreeClassifier\n",
    "\n",
    "from pyspark.ml.tuning import ParamGridBuilder, CrossValidator"
   ]
  },
  {
   "cell_type": "code",
   "execution_count": 5,
   "metadata": {},
   "outputs": [
    {
     "name": "stdout",
     "output_type": "stream",
     "text": [
      "root\n",
      " |-- artist: string (nullable = true)\n",
      " |-- auth: string (nullable = true)\n",
      " |-- firstName: string (nullable = true)\n",
      " |-- gender: string (nullable = true)\n",
      " |-- itemInSession: long (nullable = true)\n",
      " |-- lastName: string (nullable = true)\n",
      " |-- length: double (nullable = true)\n",
      " |-- level: string (nullable = true)\n",
      " |-- location: string (nullable = true)\n",
      " |-- method: string (nullable = true)\n",
      " |-- page: string (nullable = true)\n",
      " |-- registration: long (nullable = true)\n",
      " |-- sessionId: long (nullable = true)\n",
      " |-- song: string (nullable = true)\n",
      " |-- status: long (nullable = true)\n",
      " |-- ts: long (nullable = true)\n",
      " |-- userAgent: string (nullable = true)\n",
      " |-- userId: string (nullable = true)\n",
      "\n"
     ]
    }
   ],
   "source": [
    "spark_data.printSchema()"
   ]
  },
  {
   "cell_type": "code",
   "execution_count": 6,
   "metadata": {},
   "outputs": [
    {
     "name": "stdout",
     "output_type": "stream",
     "text": [
      "Number of records in the dataset: 543705\n",
      "+-------+------------------+\n",
      "|summary|         sessionId|\n",
      "+-------+------------------+\n",
      "|  count|            543705|\n",
      "|   mean|2040.8143533717732|\n",
      "| stddev| 1434.338931078271|\n",
      "|    min|                 1|\n",
      "|    max|              4808|\n",
      "+-------+------------------+\n",
      "\n",
      "+-------+------------------+\n",
      "|summary|            userId|\n",
      "+-------+------------------+\n",
      "|  count|            543705|\n",
      "|   mean| 60268.42669103512|\n",
      "| stddev|109898.82324176628|\n",
      "|    min|                  |\n",
      "|    max|                99|\n",
      "+-------+------------------+\n",
      "\n",
      "+-------+-----------------+\n",
      "|summary|           artist|\n",
      "+-------+-----------------+\n",
      "|  count|           432877|\n",
      "|   mean|527.5289537712895|\n",
      "| stddev|966.1072451772758|\n",
      "|    min|              !!!|\n",
      "|    max|ÃÂlafur Arnalds|\n",
      "+-------+-----------------+\n",
      "\n"
     ]
    }
   ],
   "source": [
    "print(\"Number of records in the dataset:\", spark_data.count())\n",
    "spark_data.describe('sessionId').show()\n",
    "spark_data.describe('userId').show()\n",
    "spark_data.describe('artist').show()"
   ]
  },
  {
   "cell_type": "code",
   "execution_count": 7,
   "metadata": {},
   "outputs": [],
   "source": [
    "#Drop null values in the userID and sessionID column \n",
    "spark_data_valid = spark_data.dropna(how='any',subset = ['userID','sessionID'])\n",
    "\n",
    "#rows with UserID is blank\n",
    "spark_data_invalid = spark_data_valid.filter(spark_data_valid['userID']=='')\n",
    "\n",
    "#Filter out rows with UserID is blank\n",
    "spark_data_valid = spark_data_valid.filter(spark_data_valid['userID']!='')"
   ]
  },
  {
   "cell_type": "code",
   "execution_count": 8,
   "metadata": {},
   "outputs": [
    {
     "data": {
      "text/plain": [
       "[Row(artist=None, auth='Logged Out', firstName=None, gender=None, itemInSession=186, lastName=None, length=None, level='paid', location=None, method='GET', page='Home', registration=None, sessionId=178, song=None, status=200, ts=1538352148000, userAgent=None, userId=''),\n",
       " Row(artist=None, auth='Logged Out', firstName=None, gender=None, itemInSession=187, lastName=None, length=None, level='paid', location=None, method='GET', page='Home', registration=None, sessionId=178, song=None, status=200, ts=1538352151000, userAgent=None, userId=''),\n",
       " Row(artist=None, auth='Logged Out', firstName=None, gender=None, itemInSession=188, lastName=None, length=None, level='paid', location=None, method='GET', page='Home', registration=None, sessionId=178, song=None, status=200, ts=1538352168000, userAgent=None, userId=''),\n",
       " Row(artist=None, auth='Logged Out', firstName=None, gender=None, itemInSession=189, lastName=None, length=None, level='paid', location=None, method='PUT', page='Login', registration=None, sessionId=178, song=None, status=307, ts=1538352169000, userAgent=None, userId=''),\n",
       " Row(artist=None, auth='Logged Out', firstName=None, gender=None, itemInSession=114, lastName=None, length=None, level='free', location=None, method='GET', page='Home', registration=None, sessionId=442, song=None, status=200, ts=1538353292000, userAgent=None, userId='')]"
      ]
     },
     "execution_count": 8,
     "metadata": {},
     "output_type": "execute_result"
    }
   ],
   "source": [
    "spark_data_invalid.take(5)"
   ]
  },
  {
   "cell_type": "code",
   "execution_count": 9,
   "metadata": {},
   "outputs": [
    {
     "name": "stdout",
     "output_type": "stream",
     "text": [
      "# of Records after removing blank userID: 528005\n",
      "# of Records with blank userID: 15700\n"
     ]
    }
   ],
   "source": [
    "print('# of Records after removing blank userID:', spark_data_valid.count())\n",
    "print('# of Records with blank userID:', spark_data.count()-spark_data_valid.count())"
   ]
  },
  {
   "cell_type": "code",
   "execution_count": 10,
   "metadata": {},
   "outputs": [
    {
     "name": "stdout",
     "output_type": "stream",
     "text": [
      "+--------------------+\n",
      "|                page|\n",
      "+--------------------+\n",
      "|              Cancel|\n",
      "|    Submit Downgrade|\n",
      "|         Thumbs Down|\n",
      "|                Home|\n",
      "|           Downgrade|\n",
      "|         Roll Advert|\n",
      "|              Logout|\n",
      "|       Save Settings|\n",
      "|Cancellation Conf...|\n",
      "|               About|\n",
      "|            Settings|\n",
      "|     Add to Playlist|\n",
      "|          Add Friend|\n",
      "|            NextSong|\n",
      "|           Thumbs Up|\n",
      "|                Help|\n",
      "|             Upgrade|\n",
      "|               Error|\n",
      "|      Submit Upgrade|\n",
      "+--------------------+\n",
      "\n"
     ]
    }
   ],
   "source": [
    "# List of page values\n",
    "spark_data_valid.select('page').dropDuplicates().show()"
   ]
  },
  {
   "cell_type": "code",
   "execution_count": 11,
   "metadata": {},
   "outputs": [
    {
     "name": "stdout",
     "output_type": "stream",
     "text": [
      "+--------------------+-----+\n",
      "|           userAgent|count|\n",
      "+--------------------+-----+\n",
      "|\"Mozilla/5.0 (Win...|   39|\n",
      "|Mozilla/5.0 (Wind...|   34|\n",
      "|\"Mozilla/5.0 (Mac...|   30|\n",
      "|\"Mozilla/5.0 (Mac...|   25|\n",
      "|\"Mozilla/5.0 (Mac...|   22|\n",
      "|\"Mozilla/5.0 (Win...|   22|\n",
      "|\"Mozilla/5.0 (Mac...|   21|\n",
      "|Mozilla/5.0 (Maci...|   17|\n",
      "|Mozilla/5.0 (Wind...|   15|\n",
      "|\"Mozilla/5.0 (Mac...|   14|\n",
      "|\"Mozilla/5.0 (Win...|   12|\n",
      "|Mozilla/5.0 (Wind...|   11|\n",
      "|\"Mozilla/5.0 (iPh...|   11|\n",
      "|\"Mozilla/5.0 (Win...|    9|\n",
      "|\"Mozilla/5.0 (Win...|    9|\n",
      "|Mozilla/5.0 (X11;...|    7|\n",
      "|\"Mozilla/5.0 (iPh...|    6|\n",
      "|Mozilla/5.0 (comp...|    6|\n",
      "|\"Mozilla/5.0 (Win...|    6|\n",
      "|\"Mozilla/5.0 (X11...|    6|\n",
      "|\"Mozilla/5.0 (iPa...|    6|\n",
      "|\"Mozilla/5.0 (Win...|    6|\n",
      "|\"Mozilla/5.0 (Win...|    6|\n",
      "|\"Mozilla/5.0 (Win...|    5|\n",
      "|\"Mozilla/5.0 (Win...|    5|\n",
      "|Mozilla/5.0 (Wind...|    5|\n",
      "|Mozilla/5.0 (Wind...|    4|\n",
      "|\"Mozilla/5.0 (Win...|    4|\n",
      "|Mozilla/5.0 (Wind...|    4|\n",
      "|Mozilla/5.0 (Wind...|    3|\n",
      "|\"Mozilla/5.0 (Mac...|    3|\n",
      "|\"Mozilla/5.0 (Mac...|    3|\n",
      "|\"Mozilla/5.0 (Mac...|    3|\n",
      "|\"Mozilla/5.0 (Mac...|    3|\n",
      "|\"Mozilla/5.0 (Win...|    3|\n",
      "|\"Mozilla/5.0 (Mac...|    3|\n",
      "|Mozilla/5.0 (comp...|    3|\n",
      "|\"Mozilla/5.0 (iPa...|    3|\n",
      "|\"Mozilla/5.0 (Mac...|    3|\n",
      "|\"Mozilla/5.0 (X11...|    3|\n",
      "|Mozilla/5.0 (X11;...|    2|\n",
      "|Mozilla/5.0 (comp...|    2|\n",
      "|\"Mozilla/5.0 (Mac...|    2|\n",
      "|Mozilla/5.0 (X11;...|    2|\n",
      "|Mozilla/5.0 (Maci...|    2|\n",
      "|Mozilla/5.0 (Maci...|    2|\n",
      "|\"Mozilla/5.0 (Mac...|    2|\n",
      "|\"Mozilla/5.0 (X11...|    2|\n",
      "|\"Mozilla/5.0 (Mac...|    2|\n",
      "|\"Mozilla/5.0 (Mac...|    2|\n",
      "|Mozilla/5.0 (X11;...|    2|\n",
      "|Mozilla/5.0 (comp...|    2|\n",
      "|\"Mozilla/5.0 (Mac...|    2|\n",
      "|Mozilla/5.0 (Wind...|    2|\n",
      "|\"Mozilla/5.0 (Mac...|    2|\n",
      "|\"Mozilla/5.0 (Mac...|    2|\n",
      "|\"Mozilla/5.0 (Mac...|    2|\n",
      "|Mozilla/5.0 (Wind...|    1|\n",
      "|\"Mozilla/5.0 (Mac...|    1|\n",
      "|\"Mozilla/5.0 (Win...|    1|\n",
      "|Mozilla/5.0 (Maci...|    1|\n",
      "|\"Mozilla/5.0 (Win...|    1|\n",
      "|\"Mozilla/5.0 (Mac...|    1|\n",
      "|\"Mozilla/5.0 (iPh...|    1|\n",
      "|Mozilla/5.0 (Wind...|    1|\n",
      "|Mozilla/5.0 (Maci...|    1|\n",
      "|\"Mozilla/5.0 (Mac...|    1|\n",
      "|\"Mozilla/5.0 (X11...|    1|\n",
      "|\"Mozilla/5.0 (X11...|    1|\n",
      "|Mozilla/5.0 (Wind...|    1|\n",
      "|\"Mozilla/5.0 (Mac...|    1|\n",
      "+--------------------+-----+\n",
      "\n"
     ]
    }
   ],
   "source": [
    "# number of users by userAgent (dedup userId)\n",
    "spark_data_valid.select(['userId','userAgent']).dropDuplicates().groupBy('userAgent').count().sort(desc('count')).show(100)"
   ]
  },
  {
   "cell_type": "code",
   "execution_count": 12,
   "metadata": {},
   "outputs": [
    {
     "name": "stdout",
     "output_type": "stream",
     "text": [
      "+------+-----+\n",
      "|userId|count|\n",
      "+------+-----+\n",
      "|   125|    1|\n",
      "|     7|    1|\n",
      "|    51|    1|\n",
      "|   124|    1|\n",
      "|100010|    1|\n",
      "|200002|    1|\n",
      "|   296|    1|\n",
      "|200037|    1|\n",
      "|   282|    1|\n",
      "|   234|    1|\n",
      "|    54|    1|\n",
      "|   232|    1|\n",
      "|    15|    1|\n",
      "|   169|    1|\n",
      "|   205|    1|\n",
      "|   155|    1|\n",
      "|200043|    1|\n",
      "|   272|    1|\n",
      "|100014|    1|\n",
      "|   154|    1|\n",
      "+------+-----+\n",
      "only showing top 20 rows\n",
      "\n"
     ]
    }
   ],
   "source": [
    "#can 1 user has multiple agents? Maybe Not :)\"\n",
    "spark_data_valid.select(['userId','userAgent']).dropDuplicates().groupBy('userId').count().sort(desc('count')).show(20)"
   ]
  },
  {
   "cell_type": "code",
   "execution_count": 37,
   "metadata": {},
   "outputs": [
    {
     "name": "stdout",
     "output_type": "stream",
     "text": [
      "# Users: 448\n",
      "+------+-----+\n",
      "|gender|count|\n",
      "+------+-----+\n",
      "|     F|  198|\n",
      "|     M|  250|\n",
      "+------+-----+\n",
      "\n",
      "+--------------------+-----+\n",
      "|              artist|count|\n",
      "+--------------------+-----+\n",
      "|       Kings Of Leon| 3497|\n",
      "|            Coldplay| 3439|\n",
      "|Florence + The Ma...| 2314|\n",
      "|                Muse| 2194|\n",
      "|       Dwight Yoakam| 2187|\n",
      "|      The Black Keys| 2160|\n",
      "|            BjÃÂ¶rk| 2150|\n",
      "|       Justin Bieber| 2096|\n",
      "|        Jack Johnson| 2049|\n",
      "|           Radiohead| 1694|\n",
      "+--------------------+-----+\n",
      "only showing top 10 rows\n",
      "\n",
      "+------+--------------+\n",
      "|userID|sessionIdCount|\n",
      "+------+--------------+\n",
      "|300049|            92|\n",
      "|300035|            88|\n",
      "|    92|            72|\n",
      "|300017|            71|\n",
      "|   140|            69|\n",
      "|    87|            64|\n",
      "|300011|            60|\n",
      "|200023|            59|\n",
      "|   293|            58|\n",
      "|   195|            58|\n",
      "|   230|            56|\n",
      "|   101|            53|\n",
      "|    42|            52|\n",
      "|300021|            51|\n",
      "|   250|            46|\n",
      "|300031|            45|\n",
      "|   121|            43|\n",
      "|    29|            39|\n",
      "|   100|            39|\n",
      "|300038|            39|\n",
      "+------+--------------+\n",
      "only showing top 20 rows\n",
      "\n"
     ]
    }
   ],
   "source": [
    "# number of unique users\n",
    "print('# Users:',spark_data_valid.select(['userId']).dropDuplicates().count())\n",
    "\n",
    "# number of users by Gender (dedup userId)\n",
    "spark_data_valid.select(['userId','gender']).dropDuplicates().groupBy('gender').count().show()\n",
    "\n",
    "# number of songs played by the most played artists\n",
    "artist_chart = spark_data_valid.dropna(how='any',subset=['artist'])\\\n",
    ".groupBy('artist').count().sort(desc('count')).show(10)\n",
    "\n",
    "# how many distinct sessions per user\n",
    "spark_data_valid.groupBy('userID')\\\n",
    "    .agg(countDistinct(\"sessionId\"))\\\n",
    "    .withColumnRenamed(\"count(DISTINCT sessionId)\", \"sessionIdCount\") \\\n",
    "    .sort(desc(\"sessionIdCount\")).show()"
   ]
  },
  {
   "cell_type": "code",
   "execution_count": 14,
   "metadata": {},
   "outputs": [
    {
     "name": "stdout",
     "output_type": "stream",
     "text": [
      "+---------------------+\n",
      "|avg(count(songCount))|\n",
      "+---------------------+\n",
      "|   23.692025614361558|\n",
      "+---------------------+\n",
      "\n"
     ]
    }
   ],
   "source": [
    "#### How many songs users listen to on average between visiting our home page?\n",
    "# SOLUTION USING SPARK DATAFRAME\n",
    "\n",
    "flag_home_func = udf(lambda x: 1 if x == 'Home' else 0, IntegerType())\n",
    "\n",
    "#Create User Window\n",
    "user_window = Window\\\n",
    "    .partitionBy('userId')\\\n",
    "    .orderBy('ts')\\\n",
    "    .rangeBetween(Window.unboundedPreceding,0)\n",
    "\n",
    "# create 'homeSession' column to flag home event and 'songCount' to flag song played during home events\n",
    "cusum = spark_data_valid.filter((spark_data_valid.page=='Home')| (spark_data_valid.page=='NextSong')) \\\n",
    "    .select(['userID','page','ts'])\\\n",
    "    .withColumn('homeSession',flag_home_func('page'))\\\n",
    "    .withColumn('songCount',Fsum('homeSession').over(user_window))\n",
    "\n",
    "#cusum.filter((cusum.userID == 126)).show()\n",
    "\n",
    "#calculate the average number of songs per user between vising homepage\n",
    "cusum.filter(cusum.page == 'NextSong') \\\n",
    "    .groupBy('userID', 'songCount') \\\n",
    "    .agg(count('songCount'))\\\n",
    "    .agg(avg('count(songCount)'))\\\n",
    "    .show()"
   ]
  },
  {
   "cell_type": "code",
   "execution_count": 15,
   "metadata": {},
   "outputs": [
    {
     "name": "stdout",
     "output_type": "stream",
     "text": [
      "+------------------+\n",
      "|avg(count_results)|\n",
      "+------------------+\n",
      "|23.672591053264792|\n",
      "+------------------+\n",
      "\n"
     ]
    }
   ],
   "source": [
    "# SOLUTION USING SPARK SQL\n",
    "spark_data_valid.createOrReplaceTempView(\"log_table\")\n",
    "\n",
    "# SELECT CASE WHEN 1 > 0 THEN 1 WHEN 2 > 0 THEN 2.0 ELSE 1.2 END;\n",
    "is_home = spark.sql(\"SELECT userID, page, ts, CASE WHEN page = 'Home' THEN 1 ELSE 0 END AS is_home FROM log_table \\\n",
    "            WHERE (page = 'NextSong') or (page = 'Home') \\\n",
    "            \")\n",
    "\n",
    "# keep the results in a new view\n",
    "is_home.createOrReplaceTempView(\"is_home_table\")\n",
    "\n",
    "# find the cumulative sum over the is_home column\n",
    "cumulative_sum = spark.sql(\"SELECT *, SUM(is_home) OVER \\\n",
    "    (PARTITION BY userID ORDER BY ts DESC ROWS BETWEEN UNBOUNDED PRECEDING AND CURRENT ROW) AS period \\\n",
    "    FROM is_home_table\")\n",
    "\n",
    "# keep the results in a view\n",
    "cumulative_sum.createOrReplaceTempView(\"period_table\")\n",
    "\n",
    "# find the average count for NextSong\n",
    "spark.sql(\"SELECT AVG(count_results) FROM \\\n",
    "          (SELECT COUNT(*) AS count_results FROM period_table \\\n",
    "GROUP BY userID, period, page HAVING page = 'NextSong') AS counts\").show()"
   ]
  },
  {
   "cell_type": "markdown",
   "metadata": {},
   "source": [
    "# Exploratory Data Analysis\n",
    "When you're working with the full dataset, perform EDA by loading a small subset of the data and doing basic manipulations within Spark. In this workspace, you are already provided a small subset of data you can explore.\n",
    "\n",
    "### Define Churn\n",
    "\n",
    "Once you've done some preliminary analysis, create a column `Churn` to use as the label for your model. I suggest using the `Cancellation Confirmation` events to define your churn, which happen for both paid and free users. As a bonus task, you can also look into the `Downgrade` events."
   ]
  },
  {
   "cell_type": "markdown",
   "metadata": {},
   "source": [
    "#### 1.FLAG CHURN EVENT"
   ]
  },
  {
   "cell_type": "code",
   "execution_count": 16,
   "metadata": {},
   "outputs": [
    {
     "data": {
      "text/plain": [
       "[Row(artist='Martin Orford', auth='Logged In', firstName='Joseph', gender='M', itemInSession=20, lastName='Morales', length=597.55057, level='free', location='Corpus Christi, TX', method='PUT', page='NextSong', registration=1532063507000, sessionId=292, song='Grand Designs', status=200, ts=1538352011000, userAgent='\"Mozilla/5.0 (Macintosh; Intel Mac OS X 10_9_4) AppleWebKit/537.36 (KHTML, like Gecko) Chrome/36.0.1985.125 Safari/537.36\"', userId='293', Churn=0)]"
      ]
     },
     "execution_count": 16,
     "metadata": {},
     "output_type": "execute_result"
    }
   ],
   "source": [
    "flag_cancel_event_func = udf(lambda x: 1 if x=='Cancellation Confirmation' else 0, IntegerType())\n",
    "spark_data_valid = spark_data_valid.withColumn('Churn',flag_cancel_event_func('page'))\n",
    "spark_data_valid.take(1)"
   ]
  },
  {
   "cell_type": "code",
   "execution_count": 17,
   "metadata": {},
   "outputs": [
    {
     "name": "stdout",
     "output_type": "stream",
     "text": [
      "+------+--------------------+----+---------+-----+-----+\n",
      "|userID|                page|song|sessionID|level|Churn|\n",
      "+------+--------------------+----+---------+-----+-----+\n",
      "|   208|Cancellation Conf...|null|      490| free|    1|\n",
      "|   231|Cancellation Conf...|null|      471| paid|    1|\n",
      "|   236|Cancellation Conf...|null|      682| paid|    1|\n",
      "|   156|Cancellation Conf...|null|      628| free|    1|\n",
      "|   271|Cancellation Conf...|null|      395| paid|    1|\n",
      "|   200|Cancellation Conf...|null|      862| paid|    1|\n",
      "|   130|Cancellation Conf...|null|     1027| free|    1|\n",
      "|   123|Cancellation Conf...|null|      480| free|    1|\n",
      "|    54|Cancellation Conf...|null|     1010| paid|    1|\n",
      "|    39|Cancellation Conf...|null|     1066| paid|    1|\n",
      "|   154|Cancellation Conf...|null|     1035| free|    1|\n",
      "|   132|Cancellation Conf...|null|      659| paid|    1|\n",
      "|    10|Cancellation Conf...|null|        9| paid|    1|\n",
      "|   296|Cancellation Conf...|null|     1228| paid|    1|\n",
      "|   187|Cancellation Conf...|null|      817| free|    1|\n",
      "|    51|Cancellation Conf...|null|     1443| paid|    1|\n",
      "|    13|Cancellation Conf...|null|     1796| paid|    1|\n",
      "|    32|Cancellation Conf...|null|     1881| paid|    1|\n",
      "|    28|Cancellation Conf...|null|     1927| paid|    1|\n",
      "|   198|Cancellation Conf...|null|     2206| paid|    1|\n",
      "+------+--------------------+----+---------+-----+-----+\n",
      "only showing top 20 rows\n",
      "\n"
     ]
    }
   ],
   "source": [
    "# Cancellation confirmation event\n",
    "spark_data_valid.select(['userID','page','song','sessionID','level','Churn']) \\\n",
    ".where(spark_data_valid['page']=='Cancellation Confirmation').show()"
   ]
  },
  {
   "cell_type": "code",
   "execution_count": 18,
   "metadata": {},
   "outputs": [],
   "source": [
    "#create downgrade event label\n",
    "flag_downgrade_event_func = udf(lambda x: 1 if x=='Submit Downgrade' else 0, IntegerType())\n",
    "spark_data_valid = spark_data_valid.withColumn('downgraded',flag_downgrade_event_func('page'))"
   ]
  },
  {
   "cell_type": "code",
   "execution_count": 19,
   "metadata": {},
   "outputs": [],
   "source": [
    "#create upgrade event label\n",
    "flag_upgrade_event_func = udf(lambda x: 1 if x=='Submit Upgrade' else 0, IntegerType())\n",
    "spark_data_valid = spark_data_valid.withColumn('upgraded',flag_upgrade_event_func('page'))"
   ]
  },
  {
   "cell_type": "code",
   "execution_count": 20,
   "metadata": {},
   "outputs": [],
   "source": [
    "#create paid level flag\n",
    "flag_paid = udf(lambda x: 1 if x=='paid' else 0, IntegerType())\n",
    "spark_data_valid = spark_data_valid.withColumn('paid',flag_paid('level'))"
   ]
  },
  {
   "cell_type": "code",
   "execution_count": 21,
   "metadata": {},
   "outputs": [],
   "source": [
    "#create thumb-up flag\n",
    "flag_thumbsup = udf(lambda x: 1 if x=='Thumbs Up' else 0, IntegerType())\n",
    "spark_data_valid = spark_data_valid.withColumn('thumbs_up',flag_thumbsup('page'))"
   ]
  },
  {
   "cell_type": "code",
   "execution_count": 22,
   "metadata": {},
   "outputs": [],
   "source": [
    "#create thumb-down flag\n",
    "flag_thumbsdown = udf(lambda x: 1 if x=='Thumbs Down' else 0, IntegerType())\n",
    "spark_data_valid = spark_data_valid.withColumn('thumbs_down',flag_thumbsdown('page'))"
   ]
  },
  {
   "cell_type": "code",
   "execution_count": 25,
   "metadata": {},
   "outputs": [
    {
     "data": {
      "text/plain": [
       "[Row(artist='Martin Orford', auth='Logged In', firstName='Joseph', gender='M', itemInSession=20, lastName='Morales', length=597.55057, level='free', location='Corpus Christi, TX', method='PUT', page='NextSong', registration=1532063507000, sessionId=292, song='Grand Designs', status=200, ts=1538352011000, userAgent='\"Mozilla/5.0 (Macintosh; Intel Mac OS X 10_9_4) AppleWebKit/537.36 (KHTML, like Gecko) Chrome/36.0.1985.125 Safari/537.36\"', userId='293', Churn=0, downgraded=0, upgraded=0, paid=0, thumbs_up=0, thumbs_down=0)]"
      ]
     },
     "execution_count": 25,
     "metadata": {},
     "output_type": "execute_result"
    }
   ],
   "source": [
    "spark_data_valid.take(1)"
   ]
  },
  {
   "cell_type": "markdown",
   "metadata": {},
   "source": [
    "#### 2.  EXPLORE DATA\n",
    "Once you've defined churn, perform some exploratory data analysis to observe the behavior for users who stayed vs users who churned. You can start by exploring aggregates on these two groups of users, observing how much of a specific action they experienced per a certain time unit or number of songs played."
   ]
  },
  {
   "cell_type": "code",
   "execution_count": 26,
   "metadata": {},
   "outputs": [
    {
     "name": "stdout",
     "output_type": "stream",
     "text": [
      "#users who churned: 99\n"
     ]
    }
   ],
   "source": [
    "# identify user_ids who churned\n",
    "churn_user_list = spark_data_valid.filter(spark_data_valid.Churn==1).select(['userId']).collect()\n",
    "churn_user_array = [int(row.userId) for row in churn_user_list]\n",
    "print(\"#users who churned:\", len(churn_user_array))"
   ]
  },
  {
   "cell_type": "code",
   "execution_count": 30,
   "metadata": {},
   "outputs": [
    {
     "name": "stdout",
     "output_type": "stream",
     "text": [
      "#users who stayed: 349\n"
     ]
    }
   ],
   "source": [
    "# identify user_ids who stayed\n",
    "all_user_list = spark_data_valid.select(['userId']).dropDuplicates().collect()\n",
    "all_user_array=[int(row.userId) for row in all_user_list]\n",
    "stay_user_array = list(set(all_user_array)-set(churn_user_array))\n",
    "print(\"#users who stayed:\", len(stay_user_array))"
   ]
  },
  {
   "cell_type": "markdown",
   "metadata": {},
   "source": [
    "### Compare churn_users and stay_users in term of:\n",
    "- % paid vs. % free users between churned users and stayed users\n",
    "- how many songs played by churned users and stayed users on average\n",
    "- how much time they spent on the site?\n",
    "- have they downgraded before ?\n",
    "- how many thumbs-up or thumbs-down did they have?"
   ]
  },
  {
   "cell_type": "code",
   "execution_count": 32,
   "metadata": {},
   "outputs": [],
   "source": [
    "# Create a View table for churn and stay spark dataframe\n",
    "spark_data_valid.createOrReplaceTempView(\"combinedView\")"
   ]
  },
  {
   "cell_type": "code",
   "execution_count": 63,
   "metadata": {},
   "outputs": [
    {
     "name": "stdout",
     "output_type": "stream",
     "text": [
      "+------+--------------------+------+---------------+-----------+---------+------------------+----------+--------+---------+-----------+-----+----+\n",
      "|userId|           userAgent|gender|distinctSession|artistCount|songCount|         totalTime|downgraded|upgraded|thumbs_up|thumbs_down|churn|paid|\n",
      "+------+--------------------+------+---------------+-----------+---------+------------------+----------+--------+---------+-----------+-----+----+\n",
      "|   296|\"Mozilla/5.0 (Mac...|     0|              5|        108|      112|28314.150059999996|         0|       1|        8|          0|    1|   1|\n",
      "|   109|Mozilla/5.0 (Wind...|     0|             12|        307|      356| 86472.74637000004|         0|       0|       21|          6|    0|   0|\n",
      "|   188|\"Mozilla/5.0 (Mac...|     0|             31|       1348|     2077|513580.11917999946|         0|       1|      101|         22|    1|   1|\n",
      "|   175|\"Mozilla/5.0 (Mac...|     0|             33|       1364|     2049| 514898.7671499997|         1|       1|      112|         13|    0|   1|\n",
      "|   245|\"Mozilla/5.0 (Win...|     0|              7|        234|      259|       69152.90135|         1|       0|       16|          1|    0|   1|\n",
      "|    82|\"Mozilla/5.0 (Mac...|     0|             19|        880|     1171|288002.42079999973|         0|       1|       70|          7|    0|   1|\n",
      "|   126|\"Mozilla/5.0 (Win...|     1|             28|       2075|     3548| 875889.1470299993|         0|       1|      167|         37|    1|   1|\n",
      "|   152|\"Mozilla/5.0 (Mac...|     0|              5|        158|      170| 41245.36285999999|         0|       0|       10|          2|    0|   0|\n",
      "|   251|\"Mozilla/5.0 (Mac...|     1|             23|       1315|     2072|512983.30200000096|         1|       2|      117|         16|    0|   1|\n",
      "|   222|\"Mozilla/5.0 (Win...|     0|             20|        471|      560|143805.10776000004|         0|       0|       29|          4|    0|   0|\n",
      "|200016|\"Mozilla/5.0 (Mac...|     0|              3|        211|      227| 55653.74846000003|         0|       1|       13|          8|    1|   1|\n",
      "|200049|\"Mozilla/5.0 (Mac...|     1|              3|         26|       26|        7730.19557|         0|       0|        3|          3|    0|   0|\n",
      "|   185|Mozilla/5.0 (Wind...|     1|             24|       1621|     2631| 648953.5565299987|         0|       1|      127|         30|    0|   1|\n",
      "|   123|\"Mozilla/5.0 (iPh...|     1|              1|         39|       39|        9644.59944|         0|       0|        2|          0|    1|   0|\n",
      "|    69|\"Mozilla/5.0 (Win...|     0|             12|        464|      548|136132.27075000003|         1|       1|       25|          4|    0|   1|\n",
      "|   240|\"Mozilla/5.0 (Mac...|     0|              3|         95|       99|23925.114320000004|         0|       0|        6|          0|    0|   0|\n",
      "|200004|\"Mozilla/5.0 (Mac...|     1|             32|       1004|     1430|354256.41273000004|         0|       1|       80|         42|    0|   1|\n",
      "|200009|\"Mozilla/5.0 (Win...|     1|             11|        287|      336| 85163.73331000001|         0|       0|       15|         11|    0|   0|\n",
      "|    12|Mozilla/5.0 (Wind...|     0|             24|       2025|     3548| 872550.9074000001|         1|       2|      172|         39|    0|   1|\n",
      "|    20|\"Mozilla/5.0 (Win...|     0|             19|       1421|     2158| 537371.2077399994|         0|       0|      115|         23|    0|   1|\n",
      "+------+--------------------+------+---------------+-----------+---------+------------------+----------+--------+---------+-----------+-----+----+\n",
      "only showing top 20 rows\n",
      "\n"
     ]
    }
   ],
   "source": [
    "#combine churn and stay df\n",
    "sqlCombined= 'select userId,userAgent,case when gender=\"F\" then 0 else 1 end as gender,\\\n",
    "    count(distinct sessionId) as distinctSession,\\\n",
    "    count(distinct artist) as artistCount,\\\n",
    "    count(song) as songCount, \\\n",
    "    sum(length) as totalTime,\\\n",
    "    sum(downgraded) as downgraded,\\\n",
    "    sum(upgraded) as upgraded,\\\n",
    "    sum(thumbs_up) as thumbs_up,\\\n",
    "    sum(thumbs_down) as thumbs_down,\\\n",
    "    sum(Churn) as churn,\\\n",
    "    case when sum(paid)>0 then 1\\\n",
    "    when sum(paid)=0 then 0\\\n",
    "    end as paid\\\n",
    "    from combinedView\\\n",
    "    group by userId,gender,userAgent'\n",
    "\n",
    "combined_agg_df = spark.sql(sqlCombined)\n",
    "combined_agg_df.show()"
   ]
  },
  {
   "cell_type": "code",
   "execution_count": 65,
   "metadata": {},
   "outputs": [
    {
     "name": "stdout",
     "output_type": "stream",
     "text": [
      "448\n"
     ]
    }
   ],
   "source": [
    "# convert dataframe for visualization\n",
    "print(combined_agg_df.count())\n",
    "combined_agg_pd = combined_agg_df.toPandas()"
   ]
  },
  {
   "cell_type": "code",
   "execution_count": 36,
   "metadata": {},
   "outputs": [
    {
     "data": {
      "text/html": [
       "<div>\n",
       "<style scoped>\n",
       "    .dataframe tbody tr th:only-of-type {\n",
       "        vertical-align: middle;\n",
       "    }\n",
       "\n",
       "    .dataframe tbody tr th {\n",
       "        vertical-align: top;\n",
       "    }\n",
       "\n",
       "    .dataframe thead th {\n",
       "        text-align: right;\n",
       "    }\n",
       "</style>\n",
       "<table border=\"1\" class=\"dataframe\">\n",
       "  <thead>\n",
       "    <tr style=\"text-align: right;\">\n",
       "      <th></th>\n",
       "      <th>userId</th>\n",
       "      <th>userAgent</th>\n",
       "      <th>gender</th>\n",
       "      <th>distinctSession</th>\n",
       "      <th>songCount</th>\n",
       "      <th>totalTime</th>\n",
       "      <th>downgraded</th>\n",
       "      <th>upgraded</th>\n",
       "      <th>thumbs_up</th>\n",
       "      <th>thumbs_down</th>\n",
       "      <th>churn</th>\n",
       "      <th>paid</th>\n",
       "    </tr>\n",
       "  </thead>\n",
       "  <tbody>\n",
       "    <tr>\n",
       "      <th>0</th>\n",
       "      <td>296</td>\n",
       "      <td>\"Mozilla/5.0 (Macintosh; Intel Mac OS X 10_9_4...</td>\n",
       "      <td>0</td>\n",
       "      <td>5</td>\n",
       "      <td>112</td>\n",
       "      <td>28314.15006</td>\n",
       "      <td>0</td>\n",
       "      <td>1</td>\n",
       "      <td>8</td>\n",
       "      <td>0</td>\n",
       "      <td>1</td>\n",
       "      <td>1</td>\n",
       "    </tr>\n",
       "    <tr>\n",
       "      <th>1</th>\n",
       "      <td>109</td>\n",
       "      <td>Mozilla/5.0 (Windows NT 6.1; WOW64; rv:31.0) G...</td>\n",
       "      <td>0</td>\n",
       "      <td>12</td>\n",
       "      <td>356</td>\n",
       "      <td>86472.74637</td>\n",
       "      <td>0</td>\n",
       "      <td>0</td>\n",
       "      <td>21</td>\n",
       "      <td>6</td>\n",
       "      <td>0</td>\n",
       "      <td>0</td>\n",
       "    </tr>\n",
       "    <tr>\n",
       "      <th>2</th>\n",
       "      <td>188</td>\n",
       "      <td>\"Mozilla/5.0 (Macintosh; Intel Mac OS X 10_9_4...</td>\n",
       "      <td>0</td>\n",
       "      <td>31</td>\n",
       "      <td>2077</td>\n",
       "      <td>513580.11918</td>\n",
       "      <td>0</td>\n",
       "      <td>1</td>\n",
       "      <td>101</td>\n",
       "      <td>22</td>\n",
       "      <td>1</td>\n",
       "      <td>1</td>\n",
       "    </tr>\n",
       "    <tr>\n",
       "      <th>3</th>\n",
       "      <td>175</td>\n",
       "      <td>\"Mozilla/5.0 (Macintosh; Intel Mac OS X 10_10_...</td>\n",
       "      <td>0</td>\n",
       "      <td>33</td>\n",
       "      <td>2049</td>\n",
       "      <td>514898.76715</td>\n",
       "      <td>1</td>\n",
       "      <td>1</td>\n",
       "      <td>112</td>\n",
       "      <td>13</td>\n",
       "      <td>0</td>\n",
       "      <td>1</td>\n",
       "    </tr>\n",
       "    <tr>\n",
       "      <th>4</th>\n",
       "      <td>245</td>\n",
       "      <td>\"Mozilla/5.0 (Windows NT 5.1) AppleWebKit/537....</td>\n",
       "      <td>0</td>\n",
       "      <td>7</td>\n",
       "      <td>259</td>\n",
       "      <td>69152.90135</td>\n",
       "      <td>1</td>\n",
       "      <td>0</td>\n",
       "      <td>16</td>\n",
       "      <td>1</td>\n",
       "      <td>0</td>\n",
       "      <td>1</td>\n",
       "    </tr>\n",
       "  </tbody>\n",
       "</table>\n",
       "</div>"
      ],
      "text/plain": [
       "  userId                                          userAgent  gender  \\\n",
       "0    296  \"Mozilla/5.0 (Macintosh; Intel Mac OS X 10_9_4...       0   \n",
       "1    109  Mozilla/5.0 (Windows NT 6.1; WOW64; rv:31.0) G...       0   \n",
       "2    188  \"Mozilla/5.0 (Macintosh; Intel Mac OS X 10_9_4...       0   \n",
       "3    175  \"Mozilla/5.0 (Macintosh; Intel Mac OS X 10_10_...       0   \n",
       "4    245  \"Mozilla/5.0 (Windows NT 5.1) AppleWebKit/537....       0   \n",
       "\n",
       "   distinctSession  songCount     totalTime  downgraded  upgraded  thumbs_up  \\\n",
       "0                5        112   28314.15006           0         1          8   \n",
       "1               12        356   86472.74637           0         0         21   \n",
       "2               31       2077  513580.11918           0         1        101   \n",
       "3               33       2049  514898.76715           1         1        112   \n",
       "4                7        259   69152.90135           1         0         16   \n",
       "\n",
       "   thumbs_down  churn  paid  \n",
       "0            0      1     1  \n",
       "1            6      0     0  \n",
       "2           22      1     1  \n",
       "3           13      0     1  \n",
       "4            1      0     1  "
      ]
     },
     "execution_count": 36,
     "metadata": {},
     "output_type": "execute_result"
    }
   ],
   "source": [
    "combined_agg_pd.head()"
   ]
  },
  {
   "cell_type": "code",
   "execution_count": 61,
   "metadata": {},
   "outputs": [
    {
     "name": "stdout",
     "output_type": "stream",
     "text": [
      "+-----+----+-----+\n",
      "|churn|paid|count|\n",
      "+-----+----+-----+\n",
      "|    0|   1|  246|\n",
      "|    0|   0|  103|\n",
      "|    1|   1|   75|\n",
      "|    1|   0|   24|\n",
      "+-----+----+-----+\n",
      "\n"
     ]
    }
   ],
   "source": [
    "combined_agg_df.select(['userId','paid','churn']).dropDuplicates().groupBy('churn','paid').count().sort(desc('count')).show()"
   ]
  },
  {
   "cell_type": "code",
   "execution_count": 39,
   "metadata": {},
   "outputs": [
    {
     "data": {
      "image/png": "[encoded data removed]",
      "text/plain": [
       "<Figure size 440x216 with 2 Axes>"
      ]
     },
     "metadata": {
      "needs_background": "light"
     },
     "output_type": "display_data"
    }
   ],
   "source": [
    "g = sns.FacetGrid(combined_agg_pd, palette=\"Set1\",col=\"churn\")\n",
    "g.map(sns.distplot,'totalTime')\n",
    "g.add_legend();"
   ]
  },
  {
   "cell_type": "code",
   "execution_count": 41,
   "metadata": {},
   "outputs": [
    {
     "data": {
      "image/png": "[encoded data removed]",
      "text/plain": [
       "<Figure size 440x216 with 2 Axes>"
      ]
     },
     "metadata": {
      "needs_background": "light"
     },
     "output_type": "display_data"
    }
   ],
   "source": [
    "g = sns.FacetGrid(combined_agg_pd, palette=\"Set1\",col=\"churn\")\n",
    "g.map(sns.distplot,'songCount')\n",
    "g.add_legend();"
   ]
  },
  {
   "cell_type": "code",
   "execution_count": 66,
   "metadata": {},
   "outputs": [
    {
     "data": {
      "image/png": "[encoded data removed]",
      "text/plain": [
       "<Figure size 440x216 with 2 Axes>"
      ]
     },
     "metadata": {
      "needs_background": "light"
     },
     "output_type": "display_data"
    }
   ],
   "source": [
    "g = sns.FacetGrid(combined_agg_pd, palette=\"Set1\",col=\"churn\")\n",
    "g.map(sns.distplot,'artistCount')\n",
    "g.add_legend();"
   ]
  },
  {
   "cell_type": "code",
   "execution_count": 42,
   "metadata": {},
   "outputs": [
    {
     "data": {
      "image/png": "[encoded data removed]",
      "text/plain": [
       "<Figure size 475.5x432 with 4 Axes>"
      ]
     },
     "metadata": {
      "needs_background": "light"
     },
     "output_type": "display_data"
    }
   ],
   "source": [
    "g = sns.FacetGrid(combined_agg_pd, palette=\"Set1\",col=\"churn\",row=\"paid\",hue=\"gender\")\n",
    "g.map(plt.scatter,'distinctSession','songCount',s=50,alpha=0.3)\n",
    "g.add_legend();"
   ]
  },
  {
   "cell_type": "markdown",
   "metadata": {},
   "source": [
    "From the above graphs we can observer the following: \n",
    "1. There are higher percentage of paid than non-paid Non-churned users\n",
    "2. Non-churn users spend more time on the site, have more song counts and have more activities than those who churned"
   ]
  },
  {
   "cell_type": "markdown",
   "metadata": {},
   "source": [
    "# Feature Engineering"
   ]
  },
  {
   "cell_type": "code",
   "execution_count": 68,
   "metadata": {},
   "outputs": [
    {
     "name": "stdout",
     "output_type": "stream",
     "text": [
      "['gender', 'distinctSession', 'artistCount', 'songCount', 'totalTime', 'downgraded', 'upgraded', 'thumbs_up', 'thumbs_down', 'paid']\n"
     ]
    }
   ],
   "source": [
    "numericCols = combined_agg_df.columns\n",
    "numericCols.remove(\"churn\")\n",
    "numericCols.remove(\"userId\")\n",
    "numericCols.remove(\"userAgent\")\n",
    "print(numericCols)"
   ]
  },
  {
   "cell_type": "code",
   "execution_count": 69,
   "metadata": {},
   "outputs": [],
   "source": [
    "stages = []\n",
    "\n",
    "# Transform all features into a vector using VectorAssembler\n",
    "assemblerInputs = numericCols\n",
    "assembler = VectorAssembler(inputCols=assemblerInputs, outputCol=\"features\")\n",
    "standardscaler=StandardScaler().setInputCol(\"features\").setOutputCol(\"scaledFeatures\")\n",
    "stages += [assembler,standardscaler]"
   ]
  },
  {
   "cell_type": "code",
   "execution_count": 70,
   "metadata": {},
   "outputs": [
    {
     "data": {
      "text/plain": [
       "[VectorAssembler_480184dfb773b0305e00, StandardScaler_474c95a7a360f896eb19]"
      ]
     },
     "execution_count": 70,
     "metadata": {},
     "output_type": "execute_result"
    }
   ],
   "source": [
    "stages"
   ]
  },
  {
   "cell_type": "code",
   "execution_count": 71,
   "metadata": {},
   "outputs": [],
   "source": [
    "#Run the stages as a Pipeline. \n",
    "from pyspark.ml.classification import LogisticRegression  \n",
    "partialPipeline = Pipeline().setStages(stages)\n",
    "pipelineModel = partialPipeline.fit(combined_agg_df)\n",
    "preppedDataDF = pipelineModel.transform(combined_agg_df)"
   ]
  },
  {
   "cell_type": "code",
   "execution_count": 72,
   "metadata": {},
   "outputs": [
    {
     "name": "stdout",
     "output_type": "stream",
     "text": [
      "+--------------------+--------------------+\n",
      "|            features|      scaledFeatures|\n",
      "+--------------------+--------------------+\n",
      "|[0.0,5.0,108.0,11...|[0.0,0.3796212073...|\n",
      "|[0.0,12.0,307.0,3...|[0.0,0.9110908977...|\n",
      "|[0.0,31.0,1348.0,...|[0.0,2.3536514858...|\n",
      "|[0.0,33.0,1364.0,...|[0.0,2.5054999687...|\n",
      "|[0.0,7.0,234.0,25...|[0.0,0.5314696903...|\n",
      "+--------------------+--------------------+\n",
      "only showing top 5 rows\n",
      "\n"
     ]
    }
   ],
   "source": [
    "preppedDataDF.select(\"features\",\"scaledFeatures\").show(5)"
   ]
  },
  {
   "cell_type": "markdown",
   "metadata": {},
   "source": [
    "# Modeling\n",
    "Split the full dataset into train, test, and validation sets. Test out several of the machine learning methods you learned. Evaluate the accuracy of the various models, tuning parameters as necessary. Determine your winning model based on test accuracy and report results on the validation set. Since the churned users are a fairly small subset, I suggest using F1 score as the metric to optimize."
   ]
  },
  {
   "cell_type": "code",
   "execution_count": 75,
   "metadata": {},
   "outputs": [
    {
     "name": "stdout",
     "output_type": "stream",
     "text": [
      "310\n",
      "138\n"
     ]
    }
   ],
   "source": [
    "# Split dataset into training, test \n",
    "(training, test) = preppedDataDF.randomSplit([0.7, 0.3], seed=42)\n",
    "print(training.count())\n",
    "print(test.count())"
   ]
  },
  {
   "cell_type": "code",
   "execution_count": 76,
   "metadata": {},
   "outputs": [
    {
     "name": "stdout",
     "output_type": "stream",
     "text": [
      "+----------+-----+\n",
      "|prediction|churn|\n",
      "+----------+-----+\n",
      "|       0.0|    0|\n",
      "|       0.0|    0|\n",
      "|       0.0|    0|\n",
      "|       0.0|    1|\n",
      "|       0.0|    0|\n",
      "|       0.0|    0|\n",
      "|       0.0|    1|\n",
      "|       0.0|    0|\n",
      "|       0.0|    0|\n",
      "|       0.0|    0|\n",
      "|       0.0|    0|\n",
      "|       0.0|    0|\n",
      "|       0.0|    0|\n",
      "|       0.0|    0|\n",
      "|       0.0|    1|\n",
      "|       0.0|    1|\n",
      "|       0.0|    0|\n",
      "|       1.0|    0|\n",
      "|       0.0|    0|\n",
      "|       0.0|    0|\n",
      "|       0.0|    0|\n",
      "|       0.0|    0|\n",
      "|       0.0|    0|\n",
      "|       0.0|    0|\n",
      "|       0.0|    0|\n",
      "|       0.0|    1|\n",
      "|       0.0|    1|\n",
      "|       0.0|    1|\n",
      "|       0.0|    0|\n",
      "|       0.0|    0|\n",
      "|       0.0|    0|\n",
      "|       0.0|    1|\n",
      "|       0.0|    0|\n",
      "|       0.0|    0|\n",
      "|       0.0|    1|\n",
      "|       0.0|    0|\n",
      "|       0.0|    0|\n",
      "|       0.0|    0|\n",
      "|       0.0|    0|\n",
      "|       0.0|    1|\n",
      "|       0.0|    0|\n",
      "|       0.0|    0|\n",
      "|       0.0|    0|\n",
      "|       0.0|    1|\n",
      "|       0.0|    0|\n",
      "|       0.0|    0|\n",
      "|       0.0|    0|\n",
      "|       0.0|    0|\n",
      "|       0.0|    0|\n",
      "|       0.0|    1|\n",
      "|       0.0|    0|\n",
      "|       0.0|    1|\n",
      "|       0.0|    0|\n",
      "|       0.0|    0|\n",
      "|       0.0|    1|\n",
      "|       0.0|    0|\n",
      "|       0.0|    0|\n",
      "|       0.0|    0|\n",
      "|       0.0|    0|\n",
      "|       0.0|    0|\n",
      "|       0.0|    0|\n",
      "|       0.0|    0|\n",
      "|       0.0|    0|\n",
      "|       0.0|    1|\n",
      "|       0.0|    0|\n",
      "|       0.0|    0|\n",
      "|       0.0|    1|\n",
      "|       0.0|    1|\n",
      "|       0.0|    0|\n",
      "|       0.0|    0|\n",
      "|       0.0|    0|\n",
      "|       0.0|    0|\n",
      "|       0.0|    0|\n",
      "|       0.0|    0|\n",
      "|       0.0|    0|\n",
      "|       0.0|    0|\n",
      "|       0.0|    0|\n",
      "|       0.0|    0|\n",
      "|       0.0|    1|\n",
      "|       0.0|    1|\n",
      "|       0.0|    1|\n",
      "|       0.0|    0|\n",
      "|       0.0|    0|\n",
      "|       0.0|    0|\n",
      "|       0.0|    0|\n",
      "|       0.0|    0|\n",
      "|       0.0|    0|\n",
      "|       0.0|    1|\n",
      "|       0.0|    0|\n",
      "|       0.0|    0|\n",
      "|       0.0|    0|\n",
      "|       0.0|    0|\n",
      "|       0.0|    0|\n",
      "|       0.0|    0|\n",
      "|       0.0|    0|\n",
      "|       0.0|    0|\n",
      "|       0.0|    0|\n",
      "|       0.0|    1|\n",
      "|       0.0|    1|\n",
      "|       0.0|    0|\n",
      "+----------+-----+\n",
      "only showing top 100 rows\n",
      "\n",
      "f1: 0.6935312831389183\n",
      "The area under PR for train set is 0.6992757732376339\n",
      "The area under PR for test set is 0.6935312831389183\n"
     ]
    }
   ],
   "source": [
    "# Try logistics Regression \n",
    "lr = LogisticRegression(labelCol=\"churn\", featuresCol=\"scaledFeatures\",maxIter=10)\n",
    "model=lr.fit(training)\n",
    "predict_train=model.transform(training)\n",
    "predict_test=model.transform(test)\n",
    "predict_test.select('prediction', 'churn').show(100)\n",
    "\n",
    "evaluator = MulticlassClassificationEvaluator(predictionCol=\"prediction\", labelCol=\"churn\",metricName='f1')\n",
    "f1_score = evaluator.evaluate(predict_test)\n",
    "print(\"f1: {}\".format(f1_score))\n",
    "\n",
    "AUC_PR=BinaryClassificationEvaluator(rawPredictionCol=\"rawPrediction\",labelCol=\"churn\", metricName='areaUnderPR')\n",
    "# areaUnderPR = Area under Precision-Recall => should be used when there is a moderate to large class imbalance.\n",
    "predict_test.select(\"churn\",\"rawPrediction\",\"prediction\",\"probability\")\n",
    "print(\"The area under PR for train set is {}\".format(evaluator.evaluate(predict_train)))\n",
    "print(\"The area under PR for test set is {}\".format(evaluator.evaluate(predict_test)))"
   ]
  },
  {
   "cell_type": "markdown",
   "metadata": {},
   "source": [
    "Results from logistic regression don't look good with no churn was predicted in the test set eventhough F1 and AUC for Precision-Recall Curve are not too bad which are around 0.69"
   ]
  },
  {
   "cell_type": "code",
   "execution_count": null,
   "metadata": {},
   "outputs": [],
   "source": [
    "# Create ParamGrid for Cross Validation\n",
    "paramGrid = (ParamGridBuilder()\n",
    "             .addGrid(lr.regParam, [0.01, 0.5, 2.0])\n",
    "             .addGrid(lr.elasticNetParam, [0.0, 0.5, 1.0])\n",
    "             .addGrid(lr.maxIter, [1, 5, 10])\n",
    "             .build())\n",
    "\n",
    "# Create 5-fold CrossValidator\n",
    "cv = CrossValidator(estimator=lr, estimatorParamMaps=paramGrid, evaluator=evaluator, numFolds=5)\n",
    "\n",
    "# Run cross validations\n",
    "cvModel = cv.fit(training)\n",
    "# this will likely take a fair amount of time because of the amount of models that we're creating and testing\n"
   ]
  },
  {
   "cell_type": "code",
   "execution_count": 84,
   "metadata": {},
   "outputs": [
    {
     "name": "stdout",
     "output_type": "stream",
     "text": [
      "f1: 0.6971190518101273\n",
      "Model Intercept:  -0.9460023143665692\n"
     ]
    }
   ],
   "source": [
    "# Use test set to measure the accuracy of our model on new data\n",
    "predictions = cvModel.transform(test)\n",
    "\n",
    "# cvModel uses the best model found from the Cross Validation\n",
    "# Evaluate best model\n",
    "f1_score = evaluator.evaluate(predictions)\n",
    "print(\"f1: {}\".format(f1_score))\n",
    "\n",
    "print('Model Intercept: ', cvModel.bestModel.intercept)"
   ]
  },
  {
   "cell_type": "code",
   "execution_count": 83,
   "metadata": {},
   "outputs": [
    {
     "name": "stdout",
     "output_type": "stream",
     "text": [
      "+----------+-----+\n",
      "|prediction|churn|\n",
      "+----------+-----+\n",
      "|       0.0|    0|\n",
      "|       0.0|    0|\n",
      "|       0.0|    0|\n",
      "|       0.0|    1|\n",
      "|       0.0|    0|\n",
      "|       0.0|    0|\n",
      "|       0.0|    1|\n",
      "|       0.0|    0|\n",
      "|       0.0|    0|\n",
      "|       0.0|    0|\n",
      "|       0.0|    0|\n",
      "|       0.0|    0|\n",
      "|       0.0|    0|\n",
      "|       0.0|    0|\n",
      "|       0.0|    1|\n",
      "|       0.0|    1|\n",
      "|       0.0|    0|\n",
      "|       0.0|    0|\n",
      "|       0.0|    0|\n",
      "|       0.0|    0|\n",
      "|       0.0|    0|\n",
      "|       0.0|    0|\n",
      "|       0.0|    0|\n",
      "|       0.0|    0|\n",
      "|       0.0|    0|\n",
      "|       0.0|    1|\n",
      "|       0.0|    1|\n",
      "|       0.0|    1|\n",
      "|       0.0|    0|\n",
      "|       0.0|    0|\n",
      "|       0.0|    0|\n",
      "|       0.0|    1|\n",
      "|       0.0|    0|\n",
      "|       0.0|    0|\n",
      "|       0.0|    1|\n",
      "|       0.0|    0|\n",
      "|       0.0|    0|\n",
      "|       0.0|    0|\n",
      "|       0.0|    0|\n",
      "|       0.0|    1|\n",
      "|       0.0|    0|\n",
      "|       0.0|    0|\n",
      "|       0.0|    0|\n",
      "|       0.0|    1|\n",
      "|       0.0|    0|\n",
      "|       0.0|    0|\n",
      "|       0.0|    0|\n",
      "|       0.0|    0|\n",
      "|       0.0|    0|\n",
      "|       0.0|    1|\n",
      "|       0.0|    0|\n",
      "|       0.0|    1|\n",
      "|       0.0|    0|\n",
      "|       0.0|    0|\n",
      "|       0.0|    1|\n",
      "|       0.0|    0|\n",
      "|       0.0|    0|\n",
      "|       0.0|    0|\n",
      "|       0.0|    0|\n",
      "|       0.0|    0|\n",
      "|       0.0|    0|\n",
      "|       0.0|    0|\n",
      "|       0.0|    0|\n",
      "|       0.0|    1|\n",
      "|       0.0|    0|\n",
      "|       0.0|    0|\n",
      "|       0.0|    1|\n",
      "|       0.0|    1|\n",
      "|       0.0|    0|\n",
      "|       0.0|    0|\n",
      "|       0.0|    0|\n",
      "|       0.0|    0|\n",
      "|       0.0|    0|\n",
      "|       0.0|    0|\n",
      "|       0.0|    0|\n",
      "|       0.0|    0|\n",
      "|       0.0|    0|\n",
      "|       0.0|    0|\n",
      "|       0.0|    1|\n",
      "|       0.0|    1|\n",
      "|       0.0|    1|\n",
      "|       0.0|    0|\n",
      "|       0.0|    0|\n",
      "|       0.0|    0|\n",
      "|       0.0|    0|\n",
      "|       0.0|    0|\n",
      "|       0.0|    0|\n",
      "|       0.0|    1|\n",
      "|       0.0|    0|\n",
      "|       0.0|    0|\n",
      "|       0.0|    0|\n",
      "|       0.0|    0|\n",
      "|       0.0|    0|\n",
      "|       0.0|    0|\n",
      "|       0.0|    0|\n",
      "|       0.0|    0|\n",
      "|       0.0|    0|\n",
      "|       0.0|    1|\n",
      "|       0.0|    1|\n",
      "|       0.0|    0|\n",
      "|       0.0|    0|\n",
      "|       0.0|    0|\n",
      "|       0.0|    0|\n",
      "|       0.0|    0|\n",
      "|       0.0|    0|\n",
      "|       0.0|    0|\n",
      "|       0.0|    0|\n",
      "|       0.0|    0|\n",
      "|       0.0|    0|\n",
      "|       0.0|    0|\n",
      "|       0.0|    0|\n",
      "|       0.0|    0|\n",
      "|       0.0|    0|\n",
      "|       0.0|    0|\n",
      "|       0.0|    0|\n",
      "|       0.0|    0|\n",
      "|       0.0|    0|\n",
      "|       0.0|    1|\n",
      "|       0.0|    1|\n",
      "|       0.0|    0|\n",
      "|       0.0|    0|\n",
      "|       0.0|    1|\n",
      "|       0.0|    0|\n",
      "|       0.0|    0|\n",
      "|       0.0|    0|\n",
      "|       0.0|    1|\n",
      "|       0.0|    0|\n",
      "|       0.0|    0|\n",
      "|       0.0|    0|\n",
      "|       0.0|    0|\n",
      "|       0.0|    0|\n",
      "|       0.0|    1|\n",
      "|       0.0|    0|\n",
      "|       0.0|    0|\n",
      "|       0.0|    1|\n",
      "|       0.0|    0|\n",
      "|       0.0|    0|\n",
      "|       0.0|    0|\n",
      "+----------+-----+\n",
      "\n"
     ]
    }
   ],
   "source": [
    "predictions.select('prediction', 'churn').show(200)"
   ]
  },
  {
   "cell_type": "code",
   "execution_count": 90,
   "metadata": {},
   "outputs": [],
   "source": [
    "# Build model\n",
    "\n",
    "def classifyModel(classifier, param):\n",
    "    \n",
    "    '''\n",
    "    This function train and test classification model with different classifiers and cross validation\n",
    "    \n",
    "    INPUT:\n",
    "    classifier - classifier (DecisionTree, Random Forest, etc.)\n",
    "    param - parameter for cross validation\n",
    "    \n",
    "    OUTPUT:\n",
    "    f1 score for performance\n",
    "    show all records in test set\n",
    "    \n",
    "    '''\n",
    "\n",
    "    evaluator = MulticlassClassificationEvaluator(predictionCol=\"prediction\", labelCol=\"churn\",metricName='f1')\n",
    "\n",
    "    # Create 5-fold CrossValidator\n",
    "    cv = CrossValidator(estimator=classifier, estimatorParamMaps=paramGrid, evaluator=evaluator, numFolds=5)\n",
    "\n",
    "    # Run cross validations\n",
    "    cvModel = cv.fit(training)\n",
    "    # this will likely take a fair amount of time because of the amount of models that we're creating and testing\n",
    "    \n",
    "    # Use test set to measure the accuracy of our model on new data\n",
    "    predictions = cvModel.transform(test)\n",
    "\n",
    "    # cvModel uses the best model found from the Cross Validation\n",
    "    # Evaluate best model\n",
    "    f1_score = evaluator.evaluate(predictions)\n",
    "    predictions.select('prediction', 'churn').show(200)\n",
    "    \n",
    "    print(\"f1: {}\".format(f1_score))\n"
   ]
  },
  {
   "cell_type": "code",
   "execution_count": null,
   "metadata": {},
   "outputs": [
    {
     "name": "stdout",
     "output_type": "stream",
     "text": [
      "f1: 0.7574205094670803\n"
     ]
    }
   ],
   "source": [
    "# Create initial Decision Tree Model\n",
    "dt = DecisionTreeClassifier(labelCol=\"churn\", featuresCol=\"scaledFeatures\", maxDepth=5)\n",
    "paramDT = (ParamGridBuilder()\n",
    "             .addGrid(dt.maxDepth, [1, 2, 6, 10])\n",
    "             .addGrid(dt.maxBins, [20, 40, 80])\n",
    "             .build())\n",
    "\n",
    "classifyModel(dt, paramDT)"
   ]
  },
  {
   "cell_type": "code",
   "execution_count": null,
   "metadata": {},
   "outputs": [
    {
     "name": "stdout",
     "output_type": "stream",
     "text": [
      "+----------+-----+\n",
      "|prediction|churn|\n",
      "+----------+-----+\n",
      "|       0.0|    0|\n",
      "|       0.0|    0|\n",
      "|       0.0|    0|\n",
      "|       1.0|    1|\n",
      "|       0.0|    0|\n",
      "|       0.0|    0|\n",
      "|       0.0|    1|\n",
      "|       0.0|    0|\n",
      "|       0.0|    0|\n",
      "|       0.0|    0|\n",
      "|       0.0|    0|\n",
      "|       0.0|    0|\n",
      "|       0.0|    0|\n",
      "|       0.0|    0|\n",
      "|       0.0|    1|\n",
      "|       1.0|    1|\n",
      "|       1.0|    0|\n",
      "|       0.0|    0|\n",
      "|       0.0|    0|\n",
      "|       0.0|    0|\n",
      "|       0.0|    0|\n",
      "|       0.0|    0|\n",
      "|       0.0|    0|\n",
      "|       0.0|    0|\n",
      "|       0.0|    0|\n",
      "|       0.0|    1|\n",
      "|       0.0|    1|\n",
      "|       0.0|    1|\n",
      "|       0.0|    0|\n",
      "|       0.0|    0|\n",
      "|       0.0|    0|\n",
      "|       0.0|    1|\n",
      "|       0.0|    0|\n",
      "|       0.0|    0|\n",
      "|       0.0|    1|\n",
      "|       0.0|    0|\n",
      "|       0.0|    0|\n",
      "|       0.0|    0|\n",
      "|       0.0|    0|\n",
      "|       0.0|    1|\n",
      "|       0.0|    0|\n",
      "|       0.0|    0|\n",
      "|       0.0|    0|\n",
      "|       0.0|    1|\n",
      "|       0.0|    0|\n",
      "|       0.0|    0|\n",
      "|       0.0|    0|\n",
      "|       0.0|    0|\n",
      "|       0.0|    0|\n",
      "|       0.0|    1|\n",
      "|       0.0|    0|\n",
      "|       0.0|    1|\n",
      "|       0.0|    0|\n",
      "|       0.0|    0|\n",
      "|       0.0|    1|\n",
      "|       0.0|    0|\n",
      "|       0.0|    0|\n",
      "|       0.0|    0|\n",
      "|       0.0|    0|\n",
      "|       0.0|    0|\n",
      "|       0.0|    0|\n",
      "|       0.0|    0|\n",
      "|       0.0|    0|\n",
      "|       0.0|    1|\n",
      "|       0.0|    0|\n",
      "|       0.0|    0|\n",
      "|       0.0|    1|\n",
      "|       0.0|    1|\n",
      "|       0.0|    0|\n",
      "|       0.0|    0|\n",
      "|       0.0|    0|\n",
      "|       0.0|    0|\n",
      "|       0.0|    0|\n",
      "|       0.0|    0|\n",
      "|       0.0|    0|\n",
      "|       0.0|    0|\n",
      "|       0.0|    0|\n",
      "|       0.0|    0|\n",
      "|       1.0|    1|\n",
      "|       0.0|    1|\n",
      "|       0.0|    1|\n",
      "|       0.0|    0|\n",
      "|       0.0|    0|\n",
      "|       0.0|    0|\n",
      "|       0.0|    0|\n",
      "|       0.0|    0|\n",
      "|       0.0|    0|\n",
      "|       0.0|    1|\n",
      "|       0.0|    0|\n",
      "|       0.0|    0|\n",
      "|       0.0|    0|\n",
      "|       0.0|    0|\n",
      "|       0.0|    0|\n",
      "|       0.0|    0|\n",
      "|       0.0|    0|\n",
      "|       0.0|    0|\n",
      "|       0.0|    0|\n",
      "|       0.0|    1|\n",
      "|       0.0|    1|\n",
      "|       0.0|    0|\n",
      "|       0.0|    0|\n",
      "|       0.0|    0|\n",
      "|       0.0|    0|\n",
      "|       0.0|    0|\n",
      "|       0.0|    0|\n",
      "|       0.0|    0|\n",
      "|       0.0|    0|\n",
      "|       0.0|    0|\n",
      "|       0.0|    0|\n",
      "|       0.0|    0|\n",
      "|       0.0|    0|\n",
      "|       0.0|    0|\n",
      "|       0.0|    0|\n",
      "|       0.0|    0|\n",
      "|       0.0|    0|\n",
      "|       0.0|    0|\n",
      "|       0.0|    0|\n",
      "|       0.0|    1|\n",
      "|       0.0|    1|\n",
      "|       0.0|    0|\n",
      "|       0.0|    0|\n",
      "|       0.0|    1|\n",
      "|       0.0|    0|\n",
      "|       0.0|    0|\n",
      "|       0.0|    0|\n",
      "|       0.0|    1|\n",
      "|       0.0|    0|\n",
      "|       0.0|    0|\n",
      "|       0.0|    0|\n",
      "|       0.0|    0|\n",
      "|       0.0|    0|\n",
      "|       0.0|    1|\n",
      "|       0.0|    0|\n",
      "|       0.0|    0|\n",
      "|       0.0|    1|\n",
      "|       0.0|    0|\n",
      "|       0.0|    0|\n",
      "|       0.0|    0|\n",
      "+----------+-----+\n",
      "\n",
      "f1: 0.7403015663885231\n"
     ]
    }
   ],
   "source": [
    "rf = RandomForestClassifier(labelCol=\"churn\", featuresCol=\"scaledFeatures\")\n",
    "paramRF = (ParamGridBuilder()\n",
    "             .addGrid(rf.maxDepth, [2, 4, 6])\n",
    "             .addGrid(rf.maxBins, [20, 60])\n",
    "             .addGrid(rf.numTrees, [5, 20])\n",
    "             .build())\n",
    "\n",
    "classifyModel(rf,paramRF)"
   ]
  },
  {
   "cell_type": "code",
   "execution_count": null,
   "metadata": {},
   "outputs": [],
   "source": []
  }
 ],
 "metadata": {
  "kernelspec": {
   "display_name": "Python 3.6 with Spark",
   "language": "python3",
   "name": "python36"
  },
  "language_info": {
   "codemirror_mode": {
    "name": "ipython",
    "version": 3
   },
   "file_extension": ".py",
   "mimetype": "text/x-python",
   "name": "python",
   "nbconvert_exporter": "python",
   "pygments_lexer": "ipython3",
   "version": "3.6.8"
  }
 },
 "nbformat": 4,
 "nbformat_minor": 1
}
