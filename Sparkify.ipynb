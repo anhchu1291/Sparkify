{
 "cells": [
  {
   "cell_type": "code",
   "execution_count": 37,
   "metadata": {},
   "outputs": [
    {
     "data": {
      "text/plain": [
       "[Row(artist='Martin Orford', auth='Logged In', firstName='Joseph', gender='M', itemInSession=20, lastName='Morales', length=597.55057, level='free', location='Corpus Christi, TX', method='PUT', page='NextSong', registration=1532063507000, sessionId=292, song='Grand Designs', status=200, ts=1538352011000, userAgent='\"Mozilla/5.0 (Macintosh; Intel Mac OS X 10_9_4) AppleWebKit/537.36 (KHTML, like Gecko) Chrome/36.0.1985.125 Safari/537.36\"', userId='293'),\n",
       " Row(artist=\"John Brown's Body\", auth='Logged In', firstName='Sawyer', gender='M', itemInSession=74, lastName='Larson', length=380.21179, level='free', location='Houston-The Woodlands-Sugar Land, TX', method='PUT', page='NextSong', registration=1538069638000, sessionId=97, song='Bulls', status=200, ts=1538352025000, userAgent='\"Mozilla/5.0 (Macintosh; Intel Mac OS X 10_9_4) AppleWebKit/537.36 (KHTML, like Gecko) Chrome/36.0.1985.143 Safari/537.36\"', userId='98'),\n",
       " Row(artist='Afroman', auth='Logged In', firstName='Maverick', gender='M', itemInSession=184, lastName='Santiago', length=202.37016, level='paid', location='Orlando-Kissimmee-Sanford, FL', method='PUT', page='NextSong', registration=1535953455000, sessionId=178, song='Because I Got High', status=200, ts=1538352118000, userAgent='\"Mozilla/5.0 (Macintosh; Intel Mac OS X 10_9_4) AppleWebKit/537.36 (KHTML, like Gecko) Chrome/36.0.1985.143 Safari/537.36\"', userId='179'),\n",
       " Row(artist=None, auth='Logged In', firstName='Maverick', gender='M', itemInSession=185, lastName='Santiago', length=None, level='paid', location='Orlando-Kissimmee-Sanford, FL', method='PUT', page='Logout', registration=1535953455000, sessionId=178, song=None, status=307, ts=1538352119000, userAgent='\"Mozilla/5.0 (Macintosh; Intel Mac OS X 10_9_4) AppleWebKit/537.36 (KHTML, like Gecko) Chrome/36.0.1985.143 Safari/537.36\"', userId='179'),\n",
       " Row(artist='Lily Allen', auth='Logged In', firstName='Gianna', gender='F', itemInSession=22, lastName='Campos', length=194.53342, level='paid', location='Mobile, AL', method='PUT', page='NextSong', registration=1535931018000, sessionId=245, song='Smile (Radio Edit)', status=200, ts=1538352124000, userAgent='Mozilla/5.0 (Windows NT 6.1; WOW64; rv:31.0) Gecko/20100101 Firefox/31.0', userId='246')]"
      ]
     },
     "execution_count": 37,
     "metadata": {},
     "output_type": "execute_result"
    }
   ],
   "source": [
    "\n",
    "import ibmos2spark\n",
    "# @hidden_cell\n",
    "credentials = {\n",
    "    'endpoint': 'https://s3-api.us-geo.objectstorage.service.networklayer.com',\n",
    "    'service_id': 'iam-ServiceId-4749bc73-2bb7-4155-b345-28d6fde6d97c',\n",
    "    'iam_service_endpoint': 'https://iam.ng.bluemix.net/oidc/token',\n",
    "    'api_key': 'cil43xaAaMIgSyp6tdqioOE9dJSKb1wT9_nMPXwdfyuZ'\n",
    "}\n",
    "\n",
    "configuration_name = 'os_362c3529afdf436e8dc3c5cb207484d1_configs'\n",
    "cos = ibmos2spark.CloudObjectStorage(sc, credentials, configuration_name, 'bluemix_cos')\n",
    "\n",
    "from pyspark.sql import SparkSession\n",
    "spark = SparkSession.builder.getOrCreate()\n",
    "# Since JSON data can be semi-structured and contain additional metadata, it is possible that you might face issues with the DataFrame layout.\n",
    "# Please read the documentation of 'SparkSession.read()' to learn more about the possibilities to adjust the data loading.\n",
    "# PySpark documentation: http://spark.apache.org/docs/2.0.2/api/python/pyspark.sql.html#pyspark.sql.DataFrameReader.json\n",
    "\n",
    "spark_data = spark.read.json(cos.url('medium-sparkify-event-data.json', 'sparkify-donotdelete-pr-igw07vjrf2o5ef'))\n",
    "spark_data.take(5)\n"
   ]
  },
  {
   "cell_type": "code",
   "execution_count": 38,
   "metadata": {},
   "outputs": [],
   "source": [
    "# import libraries\n",
    "from pyspark.sql import SparkSession, Window\n",
    "from pyspark.sql.functions import udf\n",
    "from pyspark.sql.types import StringType, IntegerType\n",
    "from pyspark.sql.functions import *\n",
    "from pyspark.sql.functions import sum as Fsum\n",
    "\n",
    "from time import time\n",
    "import pandas as pd\n",
    "import numpy as np\n",
    "import matplotlib.pyplot as plt\n",
    "import seaborn as sns\n",
    "%matplotlib inline\n",
    "\n",
    "from pyspark.ml.feature import OneHotEncoder, StringIndexer, StandardScaler, Imputer, VectorAssembler,MinMaxScaler\n",
    "from pyspark.ml import Pipeline, PipelineModel\n",
    "from pyspark.ml.evaluation import BinaryClassificationEvaluator, MulticlassClassificationEvaluator \n",
    "from pyspark.mllib.evaluation import MulticlassMetrics \n",
    "from pyspark.ml.classification import RandomForestClassifier, LogisticRegression, DecisionTreeClassifier, GBTClassifier\n",
    "\n",
    "from pyspark.ml.tuning import ParamGridBuilder, CrossValidator"
   ]
  },
  {
   "cell_type": "code",
   "execution_count": 39,
   "metadata": {},
   "outputs": [
    {
     "name": "stdout",
     "output_type": "stream",
     "text": [
      "root\n",
      " |-- artist: string (nullable = true)\n",
      " |-- auth: string (nullable = true)\n",
      " |-- firstName: string (nullable = true)\n",
      " |-- gender: string (nullable = true)\n",
      " |-- itemInSession: long (nullable = true)\n",
      " |-- lastName: string (nullable = true)\n",
      " |-- length: double (nullable = true)\n",
      " |-- level: string (nullable = true)\n",
      " |-- location: string (nullable = true)\n",
      " |-- method: string (nullable = true)\n",
      " |-- page: string (nullable = true)\n",
      " |-- registration: long (nullable = true)\n",
      " |-- sessionId: long (nullable = true)\n",
      " |-- song: string (nullable = true)\n",
      " |-- status: long (nullable = true)\n",
      " |-- ts: long (nullable = true)\n",
      " |-- userAgent: string (nullable = true)\n",
      " |-- userId: string (nullable = true)\n",
      "\n"
     ]
    }
   ],
   "source": [
    "spark_data.printSchema()"
   ]
  },
  {
   "cell_type": "code",
   "execution_count": 40,
   "metadata": {},
   "outputs": [
    {
     "name": "stdout",
     "output_type": "stream",
     "text": [
      "Number of records in the dataset: 543705\n",
      "+-------+------------------+\n",
      "|summary|         sessionId|\n",
      "+-------+------------------+\n",
      "|  count|            543705|\n",
      "|   mean|2040.8143533717732|\n",
      "| stddev| 1434.338931078271|\n",
      "|    min|                 1|\n",
      "|    max|              4808|\n",
      "+-------+------------------+\n",
      "\n",
      "+-------+------------------+\n",
      "|summary|            userId|\n",
      "+-------+------------------+\n",
      "|  count|            543705|\n",
      "|   mean| 60268.42669103512|\n",
      "| stddev|109898.82324176628|\n",
      "|    min|                  |\n",
      "|    max|                99|\n",
      "+-------+------------------+\n",
      "\n",
      "+-------+-----------------+\n",
      "|summary|           artist|\n",
      "+-------+-----------------+\n",
      "|  count|           432877|\n",
      "|   mean|527.5289537712895|\n",
      "| stddev|966.1072451772758|\n",
      "|    min|              !!!|\n",
      "|    max|ÃÂlafur Arnalds|\n",
      "+-------+-----------------+\n",
      "\n"
     ]
    }
   ],
   "source": [
    "print(\"Number of records in the dataset:\", spark_data.count())\n",
    "spark_data.describe('sessionId').show()\n",
    "spark_data.describe('userId').show()\n",
    "spark_data.describe('artist').show()"
   ]
  },
  {
   "cell_type": "code",
   "execution_count": 52,
   "metadata": {},
   "outputs": [],
   "source": [
    "#Drop null values in the userID and sessionID column \n",
    "spark_data_valid = spark_data.dropna(how='any',subset = ['userID','sessionID'])\n",
    "\n",
    "#rows with UserID is blank\n",
    "spark_data_invalid = spark_data_valid.filter(spark_data_valid['userID']=='')\n",
    "\n",
    "#Filter out rows with UserID is blank\n",
    "spark_data_valid = spark_data_valid.filter(spark_data_valid['userID']!='')"
   ]
  },
  {
   "cell_type": "code",
   "execution_count": 53,
   "metadata": {},
   "outputs": [
    {
     "data": {
      "text/plain": [
       "[Row(artist=None, auth='Logged Out', firstName=None, gender=None, itemInSession=186, lastName=None, length=None, level='paid', location=None, method='GET', page='Home', registration=None, sessionId=178, song=None, status=200, ts=1538352148000, userAgent=None, userId=''),\n",
       " Row(artist=None, auth='Logged Out', firstName=None, gender=None, itemInSession=187, lastName=None, length=None, level='paid', location=None, method='GET', page='Home', registration=None, sessionId=178, song=None, status=200, ts=1538352151000, userAgent=None, userId=''),\n",
       " Row(artist=None, auth='Logged Out', firstName=None, gender=None, itemInSession=188, lastName=None, length=None, level='paid', location=None, method='GET', page='Home', registration=None, sessionId=178, song=None, status=200, ts=1538352168000, userAgent=None, userId=''),\n",
       " Row(artist=None, auth='Logged Out', firstName=None, gender=None, itemInSession=189, lastName=None, length=None, level='paid', location=None, method='PUT', page='Login', registration=None, sessionId=178, song=None, status=307, ts=1538352169000, userAgent=None, userId=''),\n",
       " Row(artist=None, auth='Logged Out', firstName=None, gender=None, itemInSession=114, lastName=None, length=None, level='free', location=None, method='GET', page='Home', registration=None, sessionId=442, song=None, status=200, ts=1538353292000, userAgent=None, userId='')]"
      ]
     },
     "execution_count": 53,
     "metadata": {},
     "output_type": "execute_result"
    }
   ],
   "source": [
    "spark_data_invalid.take(5)"
   ]
  },
  {
   "cell_type": "code",
   "execution_count": 54,
   "metadata": {},
   "outputs": [
    {
     "name": "stdout",
     "output_type": "stream",
     "text": [
      "# of Records after removing blank userID: 528005\n",
      "# of Records with blank userID: 15700\n"
     ]
    }
   ],
   "source": [
    "print('# of Records after removing blank userID:', spark_data_valid.count())\n",
    "print('# of Records with blank userID:', spark_data.count()-spark_data_valid.count())"
   ]
  },
  {
   "cell_type": "code",
   "execution_count": 55,
   "metadata": {},
   "outputs": [
    {
     "name": "stdout",
     "output_type": "stream",
     "text": [
      "+--------------------+------+\n",
      "|                page| count|\n",
      "+--------------------+------+\n",
      "|            NextSong|432877|\n",
      "|           Thumbs Up| 23826|\n",
      "|                Home| 19089|\n",
      "|     Add to Playlist| 12349|\n",
      "|          Add Friend|  8087|\n",
      "|         Roll Advert|  7773|\n",
      "|              Logout|  5990|\n",
      "|         Thumbs Down|  4911|\n",
      "|           Downgrade|  3811|\n",
      "|            Settings|  2964|\n",
      "|                Help|  2644|\n",
      "|               About|  1026|\n",
      "|             Upgrade|   968|\n",
      "|       Save Settings|   585|\n",
      "|               Error|   503|\n",
      "|      Submit Upgrade|   287|\n",
      "|    Submit Downgrade|   117|\n",
      "|              Cancel|    99|\n",
      "|Cancellation Conf...|    99|\n",
      "+--------------------+------+\n",
      "\n"
     ]
    }
   ],
   "source": [
    "# List of page values\n",
    "spark_data_valid.select(['userId','page']).groupBy('page').count().sort(desc('count')).show()"
   ]
  },
  {
   "cell_type": "code",
   "execution_count": 56,
   "metadata": {},
   "outputs": [
    {
     "name": "stdout",
     "output_type": "stream",
     "text": [
      "+--------------------+-----+\n",
      "|           userAgent|count|\n",
      "+--------------------+-----+\n",
      "|\"Mozilla/5.0 (Win...|   39|\n",
      "|Mozilla/5.0 (Wind...|   34|\n",
      "|\"Mozilla/5.0 (Mac...|   30|\n",
      "|\"Mozilla/5.0 (Mac...|   25|\n",
      "|\"Mozilla/5.0 (Mac...|   22|\n",
      "|\"Mozilla/5.0 (Win...|   22|\n",
      "|\"Mozilla/5.0 (Mac...|   21|\n",
      "|Mozilla/5.0 (Maci...|   17|\n",
      "|Mozilla/5.0 (Wind...|   15|\n",
      "|\"Mozilla/5.0 (Mac...|   14|\n",
      "|\"Mozilla/5.0 (Win...|   12|\n",
      "|Mozilla/5.0 (Wind...|   11|\n",
      "|\"Mozilla/5.0 (iPh...|   11|\n",
      "|\"Mozilla/5.0 (Win...|    9|\n",
      "|\"Mozilla/5.0 (Win...|    9|\n",
      "|Mozilla/5.0 (X11;...|    7|\n",
      "|\"Mozilla/5.0 (iPh...|    6|\n",
      "|Mozilla/5.0 (comp...|    6|\n",
      "|\"Mozilla/5.0 (Win...|    6|\n",
      "|\"Mozilla/5.0 (X11...|    6|\n",
      "|\"Mozilla/5.0 (iPa...|    6|\n",
      "|\"Mozilla/5.0 (Win...|    6|\n",
      "|\"Mozilla/5.0 (Win...|    6|\n",
      "|\"Mozilla/5.0 (Win...|    5|\n",
      "|Mozilla/5.0 (Wind...|    5|\n",
      "|\"Mozilla/5.0 (Win...|    5|\n",
      "|\"Mozilla/5.0 (Win...|    4|\n",
      "|Mozilla/5.0 (Wind...|    4|\n",
      "|Mozilla/5.0 (Wind...|    4|\n",
      "|Mozilla/5.0 (Wind...|    3|\n",
      "|\"Mozilla/5.0 (Mac...|    3|\n",
      "|\"Mozilla/5.0 (Mac...|    3|\n",
      "|\"Mozilla/5.0 (Mac...|    3|\n",
      "|\"Mozilla/5.0 (Mac...|    3|\n",
      "|Mozilla/5.0 (comp...|    3|\n",
      "|\"Mozilla/5.0 (iPa...|    3|\n",
      "|\"Mozilla/5.0 (Mac...|    3|\n",
      "|\"Mozilla/5.0 (Mac...|    3|\n",
      "|\"Mozilla/5.0 (X11...|    3|\n",
      "|\"Mozilla/5.0 (Win...|    3|\n",
      "|\"Mozilla/5.0 (Mac...|    2|\n",
      "|Mozilla/5.0 (comp...|    2|\n",
      "|Mozilla/5.0 (Maci...|    2|\n",
      "|Mozilla/5.0 (comp...|    2|\n",
      "|Mozilla/5.0 (Maci...|    2|\n",
      "|Mozilla/5.0 (X11;...|    2|\n",
      "|\"Mozilla/5.0 (X11...|    2|\n",
      "|\"Mozilla/5.0 (Mac...|    2|\n",
      "|Mozilla/5.0 (Wind...|    2|\n",
      "|\"Mozilla/5.0 (Mac...|    2|\n",
      "|\"Mozilla/5.0 (Mac...|    2|\n",
      "|Mozilla/5.0 (X11;...|    2|\n",
      "|\"Mozilla/5.0 (Mac...|    2|\n",
      "|\"Mozilla/5.0 (Mac...|    2|\n",
      "|\"Mozilla/5.0 (Mac...|    2|\n",
      "|\"Mozilla/5.0 (Mac...|    2|\n",
      "|Mozilla/5.0 (X11;...|    2|\n",
      "|Mozilla/5.0 (Wind...|    1|\n",
      "|\"Mozilla/5.0 (Mac...|    1|\n",
      "|\"Mozilla/5.0 (iPh...|    1|\n",
      "|Mozilla/5.0 (Maci...|    1|\n",
      "|\"Mozilla/5.0 (Win...|    1|\n",
      "|\"Mozilla/5.0 (Mac...|    1|\n",
      "|\"Mozilla/5.0 (Win...|    1|\n",
      "|Mozilla/5.0 (Maci...|    1|\n",
      "|\"Mozilla/5.0 (Mac...|    1|\n",
      "|Mozilla/5.0 (Wind...|    1|\n",
      "|\"Mozilla/5.0 (X11...|    1|\n",
      "|Mozilla/5.0 (Wind...|    1|\n",
      "|\"Mozilla/5.0 (X11...|    1|\n",
      "|\"Mozilla/5.0 (Mac...|    1|\n",
      "+--------------------+-----+\n",
      "\n"
     ]
    }
   ],
   "source": [
    "# number of users by userAgent (dedup userId)\n",
    "spark_data_valid.select(['userId','userAgent']).dropDuplicates().groupBy('userAgent').count().sort(desc('count')).show(100)"
   ]
  },
  {
   "cell_type": "code",
   "execution_count": 57,
   "metadata": {},
   "outputs": [
    {
     "name": "stdout",
     "output_type": "stream",
     "text": [
      "+------+-----+\n",
      "|userId|count|\n",
      "+------+-----+\n",
      "|   124|    1|\n",
      "|     7|    1|\n",
      "|    51|    1|\n",
      "|100010|    1|\n",
      "|200002|    1|\n",
      "|   296|    1|\n",
      "|200037|    1|\n",
      "|   125|    1|\n",
      "|   205|    1|\n",
      "|   169|    1|\n",
      "|   272|    1|\n",
      "|    54|    1|\n",
      "|   232|    1|\n",
      "|   282|    1|\n",
      "|   234|    1|\n",
      "|    15|    1|\n",
      "|   155|    1|\n",
      "|200043|    1|\n",
      "|   154|    1|\n",
      "|   132|    1|\n",
      "+------+-----+\n",
      "only showing top 20 rows\n",
      "\n"
     ]
    }
   ],
   "source": [
    "#can 1 user has multiple agents? Maybe Not :)\"\n",
    "spark_data_valid.select(['userId','userAgent']).dropDuplicates().groupBy('userId').count().sort(desc('count')).show(20)"
   ]
  },
  {
   "cell_type": "code",
   "execution_count": 58,
   "metadata": {},
   "outputs": [
    {
     "name": "stdout",
     "output_type": "stream",
     "text": [
      "# Users: 448\n",
      "+------+-----+\n",
      "|gender|count|\n",
      "+------+-----+\n",
      "|     F|  198|\n",
      "|     M|  250|\n",
      "+------+-----+\n",
      "\n",
      "+--------------------+-----+\n",
      "|              artist|count|\n",
      "+--------------------+-----+\n",
      "|       Kings Of Leon| 3497|\n",
      "|            Coldplay| 3439|\n",
      "|Florence + The Ma...| 2314|\n",
      "|                Muse| 2194|\n",
      "|       Dwight Yoakam| 2187|\n",
      "|      The Black Keys| 2160|\n",
      "|            BjÃÂ¶rk| 2150|\n",
      "|       Justin Bieber| 2096|\n",
      "|        Jack Johnson| 2049|\n",
      "|           Radiohead| 1694|\n",
      "+--------------------+-----+\n",
      "only showing top 10 rows\n",
      "\n",
      "+------+--------------+\n",
      "|userID|sessionIdCount|\n",
      "+------+--------------+\n",
      "|300049|            92|\n",
      "|300035|            88|\n",
      "|    92|            72|\n",
      "|300017|            71|\n",
      "|   140|            69|\n",
      "|    87|            64|\n",
      "|300011|            60|\n",
      "|200023|            59|\n",
      "|   293|            58|\n",
      "|   195|            58|\n",
      "|   230|            56|\n",
      "|   101|            53|\n",
      "|    42|            52|\n",
      "|300021|            51|\n",
      "|   250|            46|\n",
      "|300031|            45|\n",
      "|   121|            43|\n",
      "|   100|            39|\n",
      "|300038|            39|\n",
      "|    29|            39|\n",
      "+------+--------------+\n",
      "only showing top 20 rows\n",
      "\n"
     ]
    }
   ],
   "source": [
    "# number of unique users\n",
    "print('# Users:',spark_data_valid.select(['userId']).dropDuplicates().count())\n",
    "\n",
    "# number of users by Gender (dedup userId)\n",
    "spark_data_valid.select(['userId','gender']).dropDuplicates().groupBy('gender').count().show()\n",
    "\n",
    "# number of songs played by the most played artists\n",
    "artist_chart = spark_data_valid.dropna(how='any',subset=['artist'])\\\n",
    ".groupBy('artist').count().sort(desc('count')).show(10)\n",
    "\n",
    "# how many distinct sessions per user\n",
    "spark_data_valid.groupBy('userID')\\\n",
    "    .agg(countDistinct(\"sessionId\"))\\\n",
    "    .withColumnRenamed(\"count(DISTINCT sessionId)\", \"sessionIdCount\") \\\n",
    "    .sort(desc(\"sessionIdCount\")).show()"
   ]
  },
  {
   "cell_type": "code",
   "execution_count": 59,
   "metadata": {},
   "outputs": [
    {
     "name": "stdout",
     "output_type": "stream",
     "text": [
      "+---------------------+\n",
      "|avg(count(songCount))|\n",
      "+---------------------+\n",
      "|   23.692025614361558|\n",
      "+---------------------+\n",
      "\n"
     ]
    }
   ],
   "source": [
    "#### How many songs users listen to on average between visiting our home page?\n",
    "# SOLUTION USING SPARK DATAFRAME\n",
    "\n",
    "flag_home_func = udf(lambda x: 1 if x == 'Home' else 0, IntegerType())\n",
    "\n",
    "#Create User Window\n",
    "user_window = Window\\\n",
    "    .partitionBy('userId')\\\n",
    "    .orderBy('ts')\\\n",
    "    .rangeBetween(Window.unboundedPreceding,0)\n",
    "\n",
    "# create 'homeSession' column to flag home event and 'songCount' to flag song played during home events\n",
    "cusum = spark_data_valid.filter((spark_data_valid.page=='Home')| (spark_data_valid.page=='NextSong')) \\\n",
    "    .select(['userID','page','ts'])\\\n",
    "    .withColumn('homeSession',flag_home_func('page'))\\\n",
    "    .withColumn('songCount',Fsum('homeSession').over(user_window))\n",
    "\n",
    "#cusum.filter((cusum.userID == 126)).show()\n",
    "\n",
    "#calculate the average number of songs per user between vising homepage\n",
    "cusum.filter(cusum.page == 'NextSong') \\\n",
    "    .groupBy('userID', 'songCount') \\\n",
    "    .agg(count('songCount'))\\\n",
    "    .agg(avg('count(songCount)'))\\\n",
    "    .show()"
   ]
  },
  {
   "cell_type": "code",
   "execution_count": 60,
   "metadata": {},
   "outputs": [
    {
     "name": "stdout",
     "output_type": "stream",
     "text": [
      "+------------------+\n",
      "|avg(count_results)|\n",
      "+------------------+\n",
      "|23.672591053264792|\n",
      "+------------------+\n",
      "\n"
     ]
    }
   ],
   "source": [
    "# SOLUTION USING SPARK SQL\n",
    "spark_data_valid.createOrReplaceTempView(\"log_table\")\n",
    "\n",
    "# SELECT CASE WHEN 1 > 0 THEN 1 WHEN 2 > 0 THEN 2.0 ELSE 1.2 END;\n",
    "is_home = spark.sql(\"SELECT userID, page, ts, CASE WHEN page = 'Home' THEN 1 ELSE 0 END AS is_home FROM log_table \\\n",
    "            WHERE (page = 'NextSong') or (page = 'Home') \\\n",
    "            \")\n",
    "\n",
    "# keep the results in a new view\n",
    "is_home.createOrReplaceTempView(\"is_home_table\")\n",
    "\n",
    "# find the cumulative sum over the is_home column\n",
    "cumulative_sum = spark.sql(\"SELECT *, SUM(is_home) OVER \\\n",
    "    (PARTITION BY userID ORDER BY ts DESC ROWS BETWEEN UNBOUNDED PRECEDING AND CURRENT ROW) AS period \\\n",
    "    FROM is_home_table\")\n",
    "\n",
    "# keep the results in a view\n",
    "cumulative_sum.createOrReplaceTempView(\"period_table\")\n",
    "\n",
    "# find the average count for NextSong\n",
    "spark.sql(\"SELECT AVG(count_results) FROM \\\n",
    "          (SELECT COUNT(*) AS count_results FROM period_table \\\n",
    "GROUP BY userID, period, page HAVING page = 'NextSong') AS counts\").show()"
   ]
  },
  {
   "cell_type": "markdown",
   "metadata": {},
   "source": [
    "# Exploratory Data Analysis\n",
    "When you're working with the full dataset, perform EDA by loading a small subset of the data and doing basic manipulations within Spark. In this workspace, you are already provided a small subset of data you can explore.\n",
    "\n",
    "### Define Churn\n",
    "\n",
    "Once you've done some preliminary analysis, create a column `Churn` to use as the label for your model. I suggest using the `Cancellation Confirmation` events to define your churn, which happen for both paid and free users. As a bonus task, you can also look into the `Downgrade` events."
   ]
  },
  {
   "cell_type": "markdown",
   "metadata": {},
   "source": [
    "#### 1.FLAG EVENTS"
   ]
  },
  {
   "cell_type": "code",
   "execution_count": 61,
   "metadata": {},
   "outputs": [],
   "source": [
    "# event label \n",
    "def func_event(df,event,colName):\n",
    "    '''Function to flag event in the dataframe\n",
    "    INPUT:\n",
    "    df - spark dataframe\n",
    "    event - string - event on the page\n",
    "    colName - string - new column on spark df\n",
    "    \n",
    "    OUTPUT:\n",
    "    df - original df with new event added\n",
    "    '''\n",
    "    event_func = udf(lambda x: 1 if x==event else 0, IntegerType())\n",
    "    df = df.withColumn(colName,event_func('page'))\n",
    "    return df"
   ]
  },
  {
   "cell_type": "code",
   "execution_count": 62,
   "metadata": {},
   "outputs": [],
   "source": [
    "spark_data_valid=func_event(spark_data_valid,'Submit Downgrade','downgraded')\n",
    "spark_data_valid=func_event(spark_data_valid,'Cancellation Confirmation','Churn')\n",
    "spark_data_valid=func_event(spark_data_valid,'Submit Upgrade','upgraded')\n",
    "spark_data_valid=func_event(spark_data_valid,'Thumbs Up','thumbs_up')\n",
    "spark_data_valid=func_event(spark_data_valid,'Thumbs Down','thumbs_down')\n",
    "spark_data_valid=func_event(spark_data_valid,'Add Friend','add_friend')\n",
    "spark_data_valid=func_event(spark_data_valid,'Roll Advert','advert')\n",
    "spark_data_valid=func_event(spark_data_valid,'Error','error')\n",
    "spark_data_valid=func_event(spark_data_valid,'Add to Playlist','add_playlist')\n",
    "spark_data_valid=func_event(spark_data_valid,'Settings','settings')"
   ]
  },
  {
   "cell_type": "code",
   "execution_count": 63,
   "metadata": {},
   "outputs": [],
   "source": [
    "#create paid level flag\n",
    "flag_paid = udf(lambda x: 1 if x=='paid' else 0, IntegerType())\n",
    "spark_data_valid = spark_data_valid.withColumn('paid',flag_paid('level'))"
   ]
  },
  {
   "cell_type": "code",
   "execution_count": 64,
   "metadata": {},
   "outputs": [
    {
     "data": {
      "text/plain": [
       "[Row(artist='Martin Orford', auth='Logged In', firstName='Joseph', gender='M', itemInSession=20, lastName='Morales', length=597.55057, level='free', location='Corpus Christi, TX', method='PUT', page='NextSong', registration=1532063507000, sessionId=292, song='Grand Designs', status=200, ts=1538352011000, userAgent='\"Mozilla/5.0 (Macintosh; Intel Mac OS X 10_9_4) AppleWebKit/537.36 (KHTML, like Gecko) Chrome/36.0.1985.125 Safari/537.36\"', userId='293', downgraded=0, Churn=0, upgraded=0, thumbs_up=0, thumbs_down=0, add_friend=0, advert=0, error=0, add_playlist=0, settings=0, paid=0),\n",
       " Row(artist=\"John Brown's Body\", auth='Logged In', firstName='Sawyer', gender='M', itemInSession=74, lastName='Larson', length=380.21179, level='free', location='Houston-The Woodlands-Sugar Land, TX', method='PUT', page='NextSong', registration=1538069638000, sessionId=97, song='Bulls', status=200, ts=1538352025000, userAgent='\"Mozilla/5.0 (Macintosh; Intel Mac OS X 10_9_4) AppleWebKit/537.36 (KHTML, like Gecko) Chrome/36.0.1985.143 Safari/537.36\"', userId='98', downgraded=0, Churn=0, upgraded=0, thumbs_up=0, thumbs_down=0, add_friend=0, advert=0, error=0, add_playlist=0, settings=0, paid=0),\n",
       " Row(artist='Afroman', auth='Logged In', firstName='Maverick', gender='M', itemInSession=184, lastName='Santiago', length=202.37016, level='paid', location='Orlando-Kissimmee-Sanford, FL', method='PUT', page='NextSong', registration=1535953455000, sessionId=178, song='Because I Got High', status=200, ts=1538352118000, userAgent='\"Mozilla/5.0 (Macintosh; Intel Mac OS X 10_9_4) AppleWebKit/537.36 (KHTML, like Gecko) Chrome/36.0.1985.143 Safari/537.36\"', userId='179', downgraded=0, Churn=0, upgraded=0, thumbs_up=0, thumbs_down=0, add_friend=0, advert=0, error=0, add_playlist=0, settings=0, paid=1),\n",
       " Row(artist=None, auth='Logged In', firstName='Maverick', gender='M', itemInSession=185, lastName='Santiago', length=None, level='paid', location='Orlando-Kissimmee-Sanford, FL', method='PUT', page='Logout', registration=1535953455000, sessionId=178, song=None, status=307, ts=1538352119000, userAgent='\"Mozilla/5.0 (Macintosh; Intel Mac OS X 10_9_4) AppleWebKit/537.36 (KHTML, like Gecko) Chrome/36.0.1985.143 Safari/537.36\"', userId='179', downgraded=0, Churn=0, upgraded=0, thumbs_up=0, thumbs_down=0, add_friend=0, advert=0, error=0, add_playlist=0, settings=0, paid=1),\n",
       " Row(artist='Lily Allen', auth='Logged In', firstName='Gianna', gender='F', itemInSession=22, lastName='Campos', length=194.53342, level='paid', location='Mobile, AL', method='PUT', page='NextSong', registration=1535931018000, sessionId=245, song='Smile (Radio Edit)', status=200, ts=1538352124000, userAgent='Mozilla/5.0 (Windows NT 6.1; WOW64; rv:31.0) Gecko/20100101 Firefox/31.0', userId='246', downgraded=0, Churn=0, upgraded=0, thumbs_up=0, thumbs_down=0, add_friend=0, advert=0, error=0, add_playlist=0, settings=0, paid=1)]"
      ]
     },
     "execution_count": 64,
     "metadata": {},
     "output_type": "execute_result"
    }
   ],
   "source": [
    "spark_data_valid.take(5)"
   ]
  },
  {
   "cell_type": "code",
   "execution_count": 65,
   "metadata": {},
   "outputs": [
    {
     "data": {
      "text/plain": [
       "528005"
      ]
     },
     "execution_count": 65,
     "metadata": {},
     "output_type": "execute_result"
    }
   ],
   "source": [
    "spark_data_valid.count()"
   ]
  },
  {
   "cell_type": "code",
   "execution_count": 66,
   "metadata": {},
   "outputs": [
    {
     "name": "stdout",
     "output_type": "stream",
     "text": [
      "+---------+---------------+\n",
      "|sessionId|           page|\n",
      "+---------+---------------+\n",
      "|      292|       NextSong|\n",
      "|      292|       NextSong|\n",
      "|      292|       NextSong|\n",
      "|      292|      Thumbs Up|\n",
      "|      292|       NextSong|\n",
      "|      292|       NextSong|\n",
      "|      292|       NextSong|\n",
      "|      292|       NextSong|\n",
      "|      292|       NextSong|\n",
      "|      292|       NextSong|\n",
      "|      292|       NextSong|\n",
      "|      292|       NextSong|\n",
      "|      292|       NextSong|\n",
      "|      292|         Logout|\n",
      "|      292|           Home|\n",
      "|      292|     Add Friend|\n",
      "|      292|       NextSong|\n",
      "|      292|       NextSong|\n",
      "|      292|Add to Playlist|\n",
      "|      292|       NextSong|\n",
      "|      292|       NextSong|\n",
      "|      292|       NextSong|\n",
      "|      292|    Roll Advert|\n",
      "|      292|       NextSong|\n",
      "|      292|       NextSong|\n",
      "|      292|       NextSong|\n",
      "|      292|       NextSong|\n",
      "|      292|       NextSong|\n",
      "|      292|       NextSong|\n",
      "|      292|       NextSong|\n",
      "|      292|       NextSong|\n",
      "|      292|       NextSong|\n",
      "|      292|Add to Playlist|\n",
      "|      292|       NextSong|\n",
      "|      292|       NextSong|\n",
      "|      292|       NextSong|\n",
      "|      292|       NextSong|\n",
      "|      292|       NextSong|\n",
      "|      292|       NextSong|\n",
      "|      292|       NextSong|\n",
      "|      292|    Roll Advert|\n",
      "|      292|       NextSong|\n",
      "|      292|       NextSong|\n",
      "|      292|       NextSong|\n",
      "|      292|       NextSong|\n",
      "|      292|       Settings|\n",
      "|      292|       NextSong|\n",
      "|      292|       NextSong|\n",
      "|      292|       NextSong|\n",
      "|      292|       NextSong|\n",
      "+---------+---------------+\n",
      "only showing top 50 rows\n",
      "\n"
     ]
    }
   ],
   "source": [
    "spark_data_valid.select(['sessionId', 'page']).filter(spark_data_valid['sessionId']=='292').show(50)"
   ]
  },
  {
   "cell_type": "code",
   "execution_count": 67,
   "metadata": {},
   "outputs": [
    {
     "name": "stdout",
     "output_type": "stream",
     "text": [
      "+------+-----+----------+\n",
      "|userId|level|last_level|\n",
      "+------+-----+----------+\n",
      "|100010| free|         0|\n",
      "|200002| paid|         1|\n",
      "|   296| paid|         1|\n",
      "|   125| free|         0|\n",
      "|   124| paid|         1|\n",
      "|    51| paid|         1|\n",
      "|     7| free|         0|\n",
      "|200037| free|         0|\n",
      "|   169| free|         0|\n",
      "|   205| paid|         1|\n",
      "|   272| free|         0|\n",
      "|    15| paid|         1|\n",
      "|   232| free|         0|\n",
      "|   234| paid|         1|\n",
      "|   282| paid|         1|\n",
      "|    54| paid|         1|\n",
      "|   155| paid|         1|\n",
      "|200043| paid|         1|\n",
      "|100014| paid|         1|\n",
      "|   132| paid|         1|\n",
      "+------+-----+----------+\n",
      "only showing top 20 rows\n",
      "\n"
     ]
    },
    {
     "data": {
      "text/plain": [
       "448"
      ]
     },
     "execution_count": 67,
     "metadata": {},
     "output_type": "execute_result"
    }
   ],
   "source": [
    "# identify latest level of user\n",
    "flag_levels = udf(lambda x: 1 if x==\"paid\" else 0, IntegerType())\n",
    "levels = spark_data_valid.select(['userId', 'level', 'ts'])\\\n",
    "    .orderBy(desc('ts'))\\\n",
    "    .dropDuplicates(['userId'])\\\n",
    "    .select(['userId', 'level'])\\\n",
    "    .withColumn('last_level', flag_levels('level').cast(IntegerType()))\n",
    "\n",
    "levels.show()\n",
    "levels.count()"
   ]
  },
  {
   "cell_type": "markdown",
   "metadata": {},
   "source": [
    "#### 2.  EXPLORE DATA\n",
    "Once you've defined churn, perform some exploratory data analysis to observe the behavior for users who stayed vs users who churned. You can start by exploring aggregates on these two groups of users, observing how much of a specific action they experienced per a certain time unit or number of songs played."
   ]
  },
  {
   "cell_type": "code",
   "execution_count": 68,
   "metadata": {},
   "outputs": [
    {
     "name": "stdout",
     "output_type": "stream",
     "text": [
      "#users who churned: 99\n"
     ]
    }
   ],
   "source": [
    "# identify user_ids who churned\n",
    "churn_user_list = spark_data_valid.filter(spark_data_valid.Churn==1).select(['userId']).collect()\n",
    "churn_user_array = [int(row.userId) for row in churn_user_list]\n",
    "print(\"#users who churned:\", len(churn_user_array))"
   ]
  },
  {
   "cell_type": "code",
   "execution_count": 69,
   "metadata": {},
   "outputs": [
    {
     "name": "stdout",
     "output_type": "stream",
     "text": [
      "#users who stayed: 349\n"
     ]
    }
   ],
   "source": [
    "# identify user_ids who stayed\n",
    "all_user_list = spark_data_valid.select(['userId']).dropDuplicates().collect()\n",
    "all_user_array=[int(row.userId) for row in all_user_list]\n",
    "stay_user_array = list(set(all_user_array)-set(churn_user_array))\n",
    "print(\"#users who stayed:\", len(stay_user_array))"
   ]
  },
  {
   "cell_type": "markdown",
   "metadata": {},
   "source": [
    "### Compare churn_users and stay_users in term of:\n",
    "- % paid vs. % free users between churned users and stayed users\n",
    "- how many songs played by churned users and stayed users on average\n",
    "- how much time they spent on the site?\n",
    "- have they downgraded before ?\n",
    "- how many thumbs-up or thumbs-down did they have?"
   ]
  },
  {
   "cell_type": "code",
   "execution_count": 70,
   "metadata": {},
   "outputs": [],
   "source": [
    "# Create a View table for churn and stay spark dataframe\n",
    "spark_data_valid.createOrReplaceTempView(\"combinedView\")\n",
    "levels.createOrReplaceTempView(\"levels\")"
   ]
  },
  {
   "cell_type": "code",
   "execution_count": 71,
   "metadata": {},
   "outputs": [
    {
     "data": {
      "text/plain": [
       "[Row(userId='138', userAgent='\"Mozilla/5.0 (iPad; CPU OS 7_1_1 like Mac OS X) AppleWebKit/537.51.2 (KHTML, like Gecko) Version/7.0 Mobile/11D201 Safari/9537.53\"', last_level=0, gender=1, distinctSession=14, artistCount=370, avgPageSess=41.142857142857146, songCount=434, totalAdvert=37, addPlaylist=10, totalError=1, totalTime=107916.26365000002, downgraded=0, upgraded=0, thumbs_up=27, thumbs_down=4, churn=0, paid=0),\n",
       " Row(userId='300018', userAgent='\"Mozilla/5.0 (Macintosh; Intel Mac OS X 10_9_4) AppleWebKit/537.36 (KHTML, like Gecko) Chrome/36.0.1985.125 Safari/537.36\"', last_level=1, gender=1, distinctSession=22, artistCount=707, avgPageSess=54.0, songCount=888, totalAdvert=56, addPlaylist=27, totalError=1, totalTime=223907.28055000026, downgraded=0, upgraded=1, thumbs_up=79, thumbs_down=7, churn=0, paid=1),\n",
       " Row(userId='200004', userAgent='\"Mozilla/5.0 (Macintosh; Intel Mac OS X 10_9_4) AppleWebKit/537.78.2 (KHTML, like Gecko) Version/7.0.6 Safari/537.78.2\"', last_level=0, gender=1, distinctSession=32, artistCount=1004, avgPageSess=57.90625, songCount=1430, totalAdvert=98, addPlaylist=40, totalError=2, totalTime=354256.41273000004, downgraded=0, upgraded=1, thumbs_up=80, thumbs_down=42, churn=0, paid=1),\n",
       " Row(userId='202', userAgent='\"Mozilla/5.0 (Macintosh; Intel Mac OS X 10_8_5) AppleWebKit/537.77.4 (KHTML, like Gecko) Version/6.1.5 Safari/537.77.4\"', last_level=1, gender=1, distinctSession=2, artistCount=186, avgPageSess=122.0, songCount=202, totalAdvert=1, addPlaylist=5, totalError=1, totalTime=49361.72388000003, downgraded=0, upgraded=1, thumbs_up=9, thumbs_down=0, churn=0, paid=1),\n",
       " Row(userId='153', userAgent='\"Mozilla/5.0 (Windows NT 6.1; WOW64) AppleWebKit/537.36 (KHTML, like Gecko) Chrome/36.0.1985.125 Safari/537.36\"', last_level=1, gender=1, distinctSession=9, artistCount=1029, avgPageSess=190.0, songCount=1454, totalAdvert=1, addPlaylist=36, totalError=1, totalTime=365271.0599899996, downgraded=0, upgraded=0, thumbs_up=77, thumbs_down=17, churn=0, paid=1)]"
      ]
     },
     "execution_count": 71,
     "metadata": {},
     "output_type": "execute_result"
    }
   ],
   "source": [
    "#combine churn and stay df\n",
    "sqlCombined= 'select v.userId,userAgent,l.last_level, case when gender=\"F\" then 0 else 1 end as gender,\\\n",
    "    count(distinct sessionId) as distinctSession,\\\n",
    "    count(distinct artist) as artistCount,\\\n",
    "    count(page)/count(distinct sessionId) as avgPageSess,\\\n",
    "    count(song) as songCount, \\\n",
    "    sum(advert) as totalAdvert,\\\n",
    "    sum(add_playlist) as addPlaylist,\\\n",
    "    sum(error) as totalError,\\\n",
    "    sum(length) as totalTime,\\\n",
    "    sum(downgraded) as downgraded,\\\n",
    "    sum(upgraded) as upgraded,\\\n",
    "    sum(thumbs_up) as thumbs_up,\\\n",
    "    sum(thumbs_down) as thumbs_down,\\\n",
    "    sum(Churn) as churn,\\\n",
    "    case when sum(paid)>0 then 1\\\n",
    "    when sum(paid)=0 then 0\\\n",
    "    end as paid\\\n",
    "    from combinedView v\\\n",
    "    join levels l\\\n",
    "    on v.userId = l.userId\\\n",
    "    group by v.userId,gender,userAgent,l.last_level'\n",
    "\n",
    "combined_agg_df = spark.sql(sqlCombined)\n",
    "combined_agg_df.take(5)"
   ]
  },
  {
   "cell_type": "code",
   "execution_count": 72,
   "metadata": {},
   "outputs": [
    {
     "name": "stdout",
     "output_type": "stream",
     "text": [
      "448\n"
     ]
    }
   ],
   "source": [
    "# convert dataframe for visualization\n",
    "print(combined_agg_df.count())\n",
    "combined_agg_pd = combined_agg_df.toPandas()"
   ]
  },
  {
   "cell_type": "code",
   "execution_count": 73,
   "metadata": {},
   "outputs": [
    {
     "data": {
      "text/html": [
       "<div>\n",
       "<style scoped>\n",
       "    .dataframe tbody tr th:only-of-type {\n",
       "        vertical-align: middle;\n",
       "    }\n",
       "\n",
       "    .dataframe tbody tr th {\n",
       "        vertical-align: top;\n",
       "    }\n",
       "\n",
       "    .dataframe thead th {\n",
       "        text-align: right;\n",
       "    }\n",
       "</style>\n",
       "<table border=\"1\" class=\"dataframe\">\n",
       "  <thead>\n",
       "    <tr style=\"text-align: right;\">\n",
       "      <th></th>\n",
       "      <th>userId</th>\n",
       "      <th>userAgent</th>\n",
       "      <th>last_level</th>\n",
       "      <th>gender</th>\n",
       "      <th>distinctSession</th>\n",
       "      <th>artistCount</th>\n",
       "      <th>avgPageSess</th>\n",
       "      <th>songCount</th>\n",
       "      <th>totalAdvert</th>\n",
       "      <th>addPlaylist</th>\n",
       "      <th>totalError</th>\n",
       "      <th>totalTime</th>\n",
       "      <th>downgraded</th>\n",
       "      <th>upgraded</th>\n",
       "      <th>thumbs_up</th>\n",
       "      <th>thumbs_down</th>\n",
       "      <th>churn</th>\n",
       "      <th>paid</th>\n",
       "    </tr>\n",
       "  </thead>\n",
       "  <tbody>\n",
       "    <tr>\n",
       "      <th>0</th>\n",
       "      <td>300018</td>\n",
       "      <td>\"Mozilla/5.0 (Macintosh; Intel Mac OS X 10_9_4...</td>\n",
       "      <td>1</td>\n",
       "      <td>1</td>\n",
       "      <td>22</td>\n",
       "      <td>707</td>\n",
       "      <td>54.000000</td>\n",
       "      <td>888</td>\n",
       "      <td>56</td>\n",
       "      <td>27</td>\n",
       "      <td>1</td>\n",
       "      <td>223907.28055</td>\n",
       "      <td>0</td>\n",
       "      <td>1</td>\n",
       "      <td>79</td>\n",
       "      <td>7</td>\n",
       "      <td>0</td>\n",
       "      <td>1</td>\n",
       "    </tr>\n",
       "    <tr>\n",
       "      <th>1</th>\n",
       "      <td>138</td>\n",
       "      <td>\"Mozilla/5.0 (iPad; CPU OS 7_1_1 like Mac OS X...</td>\n",
       "      <td>0</td>\n",
       "      <td>1</td>\n",
       "      <td>14</td>\n",
       "      <td>370</td>\n",
       "      <td>41.142857</td>\n",
       "      <td>434</td>\n",
       "      <td>37</td>\n",
       "      <td>10</td>\n",
       "      <td>1</td>\n",
       "      <td>107916.26365</td>\n",
       "      <td>0</td>\n",
       "      <td>0</td>\n",
       "      <td>27</td>\n",
       "      <td>4</td>\n",
       "      <td>0</td>\n",
       "      <td>0</td>\n",
       "    </tr>\n",
       "    <tr>\n",
       "      <th>2</th>\n",
       "      <td>200004</td>\n",
       "      <td>\"Mozilla/5.0 (Macintosh; Intel Mac OS X 10_9_4...</td>\n",
       "      <td>0</td>\n",
       "      <td>1</td>\n",
       "      <td>32</td>\n",
       "      <td>1004</td>\n",
       "      <td>57.906250</td>\n",
       "      <td>1430</td>\n",
       "      <td>98</td>\n",
       "      <td>40</td>\n",
       "      <td>2</td>\n",
       "      <td>354256.41273</td>\n",
       "      <td>0</td>\n",
       "      <td>1</td>\n",
       "      <td>80</td>\n",
       "      <td>42</td>\n",
       "      <td>0</td>\n",
       "      <td>1</td>\n",
       "    </tr>\n",
       "    <tr>\n",
       "      <th>3</th>\n",
       "      <td>202</td>\n",
       "      <td>\"Mozilla/5.0 (Macintosh; Intel Mac OS X 10_8_5...</td>\n",
       "      <td>1</td>\n",
       "      <td>1</td>\n",
       "      <td>2</td>\n",
       "      <td>186</td>\n",
       "      <td>122.000000</td>\n",
       "      <td>202</td>\n",
       "      <td>1</td>\n",
       "      <td>5</td>\n",
       "      <td>1</td>\n",
       "      <td>49361.72388</td>\n",
       "      <td>0</td>\n",
       "      <td>1</td>\n",
       "      <td>9</td>\n",
       "      <td>0</td>\n",
       "      <td>0</td>\n",
       "      <td>1</td>\n",
       "    </tr>\n",
       "    <tr>\n",
       "      <th>4</th>\n",
       "      <td>153</td>\n",
       "      <td>\"Mozilla/5.0 (Windows NT 6.1; WOW64) AppleWebK...</td>\n",
       "      <td>1</td>\n",
       "      <td>1</td>\n",
       "      <td>9</td>\n",
       "      <td>1029</td>\n",
       "      <td>190.000000</td>\n",
       "      <td>1454</td>\n",
       "      <td>1</td>\n",
       "      <td>36</td>\n",
       "      <td>1</td>\n",
       "      <td>365271.05999</td>\n",
       "      <td>0</td>\n",
       "      <td>0</td>\n",
       "      <td>77</td>\n",
       "      <td>17</td>\n",
       "      <td>0</td>\n",
       "      <td>1</td>\n",
       "    </tr>\n",
       "  </tbody>\n",
       "</table>\n",
       "</div>"
      ],
      "text/plain": [
       "   userId                                          userAgent  last_level  \\\n",
       "0  300018  \"Mozilla/5.0 (Macintosh; Intel Mac OS X 10_9_4...           1   \n",
       "1     138  \"Mozilla/5.0 (iPad; CPU OS 7_1_1 like Mac OS X...           0   \n",
       "2  200004  \"Mozilla/5.0 (Macintosh; Intel Mac OS X 10_9_4...           0   \n",
       "3     202  \"Mozilla/5.0 (Macintosh; Intel Mac OS X 10_8_5...           1   \n",
       "4     153  \"Mozilla/5.0 (Windows NT 6.1; WOW64) AppleWebK...           1   \n",
       "\n",
       "   gender  distinctSession  artistCount  avgPageSess  songCount  totalAdvert  \\\n",
       "0       1               22          707    54.000000        888           56   \n",
       "1       1               14          370    41.142857        434           37   \n",
       "2       1               32         1004    57.906250       1430           98   \n",
       "3       1                2          186   122.000000        202            1   \n",
       "4       1                9         1029   190.000000       1454            1   \n",
       "\n",
       "   addPlaylist  totalError     totalTime  downgraded  upgraded  thumbs_up  \\\n",
       "0           27           1  223907.28055           0         1         79   \n",
       "1           10           1  107916.26365           0         0         27   \n",
       "2           40           2  354256.41273           0         1         80   \n",
       "3            5           1   49361.72388           0         1          9   \n",
       "4           36           1  365271.05999           0         0         77   \n",
       "\n",
       "   thumbs_down  churn  paid  \n",
       "0            7      0     1  \n",
       "1            4      0     0  \n",
       "2           42      0     1  \n",
       "3            0      0     1  \n",
       "4           17      0     1  "
      ]
     },
     "execution_count": 73,
     "metadata": {},
     "output_type": "execute_result"
    }
   ],
   "source": [
    "combined_agg_pd.head()"
   ]
  },
  {
   "cell_type": "code",
   "execution_count": 74,
   "metadata": {},
   "outputs": [
    {
     "name": "stdout",
     "output_type": "stream",
     "text": [
      "+-----+----+-----+\n",
      "|churn|paid|count|\n",
      "+-----+----+-----+\n",
      "|    0|   1|  246|\n",
      "|    0|   0|  103|\n",
      "|    1|   1|   75|\n",
      "|    1|   0|   24|\n",
      "+-----+----+-----+\n",
      "\n"
     ]
    }
   ],
   "source": [
    "combined_agg_df.select(['userId','paid','churn']).dropDuplicates().groupBy('churn','paid').count().sort(desc('count')).show()"
   ]
  },
  {
   "cell_type": "code",
   "execution_count": 75,
   "metadata": {},
   "outputs": [
    {
     "data": {
      "image/png": "[encoded data removed]",
      "text/plain": [
       "<Figure size 440x216 with 2 Axes>"
      ]
     },
     "metadata": {
      "needs_background": "light"
     },
     "output_type": "display_data"
    }
   ],
   "source": [
    "g = sns.FacetGrid(combined_agg_pd, palette=\"Set1\",col=\"churn\")\n",
    "g.map(sns.distplot,'totalTime')\n",
    "g.add_legend();"
   ]
  },
  {
   "cell_type": "code",
   "execution_count": 134,
   "metadata": {},
   "outputs": [
    {
     "data": {
      "image/png": "[encoded data removed]",
      "text/plain": [
       "<Figure size 440x216 with 2 Axes>"
      ]
     },
     "metadata": {
      "needs_background": "light"
     },
     "output_type": "display_data"
    }
   ],
   "source": [
    "g = sns.FacetGrid(combined_agg_pd, palette=\"Set1\",col=\"churn\")\n",
    "g.map(sns.distplot,'totalAdvert')\n",
    "g.add_legend();"
   ]
  },
  {
   "cell_type": "code",
   "execution_count": 76,
   "metadata": {},
   "outputs": [
    {
     "data": {
      "image/png": "[encoded data removed]",
      "text/plain": [
       "<Figure size 440x216 with 2 Axes>"
      ]
     },
     "metadata": {
      "needs_background": "light"
     },
     "output_type": "display_data"
    }
   ],
   "source": [
    "g = sns.FacetGrid(combined_agg_pd, palette=\"Set1\",col=\"churn\")\n",
    "g.map(sns.distplot,'songCount')\n",
    "g.add_legend();"
   ]
  },
  {
   "cell_type": "code",
   "execution_count": 77,
   "metadata": {},
   "outputs": [
    {
     "data": {
      "image/png": "[encoded data removed]",
      "text/plain": [
       "<Figure size 440x216 with 2 Axes>"
      ]
     },
     "metadata": {
      "needs_background": "light"
     },
     "output_type": "display_data"
    }
   ],
   "source": [
    "g = sns.FacetGrid(combined_agg_pd, palette=\"Set1\",col=\"churn\")\n",
    "g.map(sns.distplot,'artistCount')\n",
    "g.add_legend();"
   ]
  },
  {
   "cell_type": "code",
   "execution_count": 78,
   "metadata": {},
   "outputs": [
    {
     "data": {
      "image/png": "[encoded data removed]",
      "text/plain": [
       "<Figure size 475.5x432 with 4 Axes>"
      ]
     },
     "metadata": {
      "needs_background": "light"
     },
     "output_type": "display_data"
    }
   ],
   "source": [
    "g = sns.FacetGrid(combined_agg_pd, palette=\"Set1\",col=\"churn\",row=\"paid\",hue=\"gender\")\n",
    "g.map(plt.scatter,'distinctSession','songCount',s=50,alpha=0.3)\n",
    "g.add_legend();"
   ]
  },
  {
   "cell_type": "code",
   "execution_count": 79,
   "metadata": {},
   "outputs": [
    {
     "data": {
      "image/png": "[encoded data removed]",
      "text/plain": [
       "<Figure size 475.5x432 with 4 Axes>"
      ]
     },
     "metadata": {
      "needs_background": "light"
     },
     "output_type": "display_data"
    }
   ],
   "source": [
    "g = sns.FacetGrid(combined_agg_pd, palette=\"Set1\",col=\"churn\",row=\"paid\",hue=\"gender\")\n",
    "g.map(plt.scatter,'thumbs_up','thumbs_down',s=50,alpha=0.3)\n",
    "g.add_legend();"
   ]
  },
  {
   "cell_type": "markdown",
   "metadata": {},
   "source": [
    "From the above graphs we can observer the following: \n",
    "1. There are higher percentage of paid than non-paid Non-churned users\n",
    "2. Non-churn users spend more time on the site, have more song counts and have more activities than those who churned"
   ]
  },
  {
   "cell_type": "markdown",
   "metadata": {},
   "source": [
    "# Feature Engineering"
   ]
  },
  {
   "cell_type": "code",
   "execution_count": 80,
   "metadata": {},
   "outputs": [
    {
     "name": "stdout",
     "output_type": "stream",
     "text": [
      "['last_level', 'gender', 'distinctSession', 'artistCount', 'avgPageSess', 'songCount', 'totalAdvert', 'addPlaylist', 'totalError', 'totalTime', 'downgraded', 'upgraded', 'thumbs_up', 'thumbs_down', 'paid']\n"
     ]
    }
   ],
   "source": [
    "numericCols = combined_agg_df.columns\n",
    "numericCols.remove(\"churn\")\n",
    "numericCols.remove(\"userId\")\n",
    "numericCols.remove(\"userAgent\")\n",
    "print(numericCols)"
   ]
  },
  {
   "cell_type": "code",
   "execution_count": 81,
   "metadata": {},
   "outputs": [],
   "source": [
    "stages = []\n",
    "\n",
    "# Transform all features into a vector using VectorAssembler\n",
    "assemblerInputs = numericCols\n",
    "assembler = VectorAssembler(inputCols=assemblerInputs, outputCol=\"features\")\n",
    "standardscaler=StandardScaler().setInputCol(\"features\").setOutputCol(\"scaledFeatures\")\n",
    "stages += [assembler,standardscaler]"
   ]
  },
  {
   "cell_type": "code",
   "execution_count": 82,
   "metadata": {},
   "outputs": [
    {
     "data": {
      "text/plain": [
       "[VectorAssembler_470da410c3ddaba6ae67, StandardScaler_4bfc868f66b52c7821f6]"
      ]
     },
     "execution_count": 82,
     "metadata": {},
     "output_type": "execute_result"
    }
   ],
   "source": [
    "stages"
   ]
  },
  {
   "cell_type": "code",
   "execution_count": 83,
   "metadata": {},
   "outputs": [],
   "source": [
    "#Run the stages as a Pipeline. \n",
    "partialPipeline = Pipeline().setStages(stages)\n",
    "pipelineModel = partialPipeline.fit(combined_agg_df)\n",
    "preppedDataDF = pipelineModel.transform(combined_agg_df)"
   ]
  },
  {
   "cell_type": "code",
   "execution_count": 84,
   "metadata": {},
   "outputs": [
    {
     "name": "stdout",
     "output_type": "stream",
     "text": [
      "+--------------------+--------------------+\n",
      "|            features|      scaledFeatures|\n",
      "+--------------------+--------------------+\n",
      "|[0.0,1.0,14.0,370...|[0.0,2.0113616675...|\n",
      "|[1.0,1.0,22.0,707...|[2.04127203248654...|\n",
      "|[1.0,1.0,2.0,186....|[2.04127203248654...|\n",
      "|[0.0,1.0,23.0,820...|[0.0,2.0113616675...|\n",
      "|[1.0,1.0,11.0,706...|[2.04127203248654...|\n",
      "+--------------------+--------------------+\n",
      "only showing top 5 rows\n",
      "\n"
     ]
    }
   ],
   "source": [
    "preppedDataDF.select(\"features\",\"scaledFeatures\").show(5)"
   ]
  },
  {
   "cell_type": "markdown",
   "metadata": {},
   "source": [
    "# Modeling\n",
    "Split the full dataset into train, test, and validation sets. Test out several of the machine learning methods you learned. Evaluate the accuracy of the various models, tuning parameters as necessary. Determine your winning model based on test accuracy and report results on the validation set. Since the churned users are a fairly small subset, I suggest using F1 score as the metric to optimize."
   ]
  },
  {
   "cell_type": "code",
   "execution_count": 91,
   "metadata": {},
   "outputs": [
    {
     "name": "stdout",
     "output_type": "stream",
     "text": [
      "training count: 314\n",
      "test count: 138\n"
     ]
    }
   ],
   "source": [
    "# Split dataset into training, test \n",
    "(training, test) = preppedDataDF.randomSplit([0.7, 0.3], seed=42)\n",
    "print('training count:', training.count())\n",
    "print('test count:', test.count())"
   ]
  },
  {
   "cell_type": "code",
   "execution_count": 86,
   "metadata": {},
   "outputs": [
    {
     "data": {
      "text/plain": [
       "[Row(userId='138', userAgent='\"Mozilla/5.0 (iPad; CPU OS 7_1_1 like Mac OS X) AppleWebKit/537.51.2 (KHTML, like Gecko) Version/7.0 Mobile/11D201 Safari/9537.53\"', last_level=0, gender=1, distinctSession=14, artistCount=370, avgPageSess=41.142857142857146, songCount=434, totalAdvert=37, addPlaylist=10, totalError=1, totalTime=107916.26365000002, downgraded=0, upgraded=0, thumbs_up=27, thumbs_down=4, churn=0, paid=0, features=DenseVector([0.0, 1.0, 14.0, 370.0, 41.1429, 434.0, 37.0, 10.0, 1.0, 107916.2637, 0.0, 0.0, 27.0, 4.0, 0.0]), scaledFeatures=DenseVector([0.0, 2.0114, 1.0629, 0.5912, 0.9043, 0.3771, 1.7289, 0.2969, 0.5946, 0.377, 0.0, 0.0, 0.3876, 0.2995, 0.0]))]"
      ]
     },
     "execution_count": 86,
     "metadata": {},
     "output_type": "execute_result"
    }
   ],
   "source": [
    "training.take(1)"
   ]
  },
  {
   "cell_type": "code",
   "execution_count": 101,
   "metadata": {},
   "outputs": [],
   "source": [
    "def trainingModel(classifier,training,test):\n",
    "     '''\n",
    "    This function train and test classification model with different classifiers and cross validation\n",
    "    \n",
    "    INPUT:\n",
    "    classifier - classifier (DecisionTree, Random Forest, etc.)\n",
    "    training - spark dataframe for training\n",
    "    test - spark dataframe for test\n",
    "    \n",
    "    OUTPUT:\n",
    "    model - trained model\n",
    "    predict_test - predicted datafshow all records in test set\n",
    "    \n",
    "    '''\n",
    "    start = time()\n",
    "    model=classifier.fit(training)\n",
    "    predict_train=model.transform(training)\n",
    "    predict_test=model.transform(test)\n",
    "    end = time()\n",
    "    prediction_time = end - start\n",
    "    print(\"Training time:\", prediction_time)\n",
    "    return model,predict_test\n",
    "\n",
    "    "
   ]
  },
  {
   "cell_type": "code",
   "execution_count": 116,
   "metadata": {},
   "outputs": [],
   "source": [
    "def evaluateModel(predict_test):\n",
    "    summary = {}\n",
    "    evaluator = MulticlassClassificationEvaluator(predictionCol=\"prediction\", labelCol=\"churn\")\n",
    "    summary['f1_score'] = evaluator.evaluate(predict_test, {evaluator.metricName: \"f1\"})\n",
    "    summary['precision'] = evaluator.evaluate(predict_test, {evaluator.metricName: \"weightedPrecision\"})\n",
    "    summary['recall'] = evaluator.evaluate(predict_test, {evaluator.metricName: \"weightedRecall\"})\n",
    "    summary['accuracy'] = evaluator.evaluate(predict_test, {evaluator.metricName: \"accuracy\"})\n",
    "    confusion_matrix = predict_test.groupby(\"Churn\").pivot(\"prediction\").count()\n",
    "    return summary,confusion_matrix"
   ]
  },
  {
   "cell_type": "code",
   "execution_count": 99,
   "metadata": {},
   "outputs": [
    {
     "name": "stdout",
     "output_type": "stream",
     "text": [
      "Training time: 54.073190689086914\n"
     ]
    }
   ],
   "source": [
    "# Try logistics Regression with no Params Tuning\n",
    "lr = LogisticRegression(labelCol=\"churn\", featuresCol=\"scaledFeatures\",maxIter=10)\n",
    "\n",
    "model_lr,predict_test_lr = trainingModel(lr,training,test)"
   ]
  },
  {
   "cell_type": "code",
   "execution_count": 102,
   "metadata": {},
   "outputs": [],
   "source": [
    "summary_lr,confusion_matrix_lr = evaluateModel(predict_test_lr)"
   ]
  },
  {
   "cell_type": "code",
   "execution_count": 107,
   "metadata": {},
   "outputs": [
    {
     "name": "stdout",
     "output_type": "stream",
     "text": [
      "Training time: 105.55780577659607\n"
     ]
    }
   ],
   "source": [
    "# Try RandomForest with no Params Tuning\n",
    "rf = RandomForestClassifier(labelCol=\"churn\", featuresCol=\"scaledFeatures\")\n",
    "model_rf,predict_test_rf = trainingModel(rf,training,test)"
   ]
  },
  {
   "cell_type": "code",
   "execution_count": 108,
   "metadata": {},
   "outputs": [
    {
     "name": "stdout",
     "output_type": "stream",
     "text": [
      "{'f1_score': 0.7702669303015324, 'precision': 0.7798353909465021, 'recall': 0.8074074074074075, 'accuracy': 0.7928571428571428}\n",
      "+-----+---+---+\n",
      "|Churn|0.0|1.0|\n",
      "+-----+---+---+\n",
      "|    0|103|  4|\n",
      "|    1| 26|  4|\n",
      "+-----+---+---+\n",
      "\n"
     ]
    }
   ],
   "source": [
    "summary_rf,confusion_matrix_rf = evaluateModel(predict_test_rf)"
   ]
  },
  {
   "cell_type": "code",
   "execution_count": 109,
   "metadata": {},
   "outputs": [
    {
     "name": "stdout",
     "output_type": "stream",
     "text": [
      "Training time: 213.31944227218628\n"
     ]
    }
   ],
   "source": [
    "# Try GBTClassifier with no Params Tuning\n",
    "gbtc = GBTClassifier(labelCol=\"churn\", featuresCol=\"scaledFeatures\")\n",
    "model_gbtc,predict_test_gbtc = trainingModel(gbtc,training,test)"
   ]
  },
  {
   "cell_type": "code",
   "execution_count": 110,
   "metadata": {},
   "outputs": [
    {
     "name": "stdout",
     "output_type": "stream",
     "text": [
      "{'f1_score': 0.7471422611597831, 'precision': 0.7164179104477612, 'recall': 0.746376811594203, 'accuracy': 0.7388059701492538}\n",
      "+-----+---+---+\n",
      "|Churn|0.0|1.0|\n",
      "+-----+---+---+\n",
      "|    0| 89| 16|\n",
      "|    1| 22|  9|\n",
      "+-----+---+---+\n",
      "\n"
     ]
    }
   ],
   "source": [
    "summary_gbtc,confusion_matrix_gbtc = evaluateModel(predict_test_gbtc)"
   ]
  },
  {
   "cell_type": "code",
   "execution_count": 111,
   "metadata": {},
   "outputs": [
    {
     "name": "stdout",
     "output_type": "stream",
     "text": [
      "Logistics Regression: {'f1_score': 0.732241250930752, 'precision': 0.7723076923076923, 'recall': 0.801470588235294, 'accuracy': 0.8074074074074075}\n",
      "+-----+---+---+\n",
      "|Churn|0.0|1.0|\n",
      "+-----+---+---+\n",
      "|    0|108|  3|\n",
      "|    1| 26|  4|\n",
      "+-----+---+---+\n",
      "\n",
      "Random Forest: {'f1_score': 0.7702669303015324, 'precision': 0.7798353909465021, 'recall': 0.8074074074074075, 'accuracy': 0.7928571428571428}\n",
      "+-----+---+---+\n",
      "|Churn|0.0|1.0|\n",
      "+-----+---+---+\n",
      "|    0|109|  4|\n",
      "|    1| 24|  4|\n",
      "+-----+---+---+\n",
      "\n",
      "Gradient-Boosted Trees (GBTs): {'f1_score': 0.7471422611597831, 'precision': 0.7164179104477612, 'recall': 0.746376811594203, 'accuracy': 0.7388059701492538}\n",
      "+-----+---+---+\n",
      "|Churn|0.0|1.0|\n",
      "+-----+---+---+\n",
      "|    0| 91| 15|\n",
      "|    1| 19|  7|\n",
      "+-----+---+---+\n",
      "\n"
     ]
    }
   ],
   "source": [
    "print(\"Logistics Regression:\", summary_lr)\n",
    "confusion_matrix_lr.show()\n",
    "print(\"Random Forest:\", summary_rf)\n",
    "confusion_matrix_rf.show()\n",
    "print(\"Gradient-Boosted Trees (GBTs):\", summary_gbtc)\n",
    "confusion_matrix_gbtc.show()"
   ]
  },
  {
   "cell_type": "code",
   "execution_count": 127,
   "metadata": {},
   "outputs": [],
   "source": [
    "# Build model\n",
    "\n",
    "def trainModelCV(classifier, paramGrid):\n",
    "    \n",
    "    '''\n",
    "    This function train and test classification model with different classifiers and cross validation\n",
    "    \n",
    "    INPUT:\n",
    "    classifier - classifier (DecisionTree, Random Forest, etc.)\n",
    "    param - parmaGrid for Cross Validation based of different classifiers\n",
    "    \n",
    "    OUTPUT:\n",
    "    model - trained model\n",
    "    predict_test - predicted data\n",
    "    \n",
    "    '''\n",
    "    start = time()\n",
    "    evaluator = MulticlassClassificationEvaluator(predictionCol=\"prediction\", labelCol=\"churn\")\n",
    "\n",
    "    # Create 5-fold CrossValidator\n",
    "    cv = CrossValidator(estimator=classifier, estimatorParamMaps=paramGrid, evaluator=evaluator, numFolds=5)\n",
    "\n",
    "    # Run cross validations\n",
    "    model = cv.fit(training)\n",
    "    # this will likely take a fair amount of time because of the amount of models that we're creating and testing\n",
    "    \n",
    "    # Use test set to measure the accuracy of our model on new data\n",
    "    predict_test = model.transform(test)\n",
    "\n",
    "    end = time()\n",
    "    prediction_time = end - start\n",
    "    print(\"Training time:\", prediction_time)\n",
    "    \n",
    "    return model,predict_test"
   ]
  },
  {
   "cell_type": "code",
   "execution_count": 128,
   "metadata": {},
   "outputs": [
    {
     "name": "stdout",
     "output_type": "stream",
     "text": [
      "Training time: 1350.1863057613373\n"
     ]
    }
   ],
   "source": [
    "# build RandomForest model\n",
    "\n",
    "rf = RandomForestClassifier(labelCol=\"churn\", featuresCol=\"scaledFeatures\")\n",
    "paramRF = (ParamGridBuilder()\n",
    "             .addGrid(rf.maxDepth, [2, 4, 6])\n",
    "             .addGrid(rf.maxBins, [20, 60])\n",
    "             .addGrid(rf.numTrees, [5, 20])\n",
    "             .build())\n",
    "\n",
    "modelRF,predict_testCV_RF = trainModelCV(rf,paramRF)\n"
   ]
  },
  {
   "cell_type": "code",
   "execution_count": 129,
   "metadata": {},
   "outputs": [
    {
     "name": "stdout",
     "output_type": "stream",
     "text": [
      "{'f1_score': 0.7406385883407707, 'precision': 0.7363184079601991, 'recall': 0.7938931297709924, 'accuracy': 0.8045112781954887}\n",
      "+-----+---+---+\n",
      "|Churn|0.0|1.0|\n",
      "+-----+---+---+\n",
      "|    0|100|  5|\n",
      "|    1| 23|  6|\n",
      "+-----+---+---+\n",
      "\n"
     ]
    }
   ],
   "source": [
    "summary_rf,confusion_matrix_rf = evaluateModel(predict_testCV_RF)\n",
    "print(summary_rf)\n",
    "confusion_matrix_rf.show()"
   ]
  },
  {
   "cell_type": "code",
   "execution_count": null,
   "metadata": {},
   "outputs": [],
   "source": []
  }
 ],
 "metadata": {
  "kernelspec": {
   "display_name": "Python 3.6 with Spark",
   "language": "python3",
   "name": "python36"
  },
  "language_info": {
   "codemirror_mode": {
    "name": "ipython",
    "version": 3
   },
   "file_extension": ".py",
   "mimetype": "text/x-python",
   "name": "python",
   "nbconvert_exporter": "python",
   "pygments_lexer": "ipython3",
   "version": "3.6.8"
  }
 },
 "nbformat": 4,
 "nbformat_minor": 1
}
