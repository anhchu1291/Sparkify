{
 "cells": [
  {
   "cell_type": "markdown",
   "metadata": {},
   "source": [
    "# Sparkify Project Workspace\n",
    "This workspace contains a tiny subset (128MB) of the full dataset available (12GB). Feel free to use this workspace to build your project, or to explore a smaller subset with Spark before deploying your cluster on the cloud. Instructions for setting up your Spark cluster is included in the last lesson of the Extracurricular Spark Course content.\n",
    "\n",
    "You can follow the steps below to guide your data analysis and model building portion of this project."
   ]
  },
  {
   "cell_type": "code",
   "execution_count": 2,
   "metadata": {},
   "outputs": [],
   "source": [
    "# import libraries\n",
    "from pyspark.sql import SparkSession, Window\n",
    "from pyspark.sql.functions import udf\n",
    "from pyspark.sql.types import StringType, IntegerType\n",
    "from pyspark.sql.functions import *\n",
    "from pyspark.sql.functions import sum as Fsum\n",
    "\n",
    "import pandas as pd\n",
    "import numpy as np\n",
    "import matplotlib.pyplot as plt\n",
    "import seaborn as sns\n",
    "%matplotlib inline\n",
    "\n",
    "from pyspark.ml.feature import OneHotEncoder, StringIndexer, StandardScaler, Imputer, VectorAssembler,MinMaxScaler\n",
    "from pyspark.ml import Pipeline, PipelineModel\n",
    "from pyspark.ml.evaluation import BinaryClassificationEvaluator, MulticlassClassificationEvaluator \n",
    "from pyspark.mllib.evaluation import MulticlassMetrics \n",
    "from pyspark.ml.classification import RandomForestClassifier, LogisticRegression, DecisionTreeClassifier\n",
    "\n",
    "from pyspark.ml.tuning import ParamGridBuilder, CrossValidator"
   ]
  },
  {
   "cell_type": "code",
   "execution_count": 3,
   "metadata": {},
   "outputs": [],
   "source": [
    "# create a Spark session\n",
    "spark = SparkSession.builder.appName('Sparkify project').getOrCreate()"
   ]
  },
  {
   "cell_type": "markdown",
   "metadata": {},
   "source": [
    "# Load and Clean Dataset\n",
    "In this workspace, the mini-dataset file is `mini_sparkify_event_data.json`. Load and clean the dataset, checking for invalid or missing data - for example, records without userids or sessionids. "
   ]
  },
  {
   "cell_type": "code",
   "execution_count": 4,
   "metadata": {},
   "outputs": [
    {
     "data": {
      "text/plain": [
       "DataFrame[artist: string, auth: string, firstName: string, gender: string, itemInSession: bigint, lastName: string, length: double, level: string, location: string, method: string, page: string, registration: bigint, sessionId: bigint, song: string, status: bigint, ts: bigint, userAgent: string, userId: string]"
      ]
     },
     "execution_count": 4,
     "metadata": {},
     "output_type": "execute_result"
    }
   ],
   "source": [
    "path = 'mini_sparkify_event_data.json'\n",
    "spark_data = spark.read.json(path)   \n",
    "spark_data.persist()"
   ]
  },
  {
   "cell_type": "code",
   "execution_count": 5,
   "metadata": {},
   "outputs": [
    {
     "data": {
      "text/plain": [
       "Row(artist='Martha Tilston', auth='Logged In', firstName='Colin', gender='M', itemInSession=50, lastName='Freeman', length=277.89016, level='paid', location='Bakersfield, CA', method='PUT', page='NextSong', registration=1538173362000, sessionId=29, song='Rockpools', status=200, ts=1538352117000, userAgent='Mozilla/5.0 (Windows NT 6.1; WOW64; rv:31.0) Gecko/20100101 Firefox/31.0', userId='30')"
      ]
     },
     "execution_count": 5,
     "metadata": {},
     "output_type": "execute_result"
    }
   ],
   "source": [
    "spark_data.head()"
   ]
  },
  {
   "cell_type": "code",
   "execution_count": 6,
   "metadata": {},
   "outputs": [
    {
     "name": "stdout",
     "output_type": "stream",
     "text": [
      "root\n",
      " |-- artist: string (nullable = true)\n",
      " |-- auth: string (nullable = true)\n",
      " |-- firstName: string (nullable = true)\n",
      " |-- gender: string (nullable = true)\n",
      " |-- itemInSession: long (nullable = true)\n",
      " |-- lastName: string (nullable = true)\n",
      " |-- length: double (nullable = true)\n",
      " |-- level: string (nullable = true)\n",
      " |-- location: string (nullable = true)\n",
      " |-- method: string (nullable = true)\n",
      " |-- page: string (nullable = true)\n",
      " |-- registration: long (nullable = true)\n",
      " |-- sessionId: long (nullable = true)\n",
      " |-- song: string (nullable = true)\n",
      " |-- status: long (nullable = true)\n",
      " |-- ts: long (nullable = true)\n",
      " |-- userAgent: string (nullable = true)\n",
      " |-- userId: string (nullable = true)\n",
      "\n"
     ]
    }
   ],
   "source": [
    "spark_data.printSchema()"
   ]
  },
  {
   "cell_type": "code",
   "execution_count": 7,
   "metadata": {},
   "outputs": [
    {
     "name": "stdout",
     "output_type": "stream",
     "text": [
      "Number of records in the dataset: 286500\n",
      "+-------+-----------------+\n",
      "|summary|        sessionId|\n",
      "+-------+-----------------+\n",
      "|  count|           286500|\n",
      "|   mean|1041.526554973822|\n",
      "| stddev|726.7762634630741|\n",
      "|    min|                1|\n",
      "|    max|             2474|\n",
      "+-------+-----------------+\n",
      "\n",
      "+-------+-----------------+\n",
      "|summary|           userId|\n",
      "+-------+-----------------+\n",
      "|  count|           286500|\n",
      "|   mean|59682.02278593872|\n",
      "| stddev|109091.9499991047|\n",
      "|    min|                 |\n",
      "|    max|               99|\n",
      "+-------+-----------------+\n",
      "\n",
      "+-------+------------------+\n",
      "|summary|            artist|\n",
      "+-------+------------------+\n",
      "|  count|            228108|\n",
      "|   mean| 551.0852017937219|\n",
      "| stddev|1217.7693079161374|\n",
      "|    min|               !!!|\n",
      "|    max| ÃÂlafur Arnalds|\n",
      "+-------+------------------+\n",
      "\n"
     ]
    }
   ],
   "source": [
    "print(\"Number of records in the dataset:\", spark_data.count())\n",
    "spark_data.describe('sessionId').show()\n",
    "spark_data.describe('userId').show()\n",
    "spark_data.describe('artist').show()"
   ]
  },
  {
   "cell_type": "markdown",
   "metadata": {},
   "source": [
    "It looks like there are no missing data for UserID and SessionID but we can see UserID with blank values. We will drop those values from the new spark dataset"
   ]
  },
  {
   "cell_type": "code",
   "execution_count": 8,
   "metadata": {},
   "outputs": [],
   "source": [
    "#Drop null values in the userID and sessionID column \n",
    "spark_data_valid = spark_data.dropna(how='any',subset = ['userID','sessionID'])\n",
    "\n",
    "#rows with UserID is blank\n",
    "spark_data_invalid = spark_data_valid.filter(spark_data_valid['userID']=='')\n",
    "\n",
    "#Filter out rows with UserID is blank\n",
    "spark_data_valid = spark_data_valid.filter(spark_data_valid['userID']!='')"
   ]
  },
  {
   "cell_type": "code",
   "execution_count": 9,
   "metadata": {},
   "outputs": [
    {
     "data": {
      "text/plain": [
       "[Row(artist=None, auth='Logged Out', firstName=None, gender=None, itemInSession=100, lastName=None, length=None, level='free', location=None, method='GET', page='Home', registration=None, sessionId=8, song=None, status=200, ts=1538355745000, userAgent=None, userId=''),\n",
       " Row(artist=None, auth='Logged Out', firstName=None, gender=None, itemInSession=101, lastName=None, length=None, level='free', location=None, method='GET', page='Help', registration=None, sessionId=8, song=None, status=200, ts=1538355807000, userAgent=None, userId=''),\n",
       " Row(artist=None, auth='Logged Out', firstName=None, gender=None, itemInSession=102, lastName=None, length=None, level='free', location=None, method='GET', page='Home', registration=None, sessionId=8, song=None, status=200, ts=1538355841000, userAgent=None, userId=''),\n",
       " Row(artist=None, auth='Logged Out', firstName=None, gender=None, itemInSession=103, lastName=None, length=None, level='free', location=None, method='PUT', page='Login', registration=None, sessionId=8, song=None, status=307, ts=1538355842000, userAgent=None, userId=''),\n",
       " Row(artist=None, auth='Logged Out', firstName=None, gender=None, itemInSession=2, lastName=None, length=None, level='free', location=None, method='GET', page='Home', registration=None, sessionId=240, song=None, status=200, ts=1538356678000, userAgent=None, userId='')]"
      ]
     },
     "execution_count": 9,
     "metadata": {},
     "output_type": "execute_result"
    }
   ],
   "source": [
    "spark_data_invalid.take(5)"
   ]
  },
  {
   "cell_type": "code",
   "execution_count": 10,
   "metadata": {},
   "outputs": [
    {
     "name": "stdout",
     "output_type": "stream",
     "text": [
      "# of Records after removing blank userID: 278154\n",
      "# of Records with blank userID: 8346\n"
     ]
    }
   ],
   "source": [
    "print('# of Records after removing blank userID:', spark_data_valid.count())\n",
    "print('# of Records with blank userID:', spark_data.count()-spark_data_valid.count())"
   ]
  },
  {
   "cell_type": "code",
   "execution_count": 11,
   "metadata": {},
   "outputs": [
    {
     "name": "stdout",
     "output_type": "stream",
     "text": [
      "+--------------------+\n",
      "|                page|\n",
      "+--------------------+\n",
      "|              Cancel|\n",
      "|    Submit Downgrade|\n",
      "|         Thumbs Down|\n",
      "|                Home|\n",
      "|           Downgrade|\n",
      "|         Roll Advert|\n",
      "|              Logout|\n",
      "|       Save Settings|\n",
      "|Cancellation Conf...|\n",
      "|               About|\n",
      "|            Settings|\n",
      "|     Add to Playlist|\n",
      "|          Add Friend|\n",
      "|            NextSong|\n",
      "|           Thumbs Up|\n",
      "|                Help|\n",
      "|             Upgrade|\n",
      "|               Error|\n",
      "|      Submit Upgrade|\n",
      "+--------------------+\n",
      "\n"
     ]
    }
   ],
   "source": [
    "# List of page values\n",
    "spark_data_valid.select('page').dropDuplicates().show()"
   ]
  },
  {
   "cell_type": "code",
   "execution_count": 12,
   "metadata": {},
   "outputs": [
    {
     "name": "stdout",
     "output_type": "stream",
     "text": [
      "+--------------------+-----+\n",
      "|           userAgent|count|\n",
      "+--------------------+-----+\n",
      "|\"Mozilla/5.0 (Win...|   24|\n",
      "|Mozilla/5.0 (Wind...|   18|\n",
      "|\"Mozilla/5.0 (Mac...|   16|\n",
      "|\"Mozilla/5.0 (Mac...|   12|\n",
      "|\"Mozilla/5.0 (Mac...|   12|\n",
      "|\"Mozilla/5.0 (Mac...|   10|\n",
      "|\"Mozilla/5.0 (Win...|   10|\n",
      "|Mozilla/5.0 (Maci...|    9|\n",
      "|\"Mozilla/5.0 (iPh...|    8|\n",
      "|\"Mozilla/5.0 (Win...|    7|\n",
      "|\"Mozilla/5.0 (Mac...|    7|\n",
      "|Mozilla/5.0 (Wind...|    7|\n",
      "|\"Mozilla/5.0 (Win...|    5|\n",
      "|Mozilla/5.0 (Wind...|    4|\n",
      "|\"Mozilla/5.0 (Win...|    4|\n",
      "|\"Mozilla/5.0 (Win...|    4|\n",
      "|\"Mozilla/5.0 (X11...|    4|\n",
      "|\"Mozilla/5.0 (Win...|    4|\n",
      "|Mozilla/5.0 (X11;...|    4|\n",
      "|\"Mozilla/5.0 (iPh...|    4|\n",
      "|Mozilla/5.0 (Wind...|    3|\n",
      "|Mozilla/5.0 (comp...|    3|\n",
      "|\"Mozilla/5.0 (Win...|    3|\n",
      "|\"Mozilla/5.0 (Mac...|    2|\n",
      "|\"Mozilla/5.0 (Mac...|    2|\n",
      "|\"Mozilla/5.0 (Mac...|    2|\n",
      "|Mozilla/5.0 (Maci...|    2|\n",
      "|\"Mozilla/5.0 (Win...|    2|\n",
      "|\"Mozilla/5.0 (Win...|    2|\n",
      "|Mozilla/5.0 (Wind...|    2|\n",
      "|\"Mozilla/5.0 (iPa...|    2|\n",
      "|\"Mozilla/5.0 (X11...|    2|\n",
      "|\"Mozilla/5.0 (Mac...|    2|\n",
      "|\"Mozilla/5.0 (Mac...|    1|\n",
      "|Mozilla/5.0 (comp...|    1|\n",
      "|Mozilla/5.0 (X11;...|    1|\n",
      "|Mozilla/5.0 (comp...|    1|\n",
      "|\"Mozilla/5.0 (Win...|    1|\n",
      "|\"Mozilla/5.0 (Win...|    1|\n",
      "|Mozilla/5.0 (Wind...|    1|\n",
      "|\"Mozilla/5.0 (Mac...|    1|\n",
      "|\"Mozilla/5.0 (Mac...|    1|\n",
      "|\"Mozilla/5.0 (Mac...|    1|\n",
      "|Mozilla/5.0 (Wind...|    1|\n",
      "|\"Mozilla/5.0 (iPh...|    1|\n",
      "|Mozilla/5.0 (Maci...|    1|\n",
      "|\"Mozilla/5.0 (Mac...|    1|\n",
      "|\"Mozilla/5.0 (Mac...|    1|\n",
      "|Mozilla/5.0 (Wind...|    1|\n",
      "|Mozilla/5.0 (Wind...|    1|\n",
      "|\"Mozilla/5.0 (Mac...|    1|\n",
      "|\"Mozilla/5.0 (Mac...|    1|\n",
      "|\"Mozilla/5.0 (Win...|    1|\n",
      "|Mozilla/5.0 (X11;...|    1|\n",
      "|\"Mozilla/5.0 (iPa...|    1|\n",
      "|Mozilla/5.0 (Maci...|    1|\n",
      "+--------------------+-----+\n",
      "\n"
     ]
    }
   ],
   "source": [
    "# number of users by userAgent (dedup userId)\n",
    "spark_data_valid.select(['userId','userAgent']).dropDuplicates().groupBy('userAgent').count().sort(desc('count')).show(100)"
   ]
  },
  {
   "cell_type": "code",
   "execution_count": 13,
   "metadata": {},
   "outputs": [
    {
     "name": "stdout",
     "output_type": "stream",
     "text": [
      "+------+-----+\n",
      "|userId|count|\n",
      "+------+-----+\n",
      "|100010|    1|\n",
      "|200002|    1|\n",
      "|   125|    1|\n",
      "|     7|    1|\n",
      "|    51|    1|\n",
      "|   124|    1|\n",
      "|    54|    1|\n",
      "|    15|    1|\n",
      "|   155|    1|\n",
      "|100014|    1|\n",
      "|   154|    1|\n",
      "|   132|    1|\n",
      "|   101|    1|\n",
      "|    11|    1|\n",
      "|300017|    1|\n",
      "|   138|    1|\n",
      "|100021|    1|\n",
      "|    69|    1|\n",
      "|    29|    1|\n",
      "|   112|    1|\n",
      "+------+-----+\n",
      "only showing top 20 rows\n",
      "\n"
     ]
    }
   ],
   "source": [
    "#can 1 user has multiple agents? Maybe Not :)\"\n",
    "spark_data_valid.select(['userId','userAgent']).dropDuplicates().groupBy('userId').count().sort(desc('count')).show(20)"
   ]
  },
  {
   "cell_type": "code",
   "execution_count": 14,
   "metadata": {},
   "outputs": [
    {
     "data": {
      "text/plain": [
       "225"
      ]
     },
     "execution_count": 14,
     "metadata": {},
     "output_type": "execute_result"
    }
   ],
   "source": [
    "# number of unique users\n",
    "spark_data_valid.select(['userId']).dropDuplicates().count()"
   ]
  },
  {
   "cell_type": "code",
   "execution_count": 15,
   "metadata": {},
   "outputs": [
    {
     "name": "stdout",
     "output_type": "stream",
     "text": [
      "+------+-----+\n",
      "|gender|count|\n",
      "+------+-----+\n",
      "|     F|  104|\n",
      "|     M|  121|\n",
      "+------+-----+\n",
      "\n"
     ]
    }
   ],
   "source": [
    "# number of users by Gender (dedup userId)\n",
    "spark_data_valid.select(['userId','gender']).dropDuplicates().groupBy('gender').count().show()"
   ]
  },
  {
   "cell_type": "code",
   "execution_count": 16,
   "metadata": {},
   "outputs": [
    {
     "name": "stdout",
     "output_type": "stream",
     "text": [
      "+--------------------+-----+\n",
      "|              artist|count|\n",
      "+--------------------+-----+\n",
      "|       Kings Of Leon| 1841|\n",
      "|            Coldplay| 1813|\n",
      "|Florence + The Ma...| 1236|\n",
      "|       Dwight Yoakam| 1135|\n",
      "|            BjÃÂ¶rk| 1133|\n",
      "|      The Black Keys| 1125|\n",
      "|                Muse| 1090|\n",
      "|       Justin Bieber| 1044|\n",
      "|        Jack Johnson| 1007|\n",
      "|              Eminem|  953|\n",
      "+--------------------+-----+\n",
      "only showing top 10 rows\n",
      "\n"
     ]
    }
   ],
   "source": [
    "# number of songs played by the most played artists\n",
    "artist_chart = spark_data_valid.dropna(how='any',subset=['artist'])\\\n",
    ".groupBy('artist').count().sort(desc('count')).show(10)"
   ]
  },
  {
   "cell_type": "code",
   "execution_count": 17,
   "metadata": {},
   "outputs": [
    {
     "name": "stdout",
     "output_type": "stream",
     "text": [
      "+------+--------------+\n",
      "|userID|sessionIdCount|\n",
      "+------+--------------+\n",
      "|    39|           107|\n",
      "|    92|            86|\n",
      "|200023|            76|\n",
      "|300011|            76|\n",
      "|   140|            71|\n",
      "|300017|            63|\n",
      "|300021|            58|\n",
      "|    42|            47|\n",
      "|    85|            41|\n",
      "|    35|            38|\n",
      "|    54|            37|\n",
      "|200020|            36|\n",
      "|   100|            35|\n",
      "|    29|            34|\n",
      "|300015|            33|\n",
      "|    95|            33|\n",
      "|    13|            33|\n",
      "|    30|            32|\n",
      "|     9|            31|\n",
      "|   126|            30|\n",
      "+------+--------------+\n",
      "only showing top 20 rows\n",
      "\n"
     ]
    }
   ],
   "source": [
    "# how many distinct sessions per user\n",
    "spark_data_valid.groupBy('userID')\\\n",
    "    .agg(countDistinct(\"sessionId\"))\\\n",
    "    .withColumnRenamed(\"count(DISTINCT sessionId)\", \"sessionIdCount\") \\\n",
    "    .sort(desc(\"sessionIdCount\")).show()"
   ]
  },
  {
   "cell_type": "markdown",
   "metadata": {},
   "source": [
    "#### How many songs users listen to on average between visiting our home page?"
   ]
  },
  {
   "cell_type": "code",
   "execution_count": 18,
   "metadata": {},
   "outputs": [
    {
     "name": "stdout",
     "output_type": "stream",
     "text": [
      "+---------------------+\n",
      "|avg(count(songCount))|\n",
      "+---------------------+\n",
      "|   23.611220370562055|\n",
      "+---------------------+\n",
      "\n"
     ]
    }
   ],
   "source": [
    "# SOLUTION USING SPARK DATAFRAME\n",
    "\n",
    "flag_home_func = udf(lambda x: 1 if x == 'Home' else 0, IntegerType())\n",
    "\n",
    "#Create User Window\n",
    "user_window = Window\\\n",
    "    .partitionBy('userId')\\\n",
    "    .orderBy('ts')\\\n",
    "    .rangeBetween(Window.unboundedPreceding,0)\n",
    "\n",
    "# create 'homeSession' column to flag home event and 'songCount' to flag song played during home events\n",
    "cusum = spark_data_valid.filter((spark_data_valid.page=='Home')| (spark_data_valid.page=='NextSong')) \\\n",
    "    .select(['userID','page','ts'])\\\n",
    "    .withColumn('homeSession',flag_home_func('page'))\\\n",
    "    .withColumn('songCount',Fsum('homeSession').over(user_window))\n",
    "\n",
    "#cusum.filter((cusum.userID == 126)).show()\n",
    "\n",
    "#calculate the average number of songs per user between vising homepage\n",
    "cusum.filter(cusum.page == 'NextSong') \\\n",
    "    .groupBy('userID', 'songCount') \\\n",
    "    .agg(count('songCount'))\\\n",
    "    .agg(avg('count(songCount)'))\\\n",
    "    .show()\n"
   ]
  },
  {
   "cell_type": "code",
   "execution_count": 19,
   "metadata": {},
   "outputs": [
    {
     "name": "stdout",
     "output_type": "stream",
     "text": [
      "+------------------+\n",
      "|avg(count_results)|\n",
      "+------------------+\n",
      "|23.586805914590013|\n",
      "+------------------+\n",
      "\n"
     ]
    }
   ],
   "source": [
    "# SOLUTION USING SPARK SQL\n",
    "spark_data_valid.createOrReplaceTempView(\"log_table\")\n",
    "\n",
    "# SELECT CASE WHEN 1 > 0 THEN 1 WHEN 2 > 0 THEN 2.0 ELSE 1.2 END;\n",
    "is_home = spark.sql(\"SELECT userID, page, ts, CASE WHEN page = 'Home' THEN 1 ELSE 0 END AS is_home FROM log_table \\\n",
    "            WHERE (page = 'NextSong') or (page = 'Home') \\\n",
    "            \")\n",
    "\n",
    "# keep the results in a new view\n",
    "is_home.createOrReplaceTempView(\"is_home_table\")\n",
    "\n",
    "# find the cumulative sum over the is_home column\n",
    "cumulative_sum = spark.sql(\"SELECT *, SUM(is_home) OVER \\\n",
    "    (PARTITION BY userID ORDER BY ts DESC ROWS BETWEEN UNBOUNDED PRECEDING AND CURRENT ROW) AS period \\\n",
    "    FROM is_home_table\")\n",
    "\n",
    "# keep the results in a view\n",
    "cumulative_sum.createOrReplaceTempView(\"period_table\")\n",
    "\n",
    "# find the average count for NextSong\n",
    "spark.sql(\"SELECT AVG(count_results) FROM \\\n",
    "          (SELECT COUNT(*) AS count_results FROM period_table \\\n",
    "GROUP BY userID, period, page HAVING page = 'NextSong') AS counts\").show()"
   ]
  },
  {
   "cell_type": "markdown",
   "metadata": {},
   "source": [
    "# Exploratory Data Analysis\n",
    "When you're working with the full dataset, perform EDA by loading a small subset of the data and doing basic manipulations within Spark. In this workspace, you are already provided a small subset of data you can explore.\n",
    "\n",
    "### Define Churn\n",
    "\n",
    "Once you've done some preliminary analysis, create a column `Churn` to use as the label for your model. I suggest using the `Cancellation Confirmation` events to define your churn, which happen for both paid and free users. As a bonus task, you can also look into the `Downgrade` events."
   ]
  },
  {
   "cell_type": "markdown",
   "metadata": {},
   "source": [
    "#### 1.FLAG CHURN EVENT"
   ]
  },
  {
   "cell_type": "code",
   "execution_count": 20,
   "metadata": {},
   "outputs": [],
   "source": [
    "flag_cancel_event_func = udf(lambda x: 1 if x=='Cancellation Confirmation' else 0, IntegerType())"
   ]
  },
  {
   "cell_type": "code",
   "execution_count": 21,
   "metadata": {},
   "outputs": [],
   "source": [
    "spark_data_valid = spark_data_valid.withColumn('Churn',flag_cancel_event_func('page'))"
   ]
  },
  {
   "cell_type": "code",
   "execution_count": 22,
   "metadata": {},
   "outputs": [
    {
     "data": {
      "text/plain": [
       "[Row(artist='Martha Tilston', auth='Logged In', firstName='Colin', gender='M', itemInSession=50, lastName='Freeman', length=277.89016, level='paid', location='Bakersfield, CA', method='PUT', page='NextSong', registration=1538173362000, sessionId=29, song='Rockpools', status=200, ts=1538352117000, userAgent='Mozilla/5.0 (Windows NT 6.1; WOW64; rv:31.0) Gecko/20100101 Firefox/31.0', userId='30', Churn=0)]"
      ]
     },
     "execution_count": 22,
     "metadata": {},
     "output_type": "execute_result"
    }
   ],
   "source": [
    "spark_data_valid.take(1)"
   ]
  },
  {
   "cell_type": "code",
   "execution_count": 23,
   "metadata": {},
   "outputs": [
    {
     "name": "stdout",
     "output_type": "stream",
     "text": [
      "+------+--------------------+----+---------+-----+-----+\n",
      "|userID|                page|song|sessionID|level|Churn|\n",
      "+------+--------------------+----+---------+-----+-----+\n",
      "|    18|Cancellation Conf...|null|      514| paid|    1|\n",
      "|    32|Cancellation Conf...|null|      540| paid|    1|\n",
      "|   125|Cancellation Conf...|null|      174| free|    1|\n",
      "|   105|Cancellation Conf...|null|      508| paid|    1|\n",
      "|    17|Cancellation Conf...|null|      797| paid|    1|\n",
      "|   143|Cancellation Conf...|null|      843| free|    1|\n",
      "|   101|Cancellation Conf...|null|      842| paid|    1|\n",
      "|   129|Cancellation Conf...|null|      802| paid|    1|\n",
      "|   121|Cancellation Conf...|null|      881| paid|    1|\n",
      "|    51|Cancellation Conf...|null|      934| paid|    1|\n",
      "|    87|Cancellation Conf...|null|     1092| paid|    1|\n",
      "|   122|Cancellation Conf...|null|     1029| paid|    1|\n",
      "|    12|Cancellation Conf...|null|     1072| paid|    1|\n",
      "|    58|Cancellation Conf...|null|     1112| paid|    1|\n",
      "|    73|Cancellation Conf...|null|     1059| paid|    1|\n",
      "|     3|Cancellation Conf...|null|     1324| paid|    1|\n",
      "|   106|Cancellation Conf...|null|     1383| paid|    1|\n",
      "|   103|Cancellation Conf...|null|     1583| paid|    1|\n",
      "|    28|Cancellation Conf...|null|     1519| paid|    1|\n",
      "|    54|Cancellation Conf...|null|     1819| paid|    1|\n",
      "+------+--------------------+----+---------+-----+-----+\n",
      "only showing top 20 rows\n",
      "\n"
     ]
    }
   ],
   "source": [
    "# Cancellation confirmation event\n",
    "spark_data_valid.select(['userID','page','song','sessionID','level','Churn']) \\\n",
    ".where(spark_data_valid['page']=='Cancellation Confirmation').show()"
   ]
  },
  {
   "cell_type": "code",
   "execution_count": 24,
   "metadata": {},
   "outputs": [],
   "source": [
    "#create downgrade event label\n",
    "flag_downgrade_event_func = udf(lambda x: 1 if x=='Submit Downgrade' else 0, IntegerType())\n",
    "spark_data_valid = spark_data_valid.withColumn('downgraded',flag_downgrade_event_func('page'))"
   ]
  },
  {
   "cell_type": "code",
   "execution_count": 25,
   "metadata": {},
   "outputs": [],
   "source": [
    "windowval = Window.partitionBy('userID').orderBy(desc('ts')).rangeBetween(Window.unboundedPreceding,0)"
   ]
  },
  {
   "cell_type": "code",
   "execution_count": 26,
   "metadata": {},
   "outputs": [],
   "source": [
    "#Flag the phase before and after Downgrade event\n",
    "spark_data_valid = spark_data_valid.withColumn('phase',Fsum(\"downgraded\").over(windowval))"
   ]
  },
  {
   "cell_type": "code",
   "execution_count": 27,
   "metadata": {},
   "outputs": [],
   "source": [
    "#create upgrade event label\n",
    "flag_upgrade_event_func = udf(lambda x: 1 if x=='Submit Upgrade' else 0, IntegerType())\n",
    "spark_data_valid = spark_data_valid.withColumn('upgraded',flag_upgrade_event_func('page'))"
   ]
  },
  {
   "cell_type": "code",
   "execution_count": 28,
   "metadata": {},
   "outputs": [],
   "source": [
    "#create paid level flag\n",
    "flag_paid = udf(lambda x: 1 if x=='paid' else 0, IntegerType())\n",
    "spark_data_valid = spark_data_valid.withColumn('paid',flag_paid('level'))"
   ]
  },
  {
   "cell_type": "code",
   "execution_count": 29,
   "metadata": {},
   "outputs": [],
   "source": [
    "#create thumb-up flag\n",
    "flag_thumbsup = udf(lambda x: 1 if x=='Thumbs Up' else 0, IntegerType())\n",
    "spark_data_valid = spark_data_valid.withColumn('thumbs_up',flag_thumbsup('page'))"
   ]
  },
  {
   "cell_type": "code",
   "execution_count": 30,
   "metadata": {},
   "outputs": [],
   "source": [
    "#create thumb-down flag\n",
    "flag_thumbsdown = udf(lambda x: 1 if x=='Thumbs Down' else 0, IntegerType())\n",
    "spark_data_valid = spark_data_valid.withColumn('thumbs_down',flag_thumbsdown('page'))"
   ]
  },
  {
   "cell_type": "code",
   "execution_count": 31,
   "metadata": {},
   "outputs": [
    {
     "data": {
      "text/plain": [
       "[Row(artist=None, auth='Logged In', firstName='Darianna', gender='F', itemInSession=34, lastName='Carpenter', length=None, level='free', location='Bridgeport-Stamford-Norwalk, CT', method='PUT', page='Logout', registration=1538016340000, sessionId=187, song=None, status=307, ts=1542823952000, userAgent='\"Mozilla/5.0 (iPhone; CPU iPhone OS 7_1_2 like Mac OS X) AppleWebKit/537.51.2 (KHTML, like Gecko) Version/7.0 Mobile/11D257 Safari/9537.53\"', userId='100010', Churn=0, downgraded=0, phase=0, upgraded=0, paid=0, thumbs_up=0, thumbs_down=0)]"
      ]
     },
     "execution_count": 31,
     "metadata": {},
     "output_type": "execute_result"
    }
   ],
   "source": [
    "spark_data_valid.take(1)"
   ]
  },
  {
   "cell_type": "markdown",
   "metadata": {},
   "source": [
    "#### 2.  EXPLORE DATA\n",
    "Once you've defined churn, perform some exploratory data analysis to observe the behavior for users who stayed vs users who churned. You can start by exploring aggregates on these two groups of users, observing how much of a specific action they experienced per a certain time unit or number of songs played."
   ]
  },
  {
   "cell_type": "code",
   "execution_count": 32,
   "metadata": {},
   "outputs": [
    {
     "name": "stdout",
     "output_type": "stream",
     "text": [
      "#users who churned: 52\n"
     ]
    }
   ],
   "source": [
    "# identify user_ids who churned\n",
    "churn_user_list = spark_data_valid.filter(spark_data_valid.Churn==1).select(['userId']).collect()\n",
    "churn_user_array = [int(row.userId) for row in churn_user_list]\n",
    "print(\"#users who churned:\", len(churn_user_array))"
   ]
  },
  {
   "cell_type": "code",
   "execution_count": 33,
   "metadata": {},
   "outputs": [
    {
     "data": {
      "text/plain": [
       "225"
      ]
     },
     "execution_count": 33,
     "metadata": {},
     "output_type": "execute_result"
    }
   ],
   "source": [
    "# identify user_ids who stayed\n",
    "all_user_list = spark_data_valid.select(['userId']).dropDuplicates().collect()\n",
    "all_user_array=[int(row.userId) for row in all_user_list]\n",
    "len(all_user_array)"
   ]
  },
  {
   "cell_type": "code",
   "execution_count": 34,
   "metadata": {},
   "outputs": [
    {
     "data": {
      "text/plain": [
       "173"
      ]
     },
     "execution_count": 34,
     "metadata": {},
     "output_type": "execute_result"
    }
   ],
   "source": [
    "stay_user_array = list(set(all_user_array)-set(churn_user_array))\n",
    "len(stay_user_array)"
   ]
  },
  {
   "cell_type": "code",
   "execution_count": 35,
   "metadata": {},
   "outputs": [],
   "source": [
    "#create spark dataframe with only churned users\n",
    "churn_df = spark_data_valid.filter(spark_data_valid.userId.isin(churn_user_array))\n",
    "stay_df = spark_data_valid.filter(spark_data_valid.userId.isin(stay_user_array))"
   ]
  },
  {
   "cell_type": "code",
   "execution_count": 36,
   "metadata": {},
   "outputs": [
    {
     "name": "stdout",
     "output_type": "stream",
     "text": [
      "44864\n"
     ]
    },
    {
     "data": {
      "text/plain": [
       "Row(artist=None, auth='Logged In', firstName='Mason', gender='M', itemInSession=9, lastName='Hart', length=None, level='free', location='Corpus Christi, TX', method='PUT', page='Cancel', registration=1533157139000, sessionId=174, song=None, status=307, ts=1539318918000, userAgent='\"Mozilla/5.0 (Macintosh; Intel Mac OS X 10_9_4) AppleWebKit/537.36 (KHTML, like Gecko) Chrome/36.0.1985.125 Safari/537.36\"', userId='125', Churn=0, downgraded=0, phase=0, upgraded=0, paid=0, thumbs_up=0, thumbs_down=0)"
      ]
     },
     "execution_count": 36,
     "metadata": {},
     "output_type": "execute_result"
    }
   ],
   "source": [
    "print(churn_df.count())\n",
    "churn_df.head()"
   ]
  },
  {
   "cell_type": "code",
   "execution_count": 37,
   "metadata": {},
   "outputs": [
    {
     "name": "stdout",
     "output_type": "stream",
     "text": [
      "+------+---------+--------------------+---------+--------------------+-----+----------+--------+----+---------+-----------+-----+\n",
      "|userID|firstName|                song|sessionId|                page|level|downgraded|upgraded|paid|thumbs_up|thumbs_down|Churn|\n",
      "+------+---------+--------------------+---------+--------------------+-----+----------+--------+----+---------+-----------+-----+\n",
      "|   125|    Mason|    paranoid android|      174|            NextSong| free|         0|       0|   0|        0|          0|    0|\n",
      "|   125|    Mason|Hypnotize(Album V...|      174|            NextSong| free|         0|       0|   0|        0|          0|    0|\n",
      "|   125|    Mason|       I'm On My Way|      174|            NextSong| free|         0|       0|   0|        0|          0|    0|\n",
      "|   125|    Mason|Leader Of Men (Al...|      174|            NextSong| free|         0|       0|   0|        0|          0|    0|\n",
      "|   125|    Mason|       Love You Down|      174|            NextSong| free|         0|       0|   0|        0|          0|    0|\n",
      "|   125|    Mason|Don't Leave Me Be...|      174|            NextSong| free|         0|       0|   0|        0|          0|    0|\n",
      "|   125|    Mason|     They're Red Hot|      174|            NextSong| free|         0|       0|   0|        0|          0|    0|\n",
      "|   125|    Mason|                Kota|      174|            NextSong| free|         0|       0|   0|        0|          0|    0|\n",
      "|   125|    Mason|                null|      174|         Roll Advert| free|         0|       0|   0|        0|          0|    0|\n",
      "|   125|    Mason|                null|      174|              Cancel| free|         0|       0|   0|        0|          0|    0|\n",
      "|   125|    Mason|                null|      174|Cancellation Conf...| free|         0|       0|   0|        0|          0|    1|\n",
      "+------+---------+--------------------+---------+--------------------+-----+----------+--------+----+---------+-----------+-----+\n",
      "\n"
     ]
    }
   ],
   "source": [
    "#inspect activities of 1 user who churned\n",
    "churn_df.select(['userID','firstName','song','sessionId','page','level','downgraded', 'upgraded', 'paid', 'thumbs_up'\\\n",
    "                 ,'thumbs_down','Churn']) \\\n",
    ".where(spark_data_valid['userID']==125).sort(\"ts\").show()"
   ]
  },
  {
   "cell_type": "code",
   "execution_count": 38,
   "metadata": {},
   "outputs": [
    {
     "name": "stdout",
     "output_type": "stream",
     "text": [
      "+------+---------+--------------------+---------+---------+-----+----------+--------+----+---------+-----------+-----+\n",
      "|userID|firstName|                song|sessionId|     page|level|downgraded|upgraded|paid|thumbs_up|thumbs_down|Churn|\n",
      "+------+---------+--------------------+---------+---------+-----+----------+--------+----+---------+-----------+-----+\n",
      "|    11|      Zoe|Life As A Father ...|     2092| NextSong| paid|         0|       0|   1|        0|          0|    0|\n",
      "|    11|      Zoe|Harmonic Necklace...|     2092| NextSong| paid|         0|       0|   1|        0|          0|    0|\n",
      "|    11|      Zoe|        The Pioneers|     2092| NextSong| paid|         0|       0|   1|        0|          0|    0|\n",
      "|    11|      Zoe|SegertÃÂ¥get (Da...|     2092| NextSong| paid|         0|       0|   1|        0|          0|    0|\n",
      "|    11|      Zoe|                null|     2092|Thumbs Up| paid|         0|       0|   1|        1|          0|    0|\n",
      "|    11|      Zoe|     We Were In Love|     2092| NextSong| paid|         0|       0|   1|        0|          0|    0|\n",
      "|    11|      Zoe|                null|     2092|Thumbs Up| paid|         0|       0|   1|        1|          0|    0|\n",
      "|    11|      Zoe|               Madre|     2092| NextSong| paid|         0|       0|   1|        0|          0|    0|\n",
      "|    11|      Zoe|Orange TrÃÂ¤gt N...|     2092| NextSong| paid|         0|       0|   1|        0|          0|    0|\n",
      "|    11|      Zoe|        Rusted Wheel|     2092| NextSong| paid|         0|       0|   1|        0|          0|    0|\n",
      "|    11|      Zoe| Half Of My Mistakes|     2092| NextSong| paid|         0|       0|   1|        0|          0|    0|\n",
      "|    11|      Zoe|Unprotected Sex W...|     2092| NextSong| paid|         0|       0|   1|        0|          0|    0|\n",
      "|    11|      Zoe|    Second awakening|     2092| NextSong| paid|         0|       0|   1|        0|          0|    0|\n",
      "|    11|      Zoe|             Alright|     2092| NextSong| paid|         0|       0|   1|        0|          0|    0|\n",
      "|    11|      Zoe|Smothered (Album ...|     2092| NextSong| paid|         0|       0|   1|        0|          0|    0|\n",
      "|    11|      Zoe|  Te enojai por todo|     2092| NextSong| paid|         0|       0|   1|        0|          0|    0|\n",
      "|    11|      Zoe|       Fire And Rain|     2092| NextSong| paid|         0|       0|   1|        0|          0|    0|\n",
      "|    11|      Zoe|                null|     2092|Thumbs Up| paid|         0|       0|   1|        1|          0|    0|\n",
      "|    11|      Zoe|Waters Of Nazaret...|     2092| NextSong| paid|         0|       0|   1|        0|          0|    0|\n",
      "|    11|      Zoe|I Let a Song Go O...|     2092| NextSong| paid|         0|       0|   1|        0|          0|    0|\n",
      "+------+---------+--------------------+---------+---------+-----+----------+--------+----+---------+-----------+-----+\n",
      "only showing top 20 rows\n",
      "\n"
     ]
    }
   ],
   "source": [
    "#inspect activities of 1 user who stayed\n",
    "stay_df.select(['userID','firstName','song','sessionId','page','level','downgraded', 'upgraded', 'paid', 'thumbs_up'\\\n",
    "                 ,'thumbs_down','Churn']) \\\n",
    ".where(spark_data_valid['userID']==11).sort(desc(\"ts\")).show()"
   ]
  },
  {
   "cell_type": "code",
   "execution_count": 39,
   "metadata": {},
   "outputs": [
    {
     "name": "stdout",
     "output_type": "stream",
     "text": [
      "233290\n"
     ]
    },
    {
     "data": {
      "text/plain": [
       "Row(artist=None, auth='Logged In', firstName='Darianna', gender='F', itemInSession=34, lastName='Carpenter', length=None, level='free', location='Bridgeport-Stamford-Norwalk, CT', method='PUT', page='Logout', registration=1538016340000, sessionId=187, song=None, status=307, ts=1542823952000, userAgent='\"Mozilla/5.0 (iPhone; CPU iPhone OS 7_1_2 like Mac OS X) AppleWebKit/537.51.2 (KHTML, like Gecko) Version/7.0 Mobile/11D257 Safari/9537.53\"', userId='100010', Churn=0, downgraded=0, phase=0, upgraded=0, paid=0, thumbs_up=0, thumbs_down=0)"
      ]
     },
     "execution_count": 39,
     "metadata": {},
     "output_type": "execute_result"
    }
   ],
   "source": [
    "print(stay_df.count())\n",
    "stay_df.head()"
   ]
  },
  {
   "cell_type": "markdown",
   "metadata": {},
   "source": [
    "#### Compare churn_users and stay_users in term of:\n",
    "- % paid vs. % free users between churned users and stayed users\n",
    "- how many songs played by churned users and stayed users on average\n",
    "- how much time they spent on the site?\n",
    "- have they downgraded before ?\n",
    "- how many thumbs-up or thumbs-down did they have?"
   ]
  },
  {
   "cell_type": "code",
   "execution_count": 40,
   "metadata": {},
   "outputs": [],
   "source": [
    "# Create a View table for churn and stay spark dataframe\n",
    "spark_data_valid.createOrReplaceTempView(\"combinedView\")"
   ]
  },
  {
   "cell_type": "code",
   "execution_count": 41,
   "metadata": {},
   "outputs": [
    {
     "name": "stdout",
     "output_type": "stream",
     "text": [
      "+------+--------------------+------+---------------+---------+------------------+----------+--------+---------+-----------+-----+----+\n",
      "|userId|           userAgent|gender|distinctSession|songCount|         totalTime|downgraded|upgraded|thumbs_up|thumbs_down|churn|paid|\n",
      "+------+--------------------+------+---------------+---------+------------------+----------+--------+---------+-----------+-----+----+\n",
      "|   109|Mozilla/5.0 (Wind...|     0|             12|      717|178960.94165999998|         1|       1|       23|          5|    0|   1|\n",
      "|    82|\"Mozilla/5.0 (Mac...|     0|             17|     1705| 424932.7910600001|         0|       1|       84|         20|    0|   1|\n",
      "|   126|\"Mozilla/5.0 (Win...|     1|             30|     2577| 648839.6085999998|         0|       1|      135|         21|    0|   1|\n",
      "|   152|\"Mozilla/5.0 (iPa...|     1|             20|     1409|      354939.59958|         0|       1|       81|         12|    0|   1|\n",
      "|200016|\"Mozilla/5.0 (Mac...|     0|              7|      206|       49737.93766|         0|       0|       19|          5|    1|   0|\n",
      "|   123|\"Mozilla/5.0 (iPh...|     1|              8|      150|35204.451129999994|         0|       0|        5|          1|    0|   0|\n",
      "|    69|\"Mozilla/5.0 (Win...|     0|              9|     1125|286064.02564000007|         0|       1|       72|          9|    0|   1|\n",
      "|200004|\"Mozilla/5.0 (Mac...|     1|             28|     1742| 434637.8322799999|         0|       0|       85|         54|    0|   1|\n",
      "|200009|\"Mozilla/5.0 (Win...|     1|             15|      963|241600.01870999997|         1|       1|       41|         32|    0|   1|\n",
      "|    20|\"Mozilla/5.0 (Win...|     0|             19|     1807|451089.77977999987|         2|       2|      106|         21|    0|   1|\n",
      "|    12|Mozilla/5.0 (Wind...|     0|              9|      867|      214620.52446|         1|       2|       42|          9|    1|   1|\n",
      "|     2|\"Mozilla/5.0 (Win...|     0|              7|      755| 188687.3834200001|         0|       0|       29|          6|    0|   1|\n",
      "|     7|Mozilla/5.0 (Wind...|     1|              7|      150|38034.087100000004|         0|       0|        7|          1|    0|   0|\n",
      "|   125|\"Mozilla/5.0 (Mac...|     1|              1|        8|2089.1131000000005|         0|       0|        0|          0|    1|   0|\n",
      "|200025|\"Mozilla/5.0 (Win...|     1|             14|      790|194320.02047999998|         1|       2|       48|         27|    0|   1|\n",
      "|    24|\"Mozilla/5.0 (Win...|     1|             15|      482|      123749.29328|         1|       1|       19|          2|    0|   1|\n",
      "|100008|Mozilla/5.0 (Maci...|     0|              6|      772|191396.79601999998|         1|       0|       37|          6|    0|   1|\n",
      "|    68|\"Mozilla/5.0 (Mac...|     0|              2|       29| 7079.692970000002|         0|       0|        2|          0|    0|   0|\n",
      "|300022|\"Mozilla/5.0 (X11...|     1|             11|      364|       91403.82518|         0|       0|       25|          5|    0|   1|\n",
      "|    61|\"Mozilla/5.0 (iPh...|     1|             19|     1622| 406492.8090100001|         2|       2|       78|         11|    0|   1|\n",
      "+------+--------------------+------+---------------+---------+------------------+----------+--------+---------+-----------+-----+----+\n",
      "only showing top 20 rows\n",
      "\n"
     ]
    }
   ],
   "source": [
    "#combine churn and stay df\n",
    "sqlCombined= 'select userId,userAgent,case when gender=\"F\" then 0 else 1 end as gender,\\\n",
    "    count(distinct sessionId) as distinctSession, count(song) as songCount, \\\n",
    "    sum(length) as totalTime,\\\n",
    "    sum(downgraded) as downgraded,\\\n",
    "    sum(upgraded) as upgraded,\\\n",
    "    sum(thumbs_up) as thumbs_up,\\\n",
    "    sum(thumbs_down) as thumbs_down,\\\n",
    "    sum(Churn) as churn,\\\n",
    "    case when sum(paid)>0 then 1\\\n",
    "    when sum(paid)=0 then 0\\\n",
    "    end as paid\\\n",
    "    from combinedView\\\n",
    "    group by userId,gender,userAgent'\n",
    "\n",
    "combined_agg_df = spark.sql(sqlCombined)\n",
    "combined_agg_df.show()"
   ]
  },
  {
   "cell_type": "code",
   "execution_count": 42,
   "metadata": {},
   "outputs": [
    {
     "data": {
      "text/plain": [
       "225"
      ]
     },
     "execution_count": 42,
     "metadata": {},
     "output_type": "execute_result"
    }
   ],
   "source": [
    "combined_agg_df.count()"
   ]
  },
  {
   "cell_type": "code",
   "execution_count": 43,
   "metadata": {},
   "outputs": [],
   "source": [
    "# convert dataframe for visualization\n",
    "combined_agg_pd = combined_agg_df.toPandas()"
   ]
  },
  {
   "cell_type": "code",
   "execution_count": 44,
   "metadata": {},
   "outputs": [
    {
     "data": {
      "text/html": [
       "<div>\n",
       "<style scoped>\n",
       "    .dataframe tbody tr th:only-of-type {\n",
       "        vertical-align: middle;\n",
       "    }\n",
       "\n",
       "    .dataframe tbody tr th {\n",
       "        vertical-align: top;\n",
       "    }\n",
       "\n",
       "    .dataframe thead th {\n",
       "        text-align: right;\n",
       "    }\n",
       "</style>\n",
       "<table border=\"1\" class=\"dataframe\">\n",
       "  <thead>\n",
       "    <tr style=\"text-align: right;\">\n",
       "      <th></th>\n",
       "      <th>userId</th>\n",
       "      <th>userAgent</th>\n",
       "      <th>gender</th>\n",
       "      <th>distinctSession</th>\n",
       "      <th>songCount</th>\n",
       "      <th>totalTime</th>\n",
       "      <th>downgraded</th>\n",
       "      <th>upgraded</th>\n",
       "      <th>thumbs_up</th>\n",
       "      <th>thumbs_down</th>\n",
       "      <th>churn</th>\n",
       "      <th>paid</th>\n",
       "    </tr>\n",
       "  </thead>\n",
       "  <tbody>\n",
       "    <tr>\n",
       "      <th>0</th>\n",
       "      <td>109</td>\n",
       "      <td>Mozilla/5.0 (Windows NT 6.1; WOW64; rv:31.0) G...</td>\n",
       "      <td>0</td>\n",
       "      <td>12</td>\n",
       "      <td>717</td>\n",
       "      <td>178960.94166</td>\n",
       "      <td>1</td>\n",
       "      <td>1</td>\n",
       "      <td>23</td>\n",
       "      <td>5</td>\n",
       "      <td>0</td>\n",
       "      <td>1</td>\n",
       "    </tr>\n",
       "    <tr>\n",
       "      <th>1</th>\n",
       "      <td>82</td>\n",
       "      <td>\"Mozilla/5.0 (Macintosh; Intel Mac OS X 10_9_4...</td>\n",
       "      <td>0</td>\n",
       "      <td>17</td>\n",
       "      <td>1705</td>\n",
       "      <td>424932.79106</td>\n",
       "      <td>0</td>\n",
       "      <td>1</td>\n",
       "      <td>84</td>\n",
       "      <td>20</td>\n",
       "      <td>0</td>\n",
       "      <td>1</td>\n",
       "    </tr>\n",
       "    <tr>\n",
       "      <th>2</th>\n",
       "      <td>126</td>\n",
       "      <td>\"Mozilla/5.0 (Windows NT 6.1; WOW64) AppleWebK...</td>\n",
       "      <td>1</td>\n",
       "      <td>30</td>\n",
       "      <td>2577</td>\n",
       "      <td>648839.60860</td>\n",
       "      <td>0</td>\n",
       "      <td>1</td>\n",
       "      <td>135</td>\n",
       "      <td>21</td>\n",
       "      <td>0</td>\n",
       "      <td>1</td>\n",
       "    </tr>\n",
       "    <tr>\n",
       "      <th>3</th>\n",
       "      <td>152</td>\n",
       "      <td>\"Mozilla/5.0 (iPad; CPU OS 7_1_2 like Mac OS X...</td>\n",
       "      <td>1</td>\n",
       "      <td>20</td>\n",
       "      <td>1409</td>\n",
       "      <td>354939.59958</td>\n",
       "      <td>0</td>\n",
       "      <td>1</td>\n",
       "      <td>81</td>\n",
       "      <td>12</td>\n",
       "      <td>0</td>\n",
       "      <td>1</td>\n",
       "    </tr>\n",
       "    <tr>\n",
       "      <th>4</th>\n",
       "      <td>200016</td>\n",
       "      <td>\"Mozilla/5.0 (Macintosh; Intel Mac OS X 10_9_4...</td>\n",
       "      <td>0</td>\n",
       "      <td>7</td>\n",
       "      <td>206</td>\n",
       "      <td>49737.93766</td>\n",
       "      <td>0</td>\n",
       "      <td>0</td>\n",
       "      <td>19</td>\n",
       "      <td>5</td>\n",
       "      <td>1</td>\n",
       "      <td>0</td>\n",
       "    </tr>\n",
       "  </tbody>\n",
       "</table>\n",
       "</div>"
      ],
      "text/plain": [
       "   userId                                          userAgent  gender  \\\n",
       "0     109  Mozilla/5.0 (Windows NT 6.1; WOW64; rv:31.0) G...       0   \n",
       "1      82  \"Mozilla/5.0 (Macintosh; Intel Mac OS X 10_9_4...       0   \n",
       "2     126  \"Mozilla/5.0 (Windows NT 6.1; WOW64) AppleWebK...       1   \n",
       "3     152  \"Mozilla/5.0 (iPad; CPU OS 7_1_2 like Mac OS X...       1   \n",
       "4  200016  \"Mozilla/5.0 (Macintosh; Intel Mac OS X 10_9_4...       0   \n",
       "\n",
       "   distinctSession  songCount     totalTime  downgraded  upgraded  thumbs_up  \\\n",
       "0               12        717  178960.94166           1         1         23   \n",
       "1               17       1705  424932.79106           0         1         84   \n",
       "2               30       2577  648839.60860           0         1        135   \n",
       "3               20       1409  354939.59958           0         1         81   \n",
       "4                7        206   49737.93766           0         0         19   \n",
       "\n",
       "   thumbs_down  churn  paid  \n",
       "0            5      0     1  \n",
       "1           20      0     1  \n",
       "2           21      0     1  \n",
       "3           12      0     1  \n",
       "4            5      1     0  "
      ]
     },
     "execution_count": 44,
     "metadata": {},
     "output_type": "execute_result"
    }
   ],
   "source": [
    "combined_agg_pd.head()"
   ]
  },
  {
   "cell_type": "code",
   "execution_count": 45,
   "metadata": {},
   "outputs": [
    {
     "data": {
      "image/png": "[encoded data removed]",
      "text/plain": [
       "<matplotlib.figure.Figure at 0x7f59233825c0>"
      ]
     },
     "metadata": {
      "needs_background": "light"
     },
     "output_type": "display_data"
    }
   ],
   "source": [
    "g = sns.FacetGrid(combined_agg_pd, palette=\"Set1\",col=\"churn\")\n",
    "g.map(sns.distplot,'paid')\n",
    "g.add_legend();"
   ]
  },
  {
   "cell_type": "code",
   "execution_count": 46,
   "metadata": {},
   "outputs": [
    {
     "data": {
      "image/png": "[encoded data removed]",
      "text/plain": [
       "<matplotlib.figure.Figure at 0x7f5921288a20>"
      ]
     },
     "metadata": {
      "needs_background": "light"
     },
     "output_type": "display_data"
    }
   ],
   "source": [
    "g = sns.FacetGrid(combined_agg_pd, palette=\"Set1\",col=\"churn\")\n",
    "g.map(sns.distplot,'totalTime')\n",
    "g.add_legend();"
   ]
  },
  {
   "cell_type": "code",
   "execution_count": 47,
   "metadata": {},
   "outputs": [
    {
     "data": {
      "image/png": "[encoded data removed]",
      "text/plain": [
       "<matplotlib.figure.Figure at 0x7f59211c0dd8>"
      ]
     },
     "metadata": {
      "needs_background": "light"
     },
     "output_type": "display_data"
    }
   ],
   "source": [
    "g = sns.FacetGrid(combined_agg_pd, palette=\"Set1\",col=\"churn\")\n",
    "g.map(sns.distplot,'songCount')\n",
    "g.add_legend();"
   ]
  },
  {
   "cell_type": "code",
   "execution_count": 48,
   "metadata": {},
   "outputs": [
    {
     "data": {
      "image/png": "[encoded data removed]",
      "text/plain": [
       "<matplotlib.figure.Figure at 0x7f5921130470>"
      ]
     },
     "metadata": {
      "needs_background": "light"
     },
     "output_type": "display_data"
    }
   ],
   "source": [
    "g = sns.FacetGrid(combined_agg_pd, palette=\"Set1\",col=\"churn\",row=\"paid\",hue=\"gender\")\n",
    "g.map(plt.scatter,'distinctSession','songCount',s=50,alpha=0.3)\n",
    "g.add_legend();"
   ]
  },
  {
   "cell_type": "code",
   "execution_count": 49,
   "metadata": {},
   "outputs": [
    {
     "data": {
      "image/png": "[encoded data removed]",
      "text/plain": [
       "<matplotlib.figure.Figure at 0x7f5920f5ac50>"
      ]
     },
     "metadata": {
      "needs_background": "light"
     },
     "output_type": "display_data"
    }
   ],
   "source": [
    "g = sns.FacetGrid(combined_agg_pd, palette=\"Set1\",col=\"churn\", hue='paid')\n",
    "g.map(plt.scatter,'thumbs_up','thumbs_down',s=50,alpha=0.3)\n",
    "g.add_legend();"
   ]
  },
  {
   "cell_type": "markdown",
   "metadata": {},
   "source": [
    "From the above graphs we can observer the following: \n",
    "1. There are higher percentage of paid than non-paid Non-churned users\n",
    "2. Non-churn users spend more time on the site, have more song counts and have more activities than those who churned"
   ]
  },
  {
   "cell_type": "markdown",
   "metadata": {},
   "source": [
    "# Feature Engineering"
   ]
  },
  {
   "cell_type": "code",
   "execution_count": 50,
   "metadata": {},
   "outputs": [],
   "source": [
    "numericCols = combined_agg_df.columns\n",
    "numericCols.remove(\"churn\")\n",
    "numericCols.remove(\"userId\")\n",
    "numericCols.remove(\"userAgent\")"
   ]
  },
  {
   "cell_type": "code",
   "execution_count": 51,
   "metadata": {},
   "outputs": [
    {
     "name": "stdout",
     "output_type": "stream",
     "text": [
      "['gender', 'distinctSession', 'songCount', 'totalTime', 'downgraded', 'upgraded', 'thumbs_up', 'thumbs_down', 'paid']\n"
     ]
    }
   ],
   "source": [
    "print(numericCols)\n",
    "stages = []\n",
    "\n",
    "# Transform all features into a vector using VectorAssembler\n",
    "assemblerInputs = numericCols\n",
    "assembler = VectorAssembler(inputCols=assemblerInputs, outputCol=\"features\")\n",
    "standardscaler=StandardScaler().setInputCol(\"features\").setOutputCol(\"scaledFeatures\")\n",
    "stages += [assembler,standardscaler]"
   ]
  },
  {
   "cell_type": "code",
   "execution_count": 52,
   "metadata": {},
   "outputs": [
    {
     "data": {
      "text/plain": [
       "[VectorAssembler_07ea80b132e2, StandardScaler_4d901f27409f]"
      ]
     },
     "execution_count": 52,
     "metadata": {},
     "output_type": "execute_result"
    }
   ],
   "source": [
    "stages"
   ]
  },
  {
   "cell_type": "code",
   "execution_count": 53,
   "metadata": {},
   "outputs": [],
   "source": [
    "#Run the stages as a Pipeline. \n",
    "#This puts the data through all of the feature transformations we described in a single call.\n",
    "from pyspark.ml.classification import LogisticRegression  \n",
    "partialPipeline = Pipeline().setStages(stages)\n",
    "pipelineModel = partialPipeline.fit(combined_agg_df)\n",
    "preppedDataDF = pipelineModel.transform(combined_agg_df)"
   ]
  },
  {
   "cell_type": "code",
   "execution_count": 54,
   "metadata": {},
   "outputs": [
    {
     "name": "stdout",
     "output_type": "stream",
     "text": [
      "+--------------------+--------------------+\n",
      "|            features|      scaledFeatures|\n",
      "+--------------------+--------------------+\n",
      "|[0.0,12.0,717.0,1...|[0.0,0.8192868504...|\n",
      "|[0.0,17.0,1705.0,...|[0.0,1.1606563715...|\n",
      "|[1.0,30.0,2577.0,...|[2.00127105192366...|\n",
      "|[1.0,20.0,1409.0,...|[2.00127105192366...|\n",
      "|[0.0,7.0,206.0,49...|[0.0,0.4779173294...|\n",
      "+--------------------+--------------------+\n",
      "only showing top 5 rows\n",
      "\n"
     ]
    }
   ],
   "source": [
    "preppedDataDF.select(\"features\",\"scaledFeatures\").show(5)"
   ]
  },
  {
   "cell_type": "code",
   "execution_count": 55,
   "metadata": {},
   "outputs": [
    {
     "name": "stdout",
     "output_type": "stream",
     "text": [
      "root\n",
      " |-- userId: string (nullable = true)\n",
      " |-- userAgent: string (nullable = true)\n",
      " |-- gender: integer (nullable = false)\n",
      " |-- distinctSession: long (nullable = false)\n",
      " |-- songCount: long (nullable = false)\n",
      " |-- totalTime: double (nullable = true)\n",
      " |-- downgraded: long (nullable = true)\n",
      " |-- upgraded: long (nullable = true)\n",
      " |-- thumbs_up: long (nullable = true)\n",
      " |-- thumbs_down: long (nullable = true)\n",
      " |-- churn: long (nullable = true)\n",
      " |-- paid: integer (nullable = true)\n",
      " |-- features: vector (nullable = true)\n",
      " |-- scaledFeatures: vector (nullable = true)\n",
      "\n"
     ]
    }
   ],
   "source": [
    "preppedDataDF.printSchema()"
   ]
  },
  {
   "cell_type": "markdown",
   "metadata": {},
   "source": [
    "# Modeling\n",
    "Split the full dataset into train, test, and validation sets. Test out several of the machine learning methods you learned. Evaluate the accuracy of the various models, tuning parameters as necessary. Determine your winning model based on test accuracy and report results on the validation set. Since the churned users are a fairly small subset, I suggest using F1 score as the metric to optimize."
   ]
  },
  {
   "cell_type": "code",
   "execution_count": 56,
   "metadata": {},
   "outputs": [
    {
     "name": "stdout",
     "output_type": "stream",
     "text": [
      "179\n",
      "46\n"
     ]
    }
   ],
   "source": [
    "# Split dataset into training, test \n",
    "(training, test) = preppedDataDF.randomSplit([0.8, 0.2], seed=42)\n",
    "print(training.count())\n",
    "print(test.count())"
   ]
  },
  {
   "cell_type": "code",
   "execution_count": 58,
   "metadata": {},
   "outputs": [
    {
     "name": "stdout",
     "output_type": "stream",
     "text": [
      "+----------+-----+\n",
      "|prediction|churn|\n",
      "+----------+-----+\n",
      "|       0.0|    0|\n",
      "|       0.0|    1|\n",
      "|       0.0|    0|\n",
      "|       0.0|    0|\n",
      "|       0.0|    1|\n",
      "|       0.0|    0|\n",
      "|       0.0|    0|\n",
      "|       0.0|    0|\n",
      "|       0.0|    0|\n",
      "|       0.0|    1|\n",
      "|       0.0|    0|\n",
      "|       0.0|    0|\n",
      "|       0.0|    0|\n",
      "|       0.0|    0|\n",
      "|       0.0|    0|\n",
      "|       0.0|    0|\n",
      "|       0.0|    0|\n",
      "|       0.0|    1|\n",
      "|       0.0|    0|\n",
      "|       0.0|    0|\n",
      "+----------+-----+\n",
      "only showing top 20 rows\n",
      "\n"
     ]
    }
   ],
   "source": [
    "# Try logistics Regression \n",
    "lr = LogisticRegression(labelCol=\"churn\", featuresCol=\"scaledFeatures\",maxIter=10)\n",
    "model=lr.fit(training)\n",
    "predict_train=model.transform(training)\n",
    "predict_test=model.transform(test)"
   ]
  },
  {
   "cell_type": "code",
   "execution_count": 60,
   "metadata": {},
   "outputs": [
    {
     "name": "stdout",
     "output_type": "stream",
     "text": [
      "+----------+-----+\n",
      "|prediction|churn|\n",
      "+----------+-----+\n",
      "|       0.0|    0|\n",
      "|       0.0|    1|\n",
      "|       0.0|    0|\n",
      "|       0.0|    0|\n",
      "|       0.0|    1|\n",
      "|       0.0|    0|\n",
      "|       0.0|    0|\n",
      "|       0.0|    0|\n",
      "|       0.0|    0|\n",
      "|       0.0|    1|\n",
      "|       0.0|    0|\n",
      "|       0.0|    0|\n",
      "|       0.0|    0|\n",
      "|       0.0|    0|\n",
      "|       0.0|    0|\n",
      "|       0.0|    0|\n",
      "|       0.0|    0|\n",
      "|       0.0|    1|\n",
      "|       0.0|    0|\n",
      "|       0.0|    0|\n",
      "|       0.0|    0|\n",
      "|       0.0|    0|\n",
      "|       0.0|    0|\n",
      "|       0.0|    0|\n",
      "|       0.0|    0|\n",
      "|       0.0|    0|\n",
      "|       0.0|    1|\n",
      "|       0.0|    0|\n",
      "|       0.0|    0|\n",
      "|       0.0|    0|\n",
      "|       0.0|    0|\n",
      "|       0.0|    1|\n",
      "|       0.0|    0|\n",
      "|       0.0|    0|\n",
      "|       0.0|    0|\n",
      "|       0.0|    0|\n",
      "|       0.0|    0|\n",
      "|       0.0|    0|\n",
      "|       0.0|    1|\n",
      "|       0.0|    0|\n",
      "|       0.0|    0|\n",
      "|       0.0|    0|\n",
      "|       0.0|    0|\n",
      "|       0.0|    1|\n",
      "|       0.0|    1|\n",
      "|       0.0|    0|\n",
      "+----------+-----+\n",
      "\n"
     ]
    }
   ],
   "source": [
    "predict_test.select('prediction', 'churn').show(100)"
   ]
  },
  {
   "cell_type": "code",
   "execution_count": 75,
   "metadata": {},
   "outputs": [
    {
     "name": "stdout",
     "output_type": "stream",
     "text": [
      "f1: 0.7171293871136721\n"
     ]
    }
   ],
   "source": [
    "evaluator = MulticlassClassificationEvaluator(predictionCol=\"prediction\", labelCol=\"churn\",metricName='f1')\n",
    "f1_score = evaluator.evaluate(predict_test)\n",
    "print(\"f1: {}\".format(f1_score))"
   ]
  },
  {
   "cell_type": "code",
   "execution_count": 70,
   "metadata": {},
   "outputs": [
    {
     "name": "stdout",
     "output_type": "stream",
     "text": [
      "+-----+--------------------+----------+--------------------+\n",
      "|churn|       rawPrediction|prediction|         probability|\n",
      "+-----+--------------------+----------+--------------------+\n",
      "|    0|[1.60399686438304...|       0.0|[0.83257626099389...|\n",
      "|    1|[1.26943433233612...|       0.0|[0.78064589955859...|\n",
      "|    0|[1.06470449173221...|       0.0|[0.74358855284140...|\n",
      "|    0|[1.84109689976983...|       0.0|[0.86307838418544...|\n",
      "|    1|[0.44011185184452...|       0.0|[0.60828568247929...|\n",
      "+-----+--------------------+----------+--------------------+\n",
      "only showing top 5 rows\n",
      "\n",
      "The area under PR for train set is 0.3896190375987564\n",
      "The area under PR for test set is 0.24708123324083958\n"
     ]
    }
   ],
   "source": [
    "AUC_PR=BinaryClassificationEvaluator(rawPredictionCol=\"rawPrediction\",labelCol=\"churn\", metricName='areaUnderPR')\n",
    "# areaUnderPR = Area under Precision-Recall => should be used when there is a moderate to large class imbalance.\n",
    "predict_test.select(\"churn\",\"rawPrediction\",\"prediction\",\"probability\")\n",
    "print(\"The area under PR for train set is {}\".format(evaluator.evaluate(predict_train)))\n",
    "print(\"The area under PR for test set is {}\".format(evaluator.evaluate(predict_test)))"
   ]
  },
  {
   "cell_type": "code",
   "execution_count": 72,
   "metadata": {},
   "outputs": [],
   "source": [
    "# Create ParamGrid for Cross Validation\n",
    "paramGrid = ParamGridBuilder().build()\n"
   ]
  },
  {
   "cell_type": "code",
   "execution_count": null,
   "metadata": {},
   "outputs": [],
   "source": [
    "# Create 5-fold CrossValidator\n",
    "cv = CrossValidator(estimator=lr, estimatorParamMaps=paramGrid, evaluator=evaluator, numFolds=5)\n",
    "\n",
    "# Run cross validations\n",
    "\n",
    "cvModel = cv.fit(training)\n",
    "# this will likely take a fair amount of time because of the amount of models that we're creating and testing\n",
    "pred = cvModel.transform(test)"
   ]
  },
  {
   "cell_type": "code",
   "execution_count": null,
   "metadata": {},
   "outputs": [],
   "source": []
  },
  {
   "cell_type": "markdown",
   "metadata": {},
   "source": [
    "#### Reference\n",
    "- https://spark.apache.org/docs/latest/ml-classification-regression.html\n",
    "- https://docs.databricks.com/applications/machine-learning/mllib/binary-classification-mllib-pipelines.html\n",
    "- https://medium.com/@dhiraj.p.rai/logistic-regression-in-spark-ml-8a95b5f5434c\n",
    "- https://databricks.com/session/apache-spark-mllib-2-0-preview-data-science-and-production"
   ]
  },
  {
   "cell_type": "code",
   "execution_count": null,
   "metadata": {},
   "outputs": [],
   "source": []
  }
 ],
 "metadata": {
  "kernelspec": {
   "display_name": "Python 3",
   "language": "python",
   "name": "python3"
  },
  "language_info": {
   "codemirror_mode": {
    "name": "ipython",
    "version": 3
   },
   "file_extension": ".py",
   "mimetype": "text/x-python",
   "name": "python",
   "nbconvert_exporter": "python",
   "pygments_lexer": "ipython3",
   "version": "3.7.4"
  }
 },
 "nbformat": 4,
 "nbformat_minor": 2
}
